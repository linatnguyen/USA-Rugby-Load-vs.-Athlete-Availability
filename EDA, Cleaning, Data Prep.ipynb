{
 "cells": [
  {
   "cell_type": "markdown",
   "id": "1ce09549",
   "metadata": {},
   "source": [
    "## USA Rugby EDA\n",
    "### on player availability, daily wellness, sonra"
   ]
  },
  {
   "cell_type": "code",
   "execution_count": 52,
   "id": "c8a2f7a5",
   "metadata": {},
   "outputs": [],
   "source": [
    "# EDA, manipuation, and cleaning packages\n",
    "import pandas as pd\n",
    "import numpy as np\n",
    "import matplotlib.pyplot as plt\n",
    "import seaborn as sns\n",
    "import matplotlib.ticker as mtick\n",
    "\n",
    "# modeling\n",
    "from sklearn.model_selection import train_test_split"
   ]
  },
  {
   "cell_type": "markdown",
   "id": "8579b0f3",
   "metadata": {},
   "source": [
    "### Import Data"
   ]
  },
  {
   "cell_type": "code",
   "execution_count": 2,
   "id": "d5be0208",
   "metadata": {},
   "outputs": [],
   "source": [
    "avail = pd.read_csv('/Users/linanguyen/Desktop/Capstone/Cap.csv', error_bad_lines = False)"
   ]
  },
  {
   "cell_type": "code",
   "execution_count": 3,
   "id": "94862f06",
   "metadata": {},
   "outputs": [
    {
     "data": {
      "text/html": [
       "<div>\n",
       "<style scoped>\n",
       "    .dataframe tbody tr th:only-of-type {\n",
       "        vertical-align: middle;\n",
       "    }\n",
       "\n",
       "    .dataframe tbody tr th {\n",
       "        vertical-align: top;\n",
       "    }\n",
       "\n",
       "    .dataframe thead th {\n",
       "        text-align: right;\n",
       "    }\n",
       "</style>\n",
       "<table border=\"1\" class=\"dataframe\">\n",
       "  <thead>\n",
       "    <tr style=\"text-align: right;\">\n",
       "      <th></th>\n",
       "      <th>Row Labels</th>\n",
       "      <th>Away</th>\n",
       "      <th>Full</th>\n",
       "      <th>Modified</th>\n",
       "      <th>No Training</th>\n",
       "      <th>Grand Total</th>\n",
       "    </tr>\n",
       "  </thead>\n",
       "  <tbody>\n",
       "    <tr>\n",
       "      <th>0</th>\n",
       "      <td>13/10/2019</td>\n",
       "      <td>NaN</td>\n",
       "      <td>12.0</td>\n",
       "      <td>NaN</td>\n",
       "      <td>NaN</td>\n",
       "      <td>12</td>\n",
       "    </tr>\n",
       "    <tr>\n",
       "      <th>1</th>\n",
       "      <td>13/12/2021</td>\n",
       "      <td>NaN</td>\n",
       "      <td>12.0</td>\n",
       "      <td>4.0</td>\n",
       "      <td>2.0</td>\n",
       "      <td>18</td>\n",
       "    </tr>\n",
       "    <tr>\n",
       "      <th>2</th>\n",
       "      <td>14/01/2022</td>\n",
       "      <td>1.0</td>\n",
       "      <td>14.0</td>\n",
       "      <td>1.0</td>\n",
       "      <td>3.0</td>\n",
       "      <td>19</td>\n",
       "    </tr>\n",
       "    <tr>\n",
       "      <th>3</th>\n",
       "      <td>14/02/2022</td>\n",
       "      <td>NaN</td>\n",
       "      <td>14.0</td>\n",
       "      <td>1.0</td>\n",
       "      <td>4.0</td>\n",
       "      <td>19</td>\n",
       "    </tr>\n",
       "    <tr>\n",
       "      <th>4</th>\n",
       "      <td>14/03/2021</td>\n",
       "      <td>NaN</td>\n",
       "      <td>1.0</td>\n",
       "      <td>NaN</td>\n",
       "      <td>NaN</td>\n",
       "      <td>1</td>\n",
       "    </tr>\n",
       "    <tr>\n",
       "      <th>...</th>\n",
       "      <td>...</td>\n",
       "      <td>...</td>\n",
       "      <td>...</td>\n",
       "      <td>...</td>\n",
       "      <td>...</td>\n",
       "      <td>...</td>\n",
       "    </tr>\n",
       "    <tr>\n",
       "      <th>147</th>\n",
       "      <td>11/4/22</td>\n",
       "      <td>NaN</td>\n",
       "      <td>13.0</td>\n",
       "      <td>4.0</td>\n",
       "      <td>2.0</td>\n",
       "      <td>19</td>\n",
       "    </tr>\n",
       "    <tr>\n",
       "      <th>148</th>\n",
       "      <td>12/1/22</td>\n",
       "      <td>1.0</td>\n",
       "      <td>15.0</td>\n",
       "      <td>NaN</td>\n",
       "      <td>3.0</td>\n",
       "      <td>19</td>\n",
       "    </tr>\n",
       "    <tr>\n",
       "      <th>149</th>\n",
       "      <td>12/3/22</td>\n",
       "      <td>NaN</td>\n",
       "      <td>14.0</td>\n",
       "      <td>2.0</td>\n",
       "      <td>3.0</td>\n",
       "      <td>19</td>\n",
       "    </tr>\n",
       "    <tr>\n",
       "      <th>150</th>\n",
       "      <td>12/4/22</td>\n",
       "      <td>NaN</td>\n",
       "      <td>11.0</td>\n",
       "      <td>5.0</td>\n",
       "      <td>3.0</td>\n",
       "      <td>19</td>\n",
       "    </tr>\n",
       "    <tr>\n",
       "      <th>151</th>\n",
       "      <td>12/5/22</td>\n",
       "      <td>NaN</td>\n",
       "      <td>14.0</td>\n",
       "      <td>3.0</td>\n",
       "      <td>2.0</td>\n",
       "      <td>19</td>\n",
       "    </tr>\n",
       "  </tbody>\n",
       "</table>\n",
       "<p>152 rows × 6 columns</p>\n",
       "</div>"
      ],
      "text/plain": [
       "     Row Labels  Away  Full  Modified  No Training  Grand Total\n",
       "0    13/10/2019   NaN  12.0       NaN          NaN           12\n",
       "1    13/12/2021   NaN  12.0       4.0          2.0           18\n",
       "2    14/01/2022   1.0  14.0       1.0          3.0           19\n",
       "3    14/02/2022   NaN  14.0       1.0          4.0           19\n",
       "4    14/03/2021   NaN   1.0       NaN          NaN            1\n",
       "..          ...   ...   ...       ...          ...          ...\n",
       "147     11/4/22   NaN  13.0       4.0          2.0           19\n",
       "148     12/1/22   1.0  15.0       NaN          3.0           19\n",
       "149     12/3/22   NaN  14.0       2.0          3.0           19\n",
       "150     12/4/22   NaN  11.0       5.0          3.0           19\n",
       "151     12/5/22   NaN  14.0       3.0          2.0           19\n",
       "\n",
       "[152 rows x 6 columns]"
      ]
     },
     "execution_count": 3,
     "metadata": {},
     "output_type": "execute_result"
    }
   ],
   "source": [
    "avail"
   ]
  },
  {
   "cell_type": "code",
   "execution_count": 4,
   "id": "16f97bac",
   "metadata": {},
   "outputs": [],
   "source": [
    "well = pd.read_csv('/Users/linanguyen/Desktop/Capstone/daily wellness excel report.csv')"
   ]
  },
  {
   "cell_type": "code",
   "execution_count": 5,
   "id": "765d451a",
   "metadata": {},
   "outputs": [
    {
     "data": {
      "text/plain": [
       "Index(['Date', 'About', 'by', '7s Position', 'Sex',\n",
       "       'Have you had any COVID related symptoms?', 'Cough',\n",
       "       'Shortness of breath', 'Sore throat', 'Nasal congestion',\n",
       "       ...\n",
       "       'Mood Mean', 'Mood Stddev', 'Mood Z Score', 'Mood Status', 'Mood STEN',\n",
       "       'Soreness Feedback', 'Sleep Duration Feedback', 'Index',\n",
       "       'Entries in Last 30 Days', '30 Day Compliance'],\n",
       "      dtype='object', length=101)"
      ]
     },
     "execution_count": 5,
     "metadata": {},
     "output_type": "execute_result"
    }
   ],
   "source": [
    "well.columns"
   ]
  },
  {
   "cell_type": "code",
   "execution_count": 6,
   "id": "6f83fdc9",
   "metadata": {},
   "outputs": [
    {
     "name": "stderr",
     "output_type": "stream",
     "text": [
      "/Users/linanguyen/opt/anaconda3/lib/python3.8/site-packages/IPython/core/interactiveshell.py:3165: DtypeWarning: Columns (16) have mixed types.Specify dtype option on import or set low_memory=False.\n",
      "  has_raised = await self.run_ast_nodes(code_ast.body, cell_name,\n"
     ]
    }
   ],
   "source": [
    "stat = pd.read_csv('/Users/linanguyen/Desktop/Capstone/statsports sonra excel report.csv')"
   ]
  },
  {
   "cell_type": "code",
   "execution_count": 7,
   "id": "ece683f8",
   "metadata": {},
   "outputs": [
    {
     "data": {
      "text/plain": [
       "Index(['Date', 'About', 'Player', 'DOB', 'Age', 'Position', 'Month',\n",
       "       'Year Text', 'Year Number', 'Season',\n",
       "       ...\n",
       "       'HSR Monthly Load', 'HSR AC', 'Running Distance AC',\n",
       "       'Z6 Distance 7 Day Load', 'Z6 Distance 28 Day Load',\n",
       "       'Sprint Distance Monthly', 'Z6 Distance AC', 'HI A+D 7 Day Load',\n",
       "       'HI A+D 28 Day Load', 'HI A+D AC'],\n",
       "      dtype='object', length=318)"
      ]
     },
     "execution_count": 7,
     "metadata": {},
     "output_type": "execute_result"
    }
   ],
   "source": [
    "stat.columns"
   ]
  },
  {
   "cell_type": "markdown",
   "id": "d6f2d88b",
   "metadata": {},
   "source": [
    "### Cleaning Data"
   ]
  },
  {
   "cell_type": "code",
   "execution_count": 8,
   "id": "69aa04ab",
   "metadata": {},
   "outputs": [],
   "source": [
    "# wellness data\n",
    "# we will only keep columns Date, and Wellness Score, and find team average of wellness score by date\n",
    "# for reference, wellness score tells us the phyisical and emotional state of an athelte that day, out of 42\n",
    "wellsmall = well[['Date', 'Wellness Score']]"
   ]
  },
  {
   "cell_type": "code",
   "execution_count": 9,
   "id": "462eb54a",
   "metadata": {},
   "outputs": [
    {
     "name": "stderr",
     "output_type": "stream",
     "text": [
      "<ipython-input-9-4c3a0dc02402>:2: SettingWithCopyWarning: \n",
      "A value is trying to be set on a copy of a slice from a DataFrame.\n",
      "Try using .loc[row_indexer,col_indexer] = value instead\n",
      "\n",
      "See the caveats in the documentation: https://pandas.pydata.org/pandas-docs/stable/user_guide/indexing.html#returning-a-view-versus-a-copy\n",
      "  wellsmall['Date'] = pd.to_datetime(wellsmall['Date'])\n"
     ]
    }
   ],
   "source": [
    "# convert Date to datetime format\n",
    "wellsmall['Date'] = pd.to_datetime(wellsmall['Date'])"
   ]
  },
  {
   "cell_type": "code",
   "execution_count": 10,
   "id": "e382c332",
   "metadata": {},
   "outputs": [
    {
     "name": "stdout",
     "output_type": "stream",
     "text": [
      "<class 'pandas.core.frame.DataFrame'>\n",
      "RangeIndex: 4329 entries, 0 to 4328\n",
      "Data columns (total 2 columns):\n",
      " #   Column          Non-Null Count  Dtype         \n",
      "---  ------          --------------  -----         \n",
      " 0   Date            4329 non-null   datetime64[ns]\n",
      " 1   Wellness Score  2607 non-null   float64       \n",
      "dtypes: datetime64[ns](1), float64(1)\n",
      "memory usage: 67.8 KB\n"
     ]
    }
   ],
   "source": [
    "wellsmall.info()"
   ]
  },
  {
   "cell_type": "code",
   "execution_count": 11,
   "id": "f39aab3f",
   "metadata": {},
   "outputs": [
    {
     "data": {
      "text/html": [
       "<div>\n",
       "<style scoped>\n",
       "    .dataframe tbody tr th:only-of-type {\n",
       "        vertical-align: middle;\n",
       "    }\n",
       "\n",
       "    .dataframe tbody tr th {\n",
       "        vertical-align: top;\n",
       "    }\n",
       "\n",
       "    .dataframe thead th {\n",
       "        text-align: right;\n",
       "    }\n",
       "</style>\n",
       "<table border=\"1\" class=\"dataframe\">\n",
       "  <thead>\n",
       "    <tr style=\"text-align: right;\">\n",
       "      <th></th>\n",
       "      <th>Date</th>\n",
       "      <th>Wellness Score</th>\n",
       "    </tr>\n",
       "  </thead>\n",
       "  <tbody>\n",
       "    <tr>\n",
       "      <th>0</th>\n",
       "      <td>2021-01-11</td>\n",
       "      <td>27.058824</td>\n",
       "    </tr>\n",
       "    <tr>\n",
       "      <th>1</th>\n",
       "      <td>2021-01-12</td>\n",
       "      <td>25.416667</td>\n",
       "    </tr>\n",
       "    <tr>\n",
       "      <th>2</th>\n",
       "      <td>2021-02-11</td>\n",
       "      <td>24.625000</td>\n",
       "    </tr>\n",
       "    <tr>\n",
       "      <th>3</th>\n",
       "      <td>2021-02-12</td>\n",
       "      <td>25.909091</td>\n",
       "    </tr>\n",
       "    <tr>\n",
       "      <th>4</th>\n",
       "      <td>2021-03-11</td>\n",
       "      <td>24.400000</td>\n",
       "    </tr>\n",
       "    <tr>\n",
       "      <th>...</th>\n",
       "      <td>...</td>\n",
       "      <td>...</td>\n",
       "    </tr>\n",
       "    <tr>\n",
       "      <th>248</th>\n",
       "      <td>2022-12-02</td>\n",
       "      <td>22.600000</td>\n",
       "    </tr>\n",
       "    <tr>\n",
       "      <th>249</th>\n",
       "      <td>2022-12-03</td>\n",
       "      <td>25.928571</td>\n",
       "    </tr>\n",
       "    <tr>\n",
       "      <th>250</th>\n",
       "      <td>2022-12-04</td>\n",
       "      <td>26.500000</td>\n",
       "    </tr>\n",
       "    <tr>\n",
       "      <th>251</th>\n",
       "      <td>2022-12-05</td>\n",
       "      <td>28.687500</td>\n",
       "    </tr>\n",
       "    <tr>\n",
       "      <th>252</th>\n",
       "      <td>2022-12-06</td>\n",
       "      <td>23.000000</td>\n",
       "    </tr>\n",
       "  </tbody>\n",
       "</table>\n",
       "<p>253 rows × 2 columns</p>\n",
       "</div>"
      ],
      "text/plain": [
       "          Date  Wellness Score\n",
       "0   2021-01-11       27.058824\n",
       "1   2021-01-12       25.416667\n",
       "2   2021-02-11       24.625000\n",
       "3   2021-02-12       25.909091\n",
       "4   2021-03-11       24.400000\n",
       "..         ...             ...\n",
       "248 2022-12-02       22.600000\n",
       "249 2022-12-03       25.928571\n",
       "250 2022-12-04       26.500000\n",
       "251 2022-12-05       28.687500\n",
       "252 2022-12-06       23.000000\n",
       "\n",
       "[253 rows x 2 columns]"
      ]
     },
     "execution_count": 11,
     "metadata": {},
     "output_type": "execute_result"
    }
   ],
   "source": [
    "# grouping data by date column\n",
    "wellsmall = wellsmall.groupby('Date', as_index = False)['Wellness Score'].mean()\n",
    "wellsmall"
   ]
  },
  {
   "cell_type": "code",
   "execution_count": 12,
   "id": "4335fc00",
   "metadata": {},
   "outputs": [
    {
     "data": {
      "text/html": [
       "<div>\n",
       "<style scoped>\n",
       "    .dataframe tbody tr th:only-of-type {\n",
       "        vertical-align: middle;\n",
       "    }\n",
       "\n",
       "    .dataframe tbody tr th {\n",
       "        vertical-align: top;\n",
       "    }\n",
       "\n",
       "    .dataframe thead th {\n",
       "        text-align: right;\n",
       "    }\n",
       "</style>\n",
       "<table border=\"1\" class=\"dataframe\">\n",
       "  <thead>\n",
       "    <tr style=\"text-align: right;\">\n",
       "      <th></th>\n",
       "      <th>Wellness Score</th>\n",
       "    </tr>\n",
       "  </thead>\n",
       "  <tbody>\n",
       "    <tr>\n",
       "      <th>count</th>\n",
       "      <td>253.000000</td>\n",
       "    </tr>\n",
       "    <tr>\n",
       "      <th>mean</th>\n",
       "      <td>26.519064</td>\n",
       "    </tr>\n",
       "    <tr>\n",
       "      <th>std</th>\n",
       "      <td>2.458463</td>\n",
       "    </tr>\n",
       "    <tr>\n",
       "      <th>min</th>\n",
       "      <td>16.500000</td>\n",
       "    </tr>\n",
       "    <tr>\n",
       "      <th>25%</th>\n",
       "      <td>25.285714</td>\n",
       "    </tr>\n",
       "    <tr>\n",
       "      <th>50%</th>\n",
       "      <td>26.684211</td>\n",
       "    </tr>\n",
       "    <tr>\n",
       "      <th>75%</th>\n",
       "      <td>28.090909</td>\n",
       "    </tr>\n",
       "    <tr>\n",
       "      <th>max</th>\n",
       "      <td>32.666667</td>\n",
       "    </tr>\n",
       "  </tbody>\n",
       "</table>\n",
       "</div>"
      ],
      "text/plain": [
       "       Wellness Score\n",
       "count      253.000000\n",
       "mean        26.519064\n",
       "std          2.458463\n",
       "min         16.500000\n",
       "25%         25.285714\n",
       "50%         26.684211\n",
       "75%         28.090909\n",
       "max         32.666667"
      ]
     },
     "execution_count": 12,
     "metadata": {},
     "output_type": "execute_result"
    }
   ],
   "source": [
    "# look at distribution. Wellness score is out of 42\n",
    "wellsmall.describe()"
   ]
  },
  {
   "cell_type": "code",
   "execution_count": 13,
   "id": "a9e60d03",
   "metadata": {},
   "outputs": [
    {
     "data": {
      "text/plain": [
       "0"
      ]
     },
     "execution_count": 13,
     "metadata": {},
     "output_type": "execute_result"
    }
   ],
   "source": [
    "# check for null values\n",
    "wellsmall['Wellness Score'].isna().sum()"
   ]
  },
  {
   "cell_type": "code",
   "execution_count": 14,
   "id": "fe869e41",
   "metadata": {},
   "outputs": [],
   "source": [
    "# Daily Availability\n",
    "# Full = 2, Modified = 1, No Training = 0\n",
    "# make dataframe of Date, count of full, count of modified, count of no training, % of full availability\n",
    "# replace NaN with 0\n",
    "avail = avail.fillna(0)"
   ]
  },
  {
   "cell_type": "code",
   "execution_count": 15,
   "id": "b1814aa4",
   "metadata": {},
   "outputs": [],
   "source": [
    "# create a column of full availability percentage\n",
    "avail['Full%'] = avail['Full']/avail['Grand Total'] "
   ]
  },
  {
   "cell_type": "code",
   "execution_count": 16,
   "id": "17f5b44f",
   "metadata": {},
   "outputs": [
    {
     "name": "stdout",
     "output_type": "stream",
     "text": [
      "<class 'pandas.core.frame.DataFrame'>\n",
      "RangeIndex: 152 entries, 0 to 151\n",
      "Data columns (total 7 columns):\n",
      " #   Column       Non-Null Count  Dtype         \n",
      "---  ------       --------------  -----         \n",
      " 0   Row Labels   152 non-null    datetime64[ns]\n",
      " 1   Away         152 non-null    float64       \n",
      " 2   Full         152 non-null    float64       \n",
      " 3   Modified     152 non-null    float64       \n",
      " 4   No Training  152 non-null    float64       \n",
      " 5   Grand Total  152 non-null    int64         \n",
      " 6   Full%        152 non-null    float64       \n",
      "dtypes: datetime64[ns](1), float64(5), int64(1)\n",
      "memory usage: 8.4 KB\n"
     ]
    }
   ],
   "source": [
    "# convert Date to datetime format\n",
    "avail['Row Labels'] = pd.to_datetime(avail['Row Labels'])\n",
    "avail.info()"
   ]
  },
  {
   "cell_type": "code",
   "execution_count": 17,
   "id": "66ebef76",
   "metadata": {},
   "outputs": [],
   "source": [
    "# rename 'Row Labels' to 'Date'\n",
    "avail = avail.rename(columns = {\"Row Labels\": \"Date\"})"
   ]
  },
  {
   "cell_type": "code",
   "execution_count": 18,
   "id": "b6e53637",
   "metadata": {},
   "outputs": [
    {
     "data": {
      "text/html": [
       "<div>\n",
       "<style scoped>\n",
       "    .dataframe tbody tr th:only-of-type {\n",
       "        vertical-align: middle;\n",
       "    }\n",
       "\n",
       "    .dataframe tbody tr th {\n",
       "        vertical-align: top;\n",
       "    }\n",
       "\n",
       "    .dataframe thead th {\n",
       "        text-align: right;\n",
       "    }\n",
       "</style>\n",
       "<table border=\"1\" class=\"dataframe\">\n",
       "  <thead>\n",
       "    <tr style=\"text-align: right;\">\n",
       "      <th></th>\n",
       "      <th>Away</th>\n",
       "      <th>Full</th>\n",
       "      <th>Modified</th>\n",
       "      <th>No Training</th>\n",
       "      <th>Grand Total</th>\n",
       "      <th>Full%</th>\n",
       "    </tr>\n",
       "  </thead>\n",
       "  <tbody>\n",
       "    <tr>\n",
       "      <th>count</th>\n",
       "      <td>152.000000</td>\n",
       "      <td>152.000000</td>\n",
       "      <td>152.000000</td>\n",
       "      <td>152.000000</td>\n",
       "      <td>152.000000</td>\n",
       "      <td>152.000000</td>\n",
       "    </tr>\n",
       "    <tr>\n",
       "      <th>mean</th>\n",
       "      <td>0.671053</td>\n",
       "      <td>11.342105</td>\n",
       "      <td>1.815789</td>\n",
       "      <td>2.236842</td>\n",
       "      <td>16.065789</td>\n",
       "      <td>0.737099</td>\n",
       "    </tr>\n",
       "    <tr>\n",
       "      <th>std</th>\n",
       "      <td>1.555917</td>\n",
       "      <td>4.075618</td>\n",
       "      <td>1.621140</td>\n",
       "      <td>1.811431</td>\n",
       "      <td>5.668165</td>\n",
       "      <td>0.206601</td>\n",
       "    </tr>\n",
       "    <tr>\n",
       "      <th>min</th>\n",
       "      <td>0.000000</td>\n",
       "      <td>0.000000</td>\n",
       "      <td>0.000000</td>\n",
       "      <td>0.000000</td>\n",
       "      <td>1.000000</td>\n",
       "      <td>0.000000</td>\n",
       "    </tr>\n",
       "    <tr>\n",
       "      <th>25%</th>\n",
       "      <td>0.000000</td>\n",
       "      <td>11.000000</td>\n",
       "      <td>0.000000</td>\n",
       "      <td>0.000000</td>\n",
       "      <td>12.000000</td>\n",
       "      <td>0.600000</td>\n",
       "    </tr>\n",
       "    <tr>\n",
       "      <th>50%</th>\n",
       "      <td>0.000000</td>\n",
       "      <td>12.000000</td>\n",
       "      <td>2.000000</td>\n",
       "      <td>2.000000</td>\n",
       "      <td>19.000000</td>\n",
       "      <td>0.736842</td>\n",
       "    </tr>\n",
       "    <tr>\n",
       "      <th>75%</th>\n",
       "      <td>1.000000</td>\n",
       "      <td>13.000000</td>\n",
       "      <td>3.000000</td>\n",
       "      <td>4.000000</td>\n",
       "      <td>19.000000</td>\n",
       "      <td>1.000000</td>\n",
       "    </tr>\n",
       "    <tr>\n",
       "      <th>max</th>\n",
       "      <td>8.000000</td>\n",
       "      <td>30.000000</td>\n",
       "      <td>5.000000</td>\n",
       "      <td>7.000000</td>\n",
       "      <td>38.000000</td>\n",
       "      <td>1.000000</td>\n",
       "    </tr>\n",
       "  </tbody>\n",
       "</table>\n",
       "</div>"
      ],
      "text/plain": [
       "             Away        Full    Modified  No Training  Grand Total  \\\n",
       "count  152.000000  152.000000  152.000000   152.000000   152.000000   \n",
       "mean     0.671053   11.342105    1.815789     2.236842    16.065789   \n",
       "std      1.555917    4.075618    1.621140     1.811431     5.668165   \n",
       "min      0.000000    0.000000    0.000000     0.000000     1.000000   \n",
       "25%      0.000000   11.000000    0.000000     0.000000    12.000000   \n",
       "50%      0.000000   12.000000    2.000000     2.000000    19.000000   \n",
       "75%      1.000000   13.000000    3.000000     4.000000    19.000000   \n",
       "max      8.000000   30.000000    5.000000     7.000000    38.000000   \n",
       "\n",
       "            Full%  \n",
       "count  152.000000  \n",
       "mean     0.737099  \n",
       "std      0.206601  \n",
       "min      0.000000  \n",
       "25%      0.600000  \n",
       "50%      0.736842  \n",
       "75%      1.000000  \n",
       "max      1.000000  "
      ]
     },
     "execution_count": 18,
     "metadata": {},
     "output_type": "execute_result"
    }
   ],
   "source": [
    "avail.describe()"
   ]
  },
  {
   "cell_type": "code",
   "execution_count": 19,
   "id": "220ae4e1",
   "metadata": {},
   "outputs": [],
   "source": [
    "# SONRA Stat\n",
    "# Running load will only be examined because that's what is mainly looked at for team field sports\n",
    "statsmall = stat[['Date', 'Drill Running Load', 'Total Weekly Running Load', 'Running 7 Day Load', 'Running 28 Day Load']]"
   ]
  },
  {
   "cell_type": "code",
   "execution_count": 20,
   "id": "67ca4cad",
   "metadata": {},
   "outputs": [],
   "source": [
    "# drop rows with NaN because every practice, every player produces 6 rows of data, with 5 rows empty in load columns\n",
    "# finding team averages by date\n",
    "statsmall = statsmall.dropna()\n",
    "statsmall = statsmall.groupby('Date', as_index = False)[['Drill Running Load', 'Total Weekly Running Load', 'Running 7 Day Load', 'Running 28 Day Load']].mean()"
   ]
  },
  {
   "cell_type": "code",
   "execution_count": 21,
   "id": "eae7ce19",
   "metadata": {},
   "outputs": [],
   "source": [
    "# convert Date to datetime format\n",
    "statsmall['Date'] = pd.to_datetime(statsmall['Date'])"
   ]
  },
  {
   "cell_type": "code",
   "execution_count": 22,
   "id": "7ec4f7e1",
   "metadata": {},
   "outputs": [
    {
     "name": "stdout",
     "output_type": "stream",
     "text": [
      "<class 'pandas.core.frame.DataFrame'>\n",
      "Int64Index: 249 entries, 0 to 248\n",
      "Data columns (total 5 columns):\n",
      " #   Column                     Non-Null Count  Dtype         \n",
      "---  ------                     --------------  -----         \n",
      " 0   Date                       249 non-null    datetime64[ns]\n",
      " 1   Drill Running Load         249 non-null    float64       \n",
      " 2   Total Weekly Running Load  249 non-null    float64       \n",
      " 3   Running 7 Day Load         249 non-null    float64       \n",
      " 4   Running 28 Day Load        249 non-null    float64       \n",
      "dtypes: datetime64[ns](1), float64(4)\n",
      "memory usage: 11.7 KB\n"
     ]
    }
   ],
   "source": [
    "statsmall.info()"
   ]
  },
  {
   "cell_type": "code",
   "execution_count": 23,
   "id": "0a5e931e",
   "metadata": {},
   "outputs": [
    {
     "data": {
      "text/html": [
       "<div>\n",
       "<style scoped>\n",
       "    .dataframe tbody tr th:only-of-type {\n",
       "        vertical-align: middle;\n",
       "    }\n",
       "\n",
       "    .dataframe tbody tr th {\n",
       "        vertical-align: top;\n",
       "    }\n",
       "\n",
       "    .dataframe thead th {\n",
       "        text-align: right;\n",
       "    }\n",
       "</style>\n",
       "<table border=\"1\" class=\"dataframe\">\n",
       "  <thead>\n",
       "    <tr style=\"text-align: right;\">\n",
       "      <th></th>\n",
       "      <th>Date</th>\n",
       "      <th>Drill Running Load</th>\n",
       "      <th>Total Weekly Running Load</th>\n",
       "      <th>Running 7 Day Load</th>\n",
       "      <th>Running 28 Day Load</th>\n",
       "    </tr>\n",
       "  </thead>\n",
       "  <tbody>\n",
       "    <tr>\n",
       "      <th>0</th>\n",
       "      <td>2021-01-10</td>\n",
       "      <td>82.666667</td>\n",
       "      <td>223.666667</td>\n",
       "      <td>1004.333333</td>\n",
       "      <td>1048.666667</td>\n",
       "    </tr>\n",
       "    <tr>\n",
       "      <th>1</th>\n",
       "      <td>2021-01-11</td>\n",
       "      <td>73.588235</td>\n",
       "      <td>109.352941</td>\n",
       "      <td>1073.117647</td>\n",
       "      <td>1292.352941</td>\n",
       "    </tr>\n",
       "    <tr>\n",
       "      <th>2</th>\n",
       "      <td>2021-01-02</td>\n",
       "      <td>36.958333</td>\n",
       "      <td>53.250000</td>\n",
       "      <td>641.416667</td>\n",
       "      <td>641.416667</td>\n",
       "    </tr>\n",
       "    <tr>\n",
       "      <th>3</th>\n",
       "      <td>2022-01-03</td>\n",
       "      <td>50.270270</td>\n",
       "      <td>67.486486</td>\n",
       "      <td>1245.675676</td>\n",
       "      <td>1151.648649</td>\n",
       "    </tr>\n",
       "    <tr>\n",
       "      <th>4</th>\n",
       "      <td>2022-01-04</td>\n",
       "      <td>33.068966</td>\n",
       "      <td>275.241379</td>\n",
       "      <td>1431.620690</td>\n",
       "      <td>1210.827586</td>\n",
       "    </tr>\n",
       "    <tr>\n",
       "      <th>...</th>\n",
       "      <td>...</td>\n",
       "      <td>...</td>\n",
       "      <td>...</td>\n",
       "      <td>...</td>\n",
       "      <td>...</td>\n",
       "    </tr>\n",
       "    <tr>\n",
       "      <th>244</th>\n",
       "      <td>2021-09-04</td>\n",
       "      <td>19.541667</td>\n",
       "      <td>173.875000</td>\n",
       "      <td>655.708333</td>\n",
       "      <td>871.208333</td>\n",
       "    </tr>\n",
       "    <tr>\n",
       "      <th>245</th>\n",
       "      <td>2022-09-05</td>\n",
       "      <td>49.545455</td>\n",
       "      <td>70.696970</td>\n",
       "      <td>1725.818182</td>\n",
       "      <td>1054.939394</td>\n",
       "    </tr>\n",
       "    <tr>\n",
       "      <th>246</th>\n",
       "      <td>2021-09-06</td>\n",
       "      <td>72.736842</td>\n",
       "      <td>167.157895</td>\n",
       "      <td>889.473684</td>\n",
       "      <td>852.473684</td>\n",
       "    </tr>\n",
       "    <tr>\n",
       "      <th>247</th>\n",
       "      <td>2021-09-07</td>\n",
       "      <td>55.300000</td>\n",
       "      <td>333.300000</td>\n",
       "      <td>1299.900000</td>\n",
       "      <td>1181.800000</td>\n",
       "    </tr>\n",
       "    <tr>\n",
       "      <th>248</th>\n",
       "      <td>2021-09-09</td>\n",
       "      <td>23.250000</td>\n",
       "      <td>95.500000</td>\n",
       "      <td>1043.166667</td>\n",
       "      <td>1134.583333</td>\n",
       "    </tr>\n",
       "  </tbody>\n",
       "</table>\n",
       "<p>249 rows × 5 columns</p>\n",
       "</div>"
      ],
      "text/plain": [
       "          Date  Drill Running Load  Total Weekly Running Load  \\\n",
       "0   2021-01-10           82.666667                 223.666667   \n",
       "1   2021-01-11           73.588235                 109.352941   \n",
       "2   2021-01-02           36.958333                  53.250000   \n",
       "3   2022-01-03           50.270270                  67.486486   \n",
       "4   2022-01-04           33.068966                 275.241379   \n",
       "..         ...                 ...                        ...   \n",
       "244 2021-09-04           19.541667                 173.875000   \n",
       "245 2022-09-05           49.545455                  70.696970   \n",
       "246 2021-09-06           72.736842                 167.157895   \n",
       "247 2021-09-07           55.300000                 333.300000   \n",
       "248 2021-09-09           23.250000                  95.500000   \n",
       "\n",
       "     Running 7 Day Load  Running 28 Day Load  \n",
       "0           1004.333333          1048.666667  \n",
       "1           1073.117647          1292.352941  \n",
       "2            641.416667           641.416667  \n",
       "3           1245.675676          1151.648649  \n",
       "4           1431.620690          1210.827586  \n",
       "..                  ...                  ...  \n",
       "244          655.708333           871.208333  \n",
       "245         1725.818182          1054.939394  \n",
       "246          889.473684           852.473684  \n",
       "247         1299.900000          1181.800000  \n",
       "248         1043.166667          1134.583333  \n",
       "\n",
       "[249 rows x 5 columns]"
      ]
     },
     "execution_count": 23,
     "metadata": {},
     "output_type": "execute_result"
    }
   ],
   "source": [
    "statsmall"
   ]
  },
  {
   "cell_type": "code",
   "execution_count": 24,
   "id": "71c09ed8",
   "metadata": {},
   "outputs": [],
   "source": [
    "# merge data by date\n",
    "df = statsmall.merge(avail, how = 'left', on = 'Date')\n",
    "df = df.merge(wellsmall, how = 'left', on = 'Date')"
   ]
  },
  {
   "cell_type": "code",
   "execution_count": 25,
   "id": "ee740bc1",
   "metadata": {},
   "outputs": [
    {
     "data": {
      "text/html": [
       "<div>\n",
       "<style scoped>\n",
       "    .dataframe tbody tr th:only-of-type {\n",
       "        vertical-align: middle;\n",
       "    }\n",
       "\n",
       "    .dataframe tbody tr th {\n",
       "        vertical-align: top;\n",
       "    }\n",
       "\n",
       "    .dataframe thead th {\n",
       "        text-align: right;\n",
       "    }\n",
       "</style>\n",
       "<table border=\"1\" class=\"dataframe\">\n",
       "  <thead>\n",
       "    <tr style=\"text-align: right;\">\n",
       "      <th></th>\n",
       "      <th>Date</th>\n",
       "      <th>Drill Running Load</th>\n",
       "      <th>Total Weekly Running Load</th>\n",
       "      <th>Running 7 Day Load</th>\n",
       "      <th>Running 28 Day Load</th>\n",
       "      <th>Away</th>\n",
       "      <th>Full</th>\n",
       "      <th>Modified</th>\n",
       "      <th>No Training</th>\n",
       "      <th>Grand Total</th>\n",
       "      <th>Full%</th>\n",
       "      <th>Wellness Score</th>\n",
       "    </tr>\n",
       "  </thead>\n",
       "  <tbody>\n",
       "    <tr>\n",
       "      <th>0</th>\n",
       "      <td>2021-01-10</td>\n",
       "      <td>82.666667</td>\n",
       "      <td>223.666667</td>\n",
       "      <td>1004.333333</td>\n",
       "      <td>1048.666667</td>\n",
       "      <td>NaN</td>\n",
       "      <td>NaN</td>\n",
       "      <td>NaN</td>\n",
       "      <td>NaN</td>\n",
       "      <td>NaN</td>\n",
       "      <td>NaN</td>\n",
       "      <td>NaN</td>\n",
       "    </tr>\n",
       "    <tr>\n",
       "      <th>1</th>\n",
       "      <td>2021-01-11</td>\n",
       "      <td>73.588235</td>\n",
       "      <td>109.352941</td>\n",
       "      <td>1073.117647</td>\n",
       "      <td>1292.352941</td>\n",
       "      <td>4.0</td>\n",
       "      <td>7.0</td>\n",
       "      <td>2.0</td>\n",
       "      <td>5.0</td>\n",
       "      <td>18.0</td>\n",
       "      <td>0.388889</td>\n",
       "      <td>27.058824</td>\n",
       "    </tr>\n",
       "    <tr>\n",
       "      <th>2</th>\n",
       "      <td>2021-01-02</td>\n",
       "      <td>36.958333</td>\n",
       "      <td>53.250000</td>\n",
       "      <td>641.416667</td>\n",
       "      <td>641.416667</td>\n",
       "      <td>NaN</td>\n",
       "      <td>NaN</td>\n",
       "      <td>NaN</td>\n",
       "      <td>NaN</td>\n",
       "      <td>NaN</td>\n",
       "      <td>NaN</td>\n",
       "      <td>NaN</td>\n",
       "    </tr>\n",
       "    <tr>\n",
       "      <th>3</th>\n",
       "      <td>2022-01-03</td>\n",
       "      <td>50.270270</td>\n",
       "      <td>67.486486</td>\n",
       "      <td>1245.675676</td>\n",
       "      <td>1151.648649</td>\n",
       "      <td>0.0</td>\n",
       "      <td>30.0</td>\n",
       "      <td>4.0</td>\n",
       "      <td>4.0</td>\n",
       "      <td>38.0</td>\n",
       "      <td>0.789474</td>\n",
       "      <td>30.692308</td>\n",
       "    </tr>\n",
       "    <tr>\n",
       "      <th>4</th>\n",
       "      <td>2022-01-04</td>\n",
       "      <td>33.068966</td>\n",
       "      <td>275.241379</td>\n",
       "      <td>1431.620690</td>\n",
       "      <td>1210.827586</td>\n",
       "      <td>NaN</td>\n",
       "      <td>NaN</td>\n",
       "      <td>NaN</td>\n",
       "      <td>NaN</td>\n",
       "      <td>NaN</td>\n",
       "      <td>NaN</td>\n",
       "      <td>27.357143</td>\n",
       "    </tr>\n",
       "    <tr>\n",
       "      <th>...</th>\n",
       "      <td>...</td>\n",
       "      <td>...</td>\n",
       "      <td>...</td>\n",
       "      <td>...</td>\n",
       "      <td>...</td>\n",
       "      <td>...</td>\n",
       "      <td>...</td>\n",
       "      <td>...</td>\n",
       "      <td>...</td>\n",
       "      <td>...</td>\n",
       "      <td>...</td>\n",
       "      <td>...</td>\n",
       "    </tr>\n",
       "    <tr>\n",
       "      <th>244</th>\n",
       "      <td>2021-09-04</td>\n",
       "      <td>19.541667</td>\n",
       "      <td>173.875000</td>\n",
       "      <td>655.708333</td>\n",
       "      <td>871.208333</td>\n",
       "      <td>NaN</td>\n",
       "      <td>NaN</td>\n",
       "      <td>NaN</td>\n",
       "      <td>NaN</td>\n",
       "      <td>NaN</td>\n",
       "      <td>NaN</td>\n",
       "      <td>NaN</td>\n",
       "    </tr>\n",
       "    <tr>\n",
       "      <th>245</th>\n",
       "      <td>2022-09-05</td>\n",
       "      <td>49.545455</td>\n",
       "      <td>70.696970</td>\n",
       "      <td>1725.818182</td>\n",
       "      <td>1054.939394</td>\n",
       "      <td>0.0</td>\n",
       "      <td>14.0</td>\n",
       "      <td>3.0</td>\n",
       "      <td>2.0</td>\n",
       "      <td>19.0</td>\n",
       "      <td>0.736842</td>\n",
       "      <td>29.545455</td>\n",
       "    </tr>\n",
       "    <tr>\n",
       "      <th>246</th>\n",
       "      <td>2021-09-06</td>\n",
       "      <td>72.736842</td>\n",
       "      <td>167.157895</td>\n",
       "      <td>889.473684</td>\n",
       "      <td>852.473684</td>\n",
       "      <td>NaN</td>\n",
       "      <td>NaN</td>\n",
       "      <td>NaN</td>\n",
       "      <td>NaN</td>\n",
       "      <td>NaN</td>\n",
       "      <td>NaN</td>\n",
       "      <td>NaN</td>\n",
       "    </tr>\n",
       "    <tr>\n",
       "      <th>247</th>\n",
       "      <td>2021-09-07</td>\n",
       "      <td>55.300000</td>\n",
       "      <td>333.300000</td>\n",
       "      <td>1299.900000</td>\n",
       "      <td>1181.800000</td>\n",
       "      <td>NaN</td>\n",
       "      <td>NaN</td>\n",
       "      <td>NaN</td>\n",
       "      <td>NaN</td>\n",
       "      <td>NaN</td>\n",
       "      <td>NaN</td>\n",
       "      <td>NaN</td>\n",
       "    </tr>\n",
       "    <tr>\n",
       "      <th>248</th>\n",
       "      <td>2021-09-09</td>\n",
       "      <td>23.250000</td>\n",
       "      <td>95.500000</td>\n",
       "      <td>1043.166667</td>\n",
       "      <td>1134.583333</td>\n",
       "      <td>NaN</td>\n",
       "      <td>NaN</td>\n",
       "      <td>NaN</td>\n",
       "      <td>NaN</td>\n",
       "      <td>NaN</td>\n",
       "      <td>NaN</td>\n",
       "      <td>NaN</td>\n",
       "    </tr>\n",
       "  </tbody>\n",
       "</table>\n",
       "<p>249 rows × 12 columns</p>\n",
       "</div>"
      ],
      "text/plain": [
       "          Date  Drill Running Load  Total Weekly Running Load  \\\n",
       "0   2021-01-10           82.666667                 223.666667   \n",
       "1   2021-01-11           73.588235                 109.352941   \n",
       "2   2021-01-02           36.958333                  53.250000   \n",
       "3   2022-01-03           50.270270                  67.486486   \n",
       "4   2022-01-04           33.068966                 275.241379   \n",
       "..         ...                 ...                        ...   \n",
       "244 2021-09-04           19.541667                 173.875000   \n",
       "245 2022-09-05           49.545455                  70.696970   \n",
       "246 2021-09-06           72.736842                 167.157895   \n",
       "247 2021-09-07           55.300000                 333.300000   \n",
       "248 2021-09-09           23.250000                  95.500000   \n",
       "\n",
       "     Running 7 Day Load  Running 28 Day Load  Away  Full  Modified  \\\n",
       "0           1004.333333          1048.666667   NaN   NaN       NaN   \n",
       "1           1073.117647          1292.352941   4.0   7.0       2.0   \n",
       "2            641.416667           641.416667   NaN   NaN       NaN   \n",
       "3           1245.675676          1151.648649   0.0  30.0       4.0   \n",
       "4           1431.620690          1210.827586   NaN   NaN       NaN   \n",
       "..                  ...                  ...   ...   ...       ...   \n",
       "244          655.708333           871.208333   NaN   NaN       NaN   \n",
       "245         1725.818182          1054.939394   0.0  14.0       3.0   \n",
       "246          889.473684           852.473684   NaN   NaN       NaN   \n",
       "247         1299.900000          1181.800000   NaN   NaN       NaN   \n",
       "248         1043.166667          1134.583333   NaN   NaN       NaN   \n",
       "\n",
       "     No Training  Grand Total     Full%  Wellness Score  \n",
       "0            NaN          NaN       NaN             NaN  \n",
       "1            5.0         18.0  0.388889       27.058824  \n",
       "2            NaN          NaN       NaN             NaN  \n",
       "3            4.0         38.0  0.789474       30.692308  \n",
       "4            NaN          NaN       NaN       27.357143  \n",
       "..           ...          ...       ...             ...  \n",
       "244          NaN          NaN       NaN             NaN  \n",
       "245          2.0         19.0  0.736842       29.545455  \n",
       "246          NaN          NaN       NaN             NaN  \n",
       "247          NaN          NaN       NaN             NaN  \n",
       "248          NaN          NaN       NaN             NaN  \n",
       "\n",
       "[249 rows x 12 columns]"
      ]
     },
     "execution_count": 25,
     "metadata": {},
     "output_type": "execute_result"
    }
   ],
   "source": [
    "df"
   ]
  },
  {
   "cell_type": "code",
   "execution_count": 26,
   "id": "8b40c076",
   "metadata": {},
   "outputs": [
    {
     "data": {
      "text/html": [
       "<div>\n",
       "<style scoped>\n",
       "    .dataframe tbody tr th:only-of-type {\n",
       "        vertical-align: middle;\n",
       "    }\n",
       "\n",
       "    .dataframe tbody tr th {\n",
       "        vertical-align: top;\n",
       "    }\n",
       "\n",
       "    .dataframe thead th {\n",
       "        text-align: right;\n",
       "    }\n",
       "</style>\n",
       "<table border=\"1\" class=\"dataframe\">\n",
       "  <thead>\n",
       "    <tr style=\"text-align: right;\">\n",
       "      <th></th>\n",
       "      <th>Drill Running Load</th>\n",
       "      <th>Total Weekly Running Load</th>\n",
       "      <th>Running 7 Day Load</th>\n",
       "      <th>Running 28 Day Load</th>\n",
       "      <th>Away</th>\n",
       "      <th>Full</th>\n",
       "      <th>Modified</th>\n",
       "      <th>No Training</th>\n",
       "      <th>Grand Total</th>\n",
       "      <th>Full%</th>\n",
       "      <th>Wellness Score</th>\n",
       "    </tr>\n",
       "  </thead>\n",
       "  <tbody>\n",
       "    <tr>\n",
       "      <th>count</th>\n",
       "      <td>249.000000</td>\n",
       "      <td>249.000000</td>\n",
       "      <td>249.000000</td>\n",
       "      <td>249.000000</td>\n",
       "      <td>78.000000</td>\n",
       "      <td>78.000000</td>\n",
       "      <td>78.000000</td>\n",
       "      <td>78.000000</td>\n",
       "      <td>78.000000</td>\n",
       "      <td>78.000000</td>\n",
       "      <td>125.000000</td>\n",
       "    </tr>\n",
       "    <tr>\n",
       "      <th>mean</th>\n",
       "      <td>40.055735</td>\n",
       "      <td>136.573811</td>\n",
       "      <td>1081.834189</td>\n",
       "      <td>1107.092448</td>\n",
       "      <td>0.923077</td>\n",
       "      <td>12.307692</td>\n",
       "      <td>2.717949</td>\n",
       "      <td>3.269231</td>\n",
       "      <td>19.217949</td>\n",
       "      <td>0.645603</td>\n",
       "      <td>27.200453</td>\n",
       "    </tr>\n",
       "    <tr>\n",
       "      <th>std</th>\n",
       "      <td>19.243997</td>\n",
       "      <td>90.107671</td>\n",
       "      <td>318.924000</td>\n",
       "      <td>208.332000</td>\n",
       "      <td>1.891672</td>\n",
       "      <td>3.224531</td>\n",
       "      <td>1.257677</td>\n",
       "      <td>1.335558</td>\n",
       "      <td>3.217838</td>\n",
       "      <td>0.126466</td>\n",
       "      <td>1.918032</td>\n",
       "    </tr>\n",
       "    <tr>\n",
       "      <th>min</th>\n",
       "      <td>0.000000</td>\n",
       "      <td>2.000000</td>\n",
       "      <td>262.000000</td>\n",
       "      <td>622.000000</td>\n",
       "      <td>0.000000</td>\n",
       "      <td>1.000000</td>\n",
       "      <td>0.000000</td>\n",
       "      <td>0.000000</td>\n",
       "      <td>1.000000</td>\n",
       "      <td>0.363636</td>\n",
       "      <td>19.636364</td>\n",
       "    </tr>\n",
       "    <tr>\n",
       "      <th>25%</th>\n",
       "      <td>27.161290</td>\n",
       "      <td>65.689655</td>\n",
       "      <td>869.666667</td>\n",
       "      <td>951.407407</td>\n",
       "      <td>0.000000</td>\n",
       "      <td>11.000000</td>\n",
       "      <td>2.000000</td>\n",
       "      <td>2.000000</td>\n",
       "      <td>19.000000</td>\n",
       "      <td>0.578947</td>\n",
       "      <td>26.000000</td>\n",
       "    </tr>\n",
       "    <tr>\n",
       "      <th>50%</th>\n",
       "      <td>36.173913</td>\n",
       "      <td>112.846154</td>\n",
       "      <td>1089.153846</td>\n",
       "      <td>1111.666667</td>\n",
       "      <td>0.000000</td>\n",
       "      <td>12.000000</td>\n",
       "      <td>3.000000</td>\n",
       "      <td>3.000000</td>\n",
       "      <td>19.000000</td>\n",
       "      <td>0.666667</td>\n",
       "      <td>27.250000</td>\n",
       "    </tr>\n",
       "    <tr>\n",
       "      <th>75%</th>\n",
       "      <td>50.727273</td>\n",
       "      <td>190.000000</td>\n",
       "      <td>1278.379310</td>\n",
       "      <td>1191.230769</td>\n",
       "      <td>1.000000</td>\n",
       "      <td>14.000000</td>\n",
       "      <td>4.000000</td>\n",
       "      <td>4.000000</td>\n",
       "      <td>19.000000</td>\n",
       "      <td>0.736842</td>\n",
       "      <td>28.466667</td>\n",
       "    </tr>\n",
       "    <tr>\n",
       "      <th>max</th>\n",
       "      <td>110.111111</td>\n",
       "      <td>515.562500</td>\n",
       "      <td>2091.454545</td>\n",
       "      <td>2082.250000</td>\n",
       "      <td>8.000000</td>\n",
       "      <td>30.000000</td>\n",
       "      <td>5.000000</td>\n",
       "      <td>7.000000</td>\n",
       "      <td>38.000000</td>\n",
       "      <td>1.000000</td>\n",
       "      <td>31.529412</td>\n",
       "    </tr>\n",
       "  </tbody>\n",
       "</table>\n",
       "</div>"
      ],
      "text/plain": [
       "       Drill Running Load  Total Weekly Running Load  Running 7 Day Load  \\\n",
       "count          249.000000                 249.000000          249.000000   \n",
       "mean            40.055735                 136.573811         1081.834189   \n",
       "std             19.243997                  90.107671          318.924000   \n",
       "min              0.000000                   2.000000          262.000000   \n",
       "25%             27.161290                  65.689655          869.666667   \n",
       "50%             36.173913                 112.846154         1089.153846   \n",
       "75%             50.727273                 190.000000         1278.379310   \n",
       "max            110.111111                 515.562500         2091.454545   \n",
       "\n",
       "       Running 28 Day Load       Away       Full   Modified  No Training  \\\n",
       "count           249.000000  78.000000  78.000000  78.000000    78.000000   \n",
       "mean           1107.092448   0.923077  12.307692   2.717949     3.269231   \n",
       "std             208.332000   1.891672   3.224531   1.257677     1.335558   \n",
       "min             622.000000   0.000000   1.000000   0.000000     0.000000   \n",
       "25%             951.407407   0.000000  11.000000   2.000000     2.000000   \n",
       "50%            1111.666667   0.000000  12.000000   3.000000     3.000000   \n",
       "75%            1191.230769   1.000000  14.000000   4.000000     4.000000   \n",
       "max            2082.250000   8.000000  30.000000   5.000000     7.000000   \n",
       "\n",
       "       Grand Total      Full%  Wellness Score  \n",
       "count    78.000000  78.000000      125.000000  \n",
       "mean     19.217949   0.645603       27.200453  \n",
       "std       3.217838   0.126466        1.918032  \n",
       "min       1.000000   0.363636       19.636364  \n",
       "25%      19.000000   0.578947       26.000000  \n",
       "50%      19.000000   0.666667       27.250000  \n",
       "75%      19.000000   0.736842       28.466667  \n",
       "max      38.000000   1.000000       31.529412  "
      ]
     },
     "execution_count": 26,
     "metadata": {},
     "output_type": "execute_result"
    }
   ],
   "source": [
    "df.describe()"
   ]
  },
  {
   "cell_type": "code",
   "execution_count": 27,
   "id": "2acacbc5",
   "metadata": {},
   "outputs": [
    {
     "data": {
      "text/plain": [
       "Date                           0\n",
       "Drill Running Load             0\n",
       "Total Weekly Running Load      0\n",
       "Running 7 Day Load             0\n",
       "Running 28 Day Load            0\n",
       "Away                         171\n",
       "Full                         171\n",
       "Modified                     171\n",
       "No Training                  171\n",
       "Grand Total                  171\n",
       "Full%                        171\n",
       "Wellness Score               124\n",
       "dtype: int64"
      ]
     },
     "execution_count": 27,
     "metadata": {},
     "output_type": "execute_result"
    }
   ],
   "source": [
    "# check for null values\n",
    "df.isna().sum()"
   ]
  },
  {
   "cell_type": "code",
   "execution_count": 28,
   "id": "a661be51",
   "metadata": {},
   "outputs": [
    {
     "name": "stderr",
     "output_type": "stream",
     "text": [
      "<ipython-input-28-55047c69a565>:2: FutureWarning: DataFrame.mean and DataFrame.median with numeric_only=None will include datetime64 and datetime64tz columns in a future version.\n",
      "  df = df.fillna(avail.mean())\n",
      "<ipython-input-28-55047c69a565>:3: FutureWarning: DataFrame.mean and DataFrame.median with numeric_only=None will include datetime64 and datetime64tz columns in a future version.\n",
      "  df = df.fillna(wellsmall.mean())\n"
     ]
    },
    {
     "data": {
      "text/html": [
       "<div>\n",
       "<style scoped>\n",
       "    .dataframe tbody tr th:only-of-type {\n",
       "        vertical-align: middle;\n",
       "    }\n",
       "\n",
       "    .dataframe tbody tr th {\n",
       "        vertical-align: top;\n",
       "    }\n",
       "\n",
       "    .dataframe thead th {\n",
       "        text-align: right;\n",
       "    }\n",
       "</style>\n",
       "<table border=\"1\" class=\"dataframe\">\n",
       "  <thead>\n",
       "    <tr style=\"text-align: right;\">\n",
       "      <th></th>\n",
       "      <th>Drill Running Load</th>\n",
       "      <th>Total Weekly Running Load</th>\n",
       "      <th>Running 7 Day Load</th>\n",
       "      <th>Running 28 Day Load</th>\n",
       "      <th>Away</th>\n",
       "      <th>Full</th>\n",
       "      <th>Modified</th>\n",
       "      <th>No Training</th>\n",
       "      <th>Grand Total</th>\n",
       "      <th>Full%</th>\n",
       "      <th>Wellness Score</th>\n",
       "    </tr>\n",
       "  </thead>\n",
       "  <tbody>\n",
       "    <tr>\n",
       "      <th>count</th>\n",
       "      <td>249.000000</td>\n",
       "      <td>249.000000</td>\n",
       "      <td>249.000000</td>\n",
       "      <td>249.000000</td>\n",
       "      <td>249.000000</td>\n",
       "      <td>249.000000</td>\n",
       "      <td>249.000000</td>\n",
       "      <td>249.000000</td>\n",
       "      <td>249.000000</td>\n",
       "      <td>249.000000</td>\n",
       "      <td>249.000000</td>\n",
       "    </tr>\n",
       "    <tr>\n",
       "      <th>mean</th>\n",
       "      <td>40.055735</td>\n",
       "      <td>136.573811</td>\n",
       "      <td>1081.834189</td>\n",
       "      <td>1107.092448</td>\n",
       "      <td>0.750000</td>\n",
       "      <td>11.644578</td>\n",
       "      <td>2.098394</td>\n",
       "      <td>2.560241</td>\n",
       "      <td>17.053213</td>\n",
       "      <td>0.708437</td>\n",
       "      <td>26.861127</td>\n",
       "    </tr>\n",
       "    <tr>\n",
       "      <th>std</th>\n",
       "      <td>19.243997</td>\n",
       "      <td>90.107671</td>\n",
       "      <td>318.924000</td>\n",
       "      <td>208.332000</td>\n",
       "      <td>1.060548</td>\n",
       "      <td>1.851937</td>\n",
       "      <td>0.816641</td>\n",
       "      <td>0.885453</td>\n",
       "      <td>2.315389</td>\n",
       "      <td>0.082304</td>\n",
       "      <td>1.398557</td>\n",
       "    </tr>\n",
       "    <tr>\n",
       "      <th>min</th>\n",
       "      <td>0.000000</td>\n",
       "      <td>2.000000</td>\n",
       "      <td>262.000000</td>\n",
       "      <td>622.000000</td>\n",
       "      <td>0.000000</td>\n",
       "      <td>1.000000</td>\n",
       "      <td>0.000000</td>\n",
       "      <td>0.000000</td>\n",
       "      <td>1.000000</td>\n",
       "      <td>0.363636</td>\n",
       "      <td>19.636364</td>\n",
       "    </tr>\n",
       "    <tr>\n",
       "      <th>25%</th>\n",
       "      <td>27.161290</td>\n",
       "      <td>65.689655</td>\n",
       "      <td>869.666667</td>\n",
       "      <td>951.407407</td>\n",
       "      <td>0.671053</td>\n",
       "      <td>11.342105</td>\n",
       "      <td>1.815789</td>\n",
       "      <td>2.236842</td>\n",
       "      <td>16.065789</td>\n",
       "      <td>0.736842</td>\n",
       "      <td>26.519064</td>\n",
       "    </tr>\n",
       "    <tr>\n",
       "      <th>50%</th>\n",
       "      <td>36.173913</td>\n",
       "      <td>112.846154</td>\n",
       "      <td>1089.153846</td>\n",
       "      <td>1111.666667</td>\n",
       "      <td>0.671053</td>\n",
       "      <td>11.342105</td>\n",
       "      <td>1.815789</td>\n",
       "      <td>2.236842</td>\n",
       "      <td>16.065789</td>\n",
       "      <td>0.737099</td>\n",
       "      <td>26.519064</td>\n",
       "    </tr>\n",
       "    <tr>\n",
       "      <th>75%</th>\n",
       "      <td>50.727273</td>\n",
       "      <td>190.000000</td>\n",
       "      <td>1278.379310</td>\n",
       "      <td>1191.230769</td>\n",
       "      <td>0.671053</td>\n",
       "      <td>11.342105</td>\n",
       "      <td>2.000000</td>\n",
       "      <td>2.236842</td>\n",
       "      <td>18.000000</td>\n",
       "      <td>0.737099</td>\n",
       "      <td>27.250000</td>\n",
       "    </tr>\n",
       "    <tr>\n",
       "      <th>max</th>\n",
       "      <td>110.111111</td>\n",
       "      <td>515.562500</td>\n",
       "      <td>2091.454545</td>\n",
       "      <td>2082.250000</td>\n",
       "      <td>8.000000</td>\n",
       "      <td>30.000000</td>\n",
       "      <td>5.000000</td>\n",
       "      <td>7.000000</td>\n",
       "      <td>38.000000</td>\n",
       "      <td>1.000000</td>\n",
       "      <td>31.529412</td>\n",
       "    </tr>\n",
       "  </tbody>\n",
       "</table>\n",
       "</div>"
      ],
      "text/plain": [
       "       Drill Running Load  Total Weekly Running Load  Running 7 Day Load  \\\n",
       "count          249.000000                 249.000000          249.000000   \n",
       "mean            40.055735                 136.573811         1081.834189   \n",
       "std             19.243997                  90.107671          318.924000   \n",
       "min              0.000000                   2.000000          262.000000   \n",
       "25%             27.161290                  65.689655          869.666667   \n",
       "50%             36.173913                 112.846154         1089.153846   \n",
       "75%             50.727273                 190.000000         1278.379310   \n",
       "max            110.111111                 515.562500         2091.454545   \n",
       "\n",
       "       Running 28 Day Load        Away        Full    Modified  No Training  \\\n",
       "count           249.000000  249.000000  249.000000  249.000000   249.000000   \n",
       "mean           1107.092448    0.750000   11.644578    2.098394     2.560241   \n",
       "std             208.332000    1.060548    1.851937    0.816641     0.885453   \n",
       "min             622.000000    0.000000    1.000000    0.000000     0.000000   \n",
       "25%             951.407407    0.671053   11.342105    1.815789     2.236842   \n",
       "50%            1111.666667    0.671053   11.342105    1.815789     2.236842   \n",
       "75%            1191.230769    0.671053   11.342105    2.000000     2.236842   \n",
       "max            2082.250000    8.000000   30.000000    5.000000     7.000000   \n",
       "\n",
       "       Grand Total       Full%  Wellness Score  \n",
       "count   249.000000  249.000000      249.000000  \n",
       "mean     17.053213    0.708437       26.861127  \n",
       "std       2.315389    0.082304        1.398557  \n",
       "min       1.000000    0.363636       19.636364  \n",
       "25%      16.065789    0.736842       26.519064  \n",
       "50%      16.065789    0.737099       26.519064  \n",
       "75%      18.000000    0.737099       27.250000  \n",
       "max      38.000000    1.000000       31.529412  "
      ]
     },
     "execution_count": 28,
     "metadata": {},
     "output_type": "execute_result"
    }
   ],
   "source": [
    "# impute null values with mean\n",
    "df = df.fillna(avail.mean())\n",
    "df = df.fillna(wellsmall.mean())\n",
    "df.describe()"
   ]
  },
  {
   "cell_type": "markdown",
   "id": "a2b986ad",
   "metadata": {},
   "source": [
    "### EDA"
   ]
  },
  {
   "cell_type": "code",
   "execution_count": 29,
   "id": "9e4c2e7e",
   "metadata": {},
   "outputs": [],
   "source": [
    "# create new data frame for eda, and add month column\n",
    "eda = df\n",
    "eda['month'] = pd.DatetimeIndex(df['Date']).month"
   ]
  },
  {
   "cell_type": "code",
   "execution_count": 31,
   "id": "f90d28d2",
   "metadata": {},
   "outputs": [
    {
     "data": {
      "text/plain": [
       "4     30\n",
       "3     29\n",
       "5     26\n",
       "2     23\n",
       "9     22\n",
       "1     21\n",
       "6     20\n",
       "8     17\n",
       "11    17\n",
       "10    16\n",
       "7     14\n",
       "12    14\n",
       "Name: month, dtype: int64"
      ]
     },
     "execution_count": 31,
     "metadata": {},
     "output_type": "execute_result"
    }
   ],
   "source": [
    "month"
   ]
  },
  {
   "cell_type": "code",
   "execution_count": 41,
   "id": "c6e45b5e",
   "metadata": {},
   "outputs": [
    {
     "data": {
      "text/html": [
       "<div>\n",
       "<style scoped>\n",
       "    .dataframe tbody tr th:only-of-type {\n",
       "        vertical-align: middle;\n",
       "    }\n",
       "\n",
       "    .dataframe tbody tr th {\n",
       "        vertical-align: top;\n",
       "    }\n",
       "\n",
       "    .dataframe thead th {\n",
       "        text-align: right;\n",
       "    }\n",
       "</style>\n",
       "<table border=\"1\" class=\"dataframe\">\n",
       "  <thead>\n",
       "    <tr style=\"text-align: right;\">\n",
       "      <th></th>\n",
       "      <th>month</th>\n",
       "      <th>Full%</th>\n",
       "    </tr>\n",
       "  </thead>\n",
       "  <tbody>\n",
       "    <tr>\n",
       "      <th>0</th>\n",
       "      <td>1</td>\n",
       "      <td>72.299896</td>\n",
       "    </tr>\n",
       "    <tr>\n",
       "      <th>1</th>\n",
       "      <td>2</td>\n",
       "      <td>70.706417</td>\n",
       "    </tr>\n",
       "    <tr>\n",
       "      <th>2</th>\n",
       "      <td>3</td>\n",
       "      <td>70.523199</td>\n",
       "    </tr>\n",
       "    <tr>\n",
       "      <th>3</th>\n",
       "      <td>4</td>\n",
       "      <td>71.231780</td>\n",
       "    </tr>\n",
       "    <tr>\n",
       "      <th>4</th>\n",
       "      <td>5</td>\n",
       "      <td>72.797935</td>\n",
       "    </tr>\n",
       "    <tr>\n",
       "      <th>5</th>\n",
       "      <td>6</td>\n",
       "      <td>71.958282</td>\n",
       "    </tr>\n",
       "    <tr>\n",
       "      <th>6</th>\n",
       "      <td>7</td>\n",
       "      <td>72.198767</td>\n",
       "    </tr>\n",
       "    <tr>\n",
       "      <th>7</th>\n",
       "      <td>8</td>\n",
       "      <td>71.947925</td>\n",
       "    </tr>\n",
       "    <tr>\n",
       "      <th>8</th>\n",
       "      <td>9</td>\n",
       "      <td>72.955642</td>\n",
       "    </tr>\n",
       "    <tr>\n",
       "      <th>9</th>\n",
       "      <td>10</td>\n",
       "      <td>64.496650</td>\n",
       "    </tr>\n",
       "    <tr>\n",
       "      <th>10</th>\n",
       "      <td>11</td>\n",
       "      <td>68.796774</td>\n",
       "    </tr>\n",
       "    <tr>\n",
       "      <th>11</th>\n",
       "      <td>12</td>\n",
       "      <td>67.220680</td>\n",
       "    </tr>\n",
       "  </tbody>\n",
       "</table>\n",
       "</div>"
      ],
      "text/plain": [
       "    month      Full%\n",
       "0       1  72.299896\n",
       "1       2  70.706417\n",
       "2       3  70.523199\n",
       "3       4  71.231780\n",
       "4       5  72.797935\n",
       "5       6  71.958282\n",
       "6       7  72.198767\n",
       "7       8  71.947925\n",
       "8       9  72.955642\n",
       "9      10  64.496650\n",
       "10     11  68.796774\n",
       "11     12  67.220680"
      ]
     },
     "execution_count": 41,
     "metadata": {},
     "output_type": "execute_result"
    }
   ],
   "source": [
    "avgMFull = eda.groupby('month', as_index = False)['Full%'].mean()\n",
    "avgMFull['Full%'] = avgMFull['Full%']*100\n",
    "avgMFull"
   ]
  },
  {
   "cell_type": "code",
   "execution_count": 33,
   "id": "e301a634",
   "metadata": {},
   "outputs": [
    {
     "data": {
      "text/html": [
       "<div>\n",
       "<style scoped>\n",
       "    .dataframe tbody tr th:only-of-type {\n",
       "        vertical-align: middle;\n",
       "    }\n",
       "\n",
       "    .dataframe tbody tr th {\n",
       "        vertical-align: top;\n",
       "    }\n",
       "\n",
       "    .dataframe thead th {\n",
       "        text-align: right;\n",
       "    }\n",
       "</style>\n",
       "<table border=\"1\" class=\"dataframe\">\n",
       "  <thead>\n",
       "    <tr style=\"text-align: right;\">\n",
       "      <th></th>\n",
       "      <th>month</th>\n",
       "      <th>Full%</th>\n",
       "    </tr>\n",
       "  </thead>\n",
       "  <tbody>\n",
       "    <tr>\n",
       "      <th>8</th>\n",
       "      <td>9</td>\n",
       "      <td>72.955642</td>\n",
       "    </tr>\n",
       "    <tr>\n",
       "      <th>9</th>\n",
       "      <td>10</td>\n",
       "      <td>64.496650</td>\n",
       "    </tr>\n",
       "    <tr>\n",
       "      <th>10</th>\n",
       "      <td>11</td>\n",
       "      <td>68.796774</td>\n",
       "    </tr>\n",
       "    <tr>\n",
       "      <th>11</th>\n",
       "      <td>12</td>\n",
       "      <td>67.220680</td>\n",
       "    </tr>\n",
       "    <tr>\n",
       "      <th>0</th>\n",
       "      <td>1</td>\n",
       "      <td>72.299896</td>\n",
       "    </tr>\n",
       "    <tr>\n",
       "      <th>1</th>\n",
       "      <td>2</td>\n",
       "      <td>70.706417</td>\n",
       "    </tr>\n",
       "    <tr>\n",
       "      <th>2</th>\n",
       "      <td>3</td>\n",
       "      <td>70.523199</td>\n",
       "    </tr>\n",
       "    <tr>\n",
       "      <th>3</th>\n",
       "      <td>4</td>\n",
       "      <td>71.231780</td>\n",
       "    </tr>\n",
       "    <tr>\n",
       "      <th>4</th>\n",
       "      <td>5</td>\n",
       "      <td>72.797935</td>\n",
       "    </tr>\n",
       "    <tr>\n",
       "      <th>5</th>\n",
       "      <td>6</td>\n",
       "      <td>71.958282</td>\n",
       "    </tr>\n",
       "    <tr>\n",
       "      <th>6</th>\n",
       "      <td>7</td>\n",
       "      <td>72.198767</td>\n",
       "    </tr>\n",
       "    <tr>\n",
       "      <th>7</th>\n",
       "      <td>8</td>\n",
       "      <td>71.947925</td>\n",
       "    </tr>\n",
       "  </tbody>\n",
       "</table>\n",
       "</div>"
      ],
      "text/plain": [
       "    month      Full%\n",
       "8       9  72.955642\n",
       "9      10  64.496650\n",
       "10     11  68.796774\n",
       "11     12  67.220680\n",
       "0       1  72.299896\n",
       "1       2  70.706417\n",
       "2       3  70.523199\n",
       "3       4  71.231780\n",
       "4       5  72.797935\n",
       "5       6  71.958282\n",
       "6       7  72.198767\n",
       "7       8  71.947925"
      ]
     },
     "execution_count": 33,
     "metadata": {},
     "output_type": "execute_result"
    }
   ],
   "source": [
    "# avgMFull = avgMFull.reindex([8,9,10,11,0,1,2,3,4,5,6,7])\n",
    "# avgMFull"
   ]
  },
  {
   "cell_type": "code",
   "execution_count": 34,
   "id": "4a01bf32",
   "metadata": {},
   "outputs": [],
   "source": [
    "# need to fix order of months in the season from Oct 2021-May 2022 for all visuals"
   ]
  },
  {
   "cell_type": "code",
   "execution_count": 42,
   "id": "c0993683",
   "metadata": {},
   "outputs": [
    {
     "data": {
      "image/png": "[encoded data removed]",
      "text/plain": [
       "<Figure size 540x252 with 2 Axes>"
      ]
     },
     "metadata": {
      "needs_background": "light"
     },
     "output_type": "display_data"
    }
   ],
   "source": [
    "plt.rcParams[\"figure.figsize\"] = [7.50, 3.50]\n",
    "plt.rcParams[\"figure.autolayout\"] = True\n",
    "\n",
    "ax = sns.countplot(x = 'month', data = eda)\n",
    "ax1 = ax.twinx()\n",
    "ax2 = ax1.plot(avgMFull['Full%'])\n",
    "\n",
    "ax1.set_ylim([0, 100])\n",
    "ax1.yaxis.set_major_formatter(mtick.PercentFormatter())\n",
    "\n",
    "# plt.legend([ax, ax2], [\"Number of Practices\", \"Percent of Available Players\"])\n",
    "ax.set_ylabel(\"Number of Practices\")\n",
    "ax1.set_ylabel(\"Percent of Available Players\")\n",
    "plt.title(\"Number of Practices in a Month vs. Percent of Available Players\")\n",
    "plt.show()"
   ]
  },
  {
   "cell_type": "code",
   "execution_count": 38,
   "id": "8b6cb0e4",
   "metadata": {},
   "outputs": [],
   "source": [
    "avgMWell = eda.groupby('month', as_index = False)['Wellness Score'].mean()"
   ]
  },
  {
   "cell_type": "code",
   "execution_count": 40,
   "id": "66ec0472",
   "metadata": {},
   "outputs": [
    {
     "data": {
      "image/png": "[encoded data removed]",
      "text/plain": [
       "<Figure size 540x252 with 2 Axes>"
      ]
     },
     "metadata": {
      "needs_background": "light"
     },
     "output_type": "display_data"
    }
   ],
   "source": [
    "plt.rcParams[\"figure.figsize\"] = [7.50, 3.50]\n",
    "plt.rcParams[\"figure.autolayout\"] = True\n",
    "\n",
    "ax = sns.countplot(x = 'month', data = eda)\n",
    "ax1 = ax.twinx()\n",
    "ax2 = ax1.plot(avgMWell['Wellness Score'])\n",
    "\n",
    "ax1.set_ylim([0, 42])\n",
    "\n",
    "# plt.legend([ax, ax2], [\"Number of Practices\", \"Percent of Available Players\"])\n",
    "ax.set_ylabel(\"Number of Practices\")\n",
    "ax1.set_ylabel(\"Average Wellness Score\")\n",
    "plt.title(\"Number of Practices in a Month vs. Average Wellness Score\")\n",
    "plt.show()"
   ]
  },
  {
   "cell_type": "code",
   "execution_count": 43,
   "id": "fb121222",
   "metadata": {},
   "outputs": [],
   "source": [
    "avgMLoad = eda.groupby('month', as_index = False)['Drill Running Load'].mean()"
   ]
  },
  {
   "cell_type": "code",
   "execution_count": 46,
   "id": "58e87a2c",
   "metadata": {},
   "outputs": [
    {
     "data": {
      "image/png": "[encoded data removed]",
      "text/plain": [
       "<Figure size 540x252 with 2 Axes>"
      ]
     },
     "metadata": {
      "needs_background": "light"
     },
     "output_type": "display_data"
    }
   ],
   "source": [
    "plt.rcParams[\"figure.figsize\"] = [7.50, 3.50]\n",
    "plt.rcParams[\"figure.autolayout\"] = True\n",
    "\n",
    "ax = sns.countplot(x = 'month', data = eda)\n",
    "ax1 = ax.twinx()\n",
    "ax2 = ax1.plot(avgMLoad['Drill Running Load'])\n",
    "\n",
    "ax1.set_ylim([0,70])\n",
    "\n",
    "# plt.legend([ax, ax2], [\"Number of Practices\", \"Percent of Available Players\"])\n",
    "ax.set_ylabel(\"Number of Practices\")\n",
    "ax1.set_ylabel(\"Average Running Load\")\n",
    "plt.title(\"Number of Practices in a Month vs. Average Running Load\")\n",
    "plt.show()"
   ]
  },
  {
   "cell_type": "code",
   "execution_count": 47,
   "id": "c515aa91",
   "metadata": {},
   "outputs": [
    {
     "data": {
      "image/png": "[encoded data removed]",
      "text/plain": [
       "<Figure size 540x252 with 2 Axes>"
      ]
     },
     "metadata": {
      "needs_background": "light"
     },
     "output_type": "display_data"
    }
   ],
   "source": [
    "plt.rcParams[\"figure.figsize\"] = [7.50, 3.50]\n",
    "plt.rcParams[\"figure.autolayout\"] = True\n",
    "\n",
    "ax = sns.countplot(x = 'month', data = eda)\n",
    "ax1 = ax.twinx()\n",
    "ax2 = ax1.plot(avgMLoad['Drill Running Load'], )\n",
    "\n",
    "ax1.set_ylim([0,70])\n",
    "\n",
    "# plt.legend([ax, ax2], [\"Number of Practices\", \"Percent of Available Players\"])\n",
    "ax.set_ylabel(\"Number of Practices\")\n",
    "ax1.set_ylabel(\"Average Running Load\")\n",
    "plt.title(\"Number of Practices in a Month vs. Average Running Load\")\n",
    "plt.show()"
   ]
  },
  {
   "cell_type": "code",
   "execution_count": 48,
   "id": "c042fa8e",
   "metadata": {},
   "outputs": [
    {
     "data": {
      "text/html": [
       "<div>\n",
       "<style scoped>\n",
       "    .dataframe tbody tr th:only-of-type {\n",
       "        vertical-align: middle;\n",
       "    }\n",
       "\n",
       "    .dataframe tbody tr th {\n",
       "        vertical-align: top;\n",
       "    }\n",
       "\n",
       "    .dataframe thead th {\n",
       "        text-align: right;\n",
       "    }\n",
       "</style>\n",
       "<table border=\"1\" class=\"dataframe\">\n",
       "  <thead>\n",
       "    <tr style=\"text-align: right;\">\n",
       "      <th></th>\n",
       "      <th>month</th>\n",
       "      <th>Drill Running Load</th>\n",
       "      <th>Full%</th>\n",
       "    </tr>\n",
       "  </thead>\n",
       "  <tbody>\n",
       "    <tr>\n",
       "      <th>0</th>\n",
       "      <td>1</td>\n",
       "      <td>804.823231</td>\n",
       "      <td>72.299896</td>\n",
       "    </tr>\n",
       "    <tr>\n",
       "      <th>1</th>\n",
       "      <td>2</td>\n",
       "      <td>852.441608</td>\n",
       "      <td>70.706417</td>\n",
       "    </tr>\n",
       "    <tr>\n",
       "      <th>2</th>\n",
       "      <td>3</td>\n",
       "      <td>1132.249275</td>\n",
       "      <td>70.523199</td>\n",
       "    </tr>\n",
       "    <tr>\n",
       "      <th>3</th>\n",
       "      <td>4</td>\n",
       "      <td>1270.586244</td>\n",
       "      <td>71.231780</td>\n",
       "    </tr>\n",
       "    <tr>\n",
       "      <th>4</th>\n",
       "      <td>5</td>\n",
       "      <td>971.345262</td>\n",
       "      <td>72.797935</td>\n",
       "    </tr>\n",
       "    <tr>\n",
       "      <th>5</th>\n",
       "      <td>6</td>\n",
       "      <td>860.967158</td>\n",
       "      <td>71.958282</td>\n",
       "    </tr>\n",
       "    <tr>\n",
       "      <th>6</th>\n",
       "      <td>7</td>\n",
       "      <td>417.568544</td>\n",
       "      <td>72.198767</td>\n",
       "    </tr>\n",
       "    <tr>\n",
       "      <th>7</th>\n",
       "      <td>8</td>\n",
       "      <td>628.495084</td>\n",
       "      <td>71.947925</td>\n",
       "    </tr>\n",
       "    <tr>\n",
       "      <th>8</th>\n",
       "      <td>9</td>\n",
       "      <td>934.229098</td>\n",
       "      <td>72.955642</td>\n",
       "    </tr>\n",
       "    <tr>\n",
       "      <th>9</th>\n",
       "      <td>10</td>\n",
       "      <td>861.201421</td>\n",
       "      <td>64.496650</td>\n",
       "    </tr>\n",
       "    <tr>\n",
       "      <th>10</th>\n",
       "      <td>11</td>\n",
       "      <td>634.225700</td>\n",
       "      <td>68.796774</td>\n",
       "    </tr>\n",
       "    <tr>\n",
       "      <th>11</th>\n",
       "      <td>12</td>\n",
       "      <td>605.745437</td>\n",
       "      <td>67.220680</td>\n",
       "    </tr>\n",
       "  </tbody>\n",
       "</table>\n",
       "</div>"
      ],
      "text/plain": [
       "    month  Drill Running Load      Full%\n",
       "0       1          804.823231  72.299896\n",
       "1       2          852.441608  70.706417\n",
       "2       3         1132.249275  70.523199\n",
       "3       4         1270.586244  71.231780\n",
       "4       5          971.345262  72.797935\n",
       "5       6          860.967158  71.958282\n",
       "6       7          417.568544  72.198767\n",
       "7       8          628.495084  71.947925\n",
       "8       9          934.229098  72.955642\n",
       "9      10          861.201421  64.496650\n",
       "10     11          634.225700  68.796774\n",
       "11     12          605.745437  67.220680"
      ]
     },
     "execution_count": 48,
     "metadata": {},
     "output_type": "execute_result"
    }
   ],
   "source": [
    "totalMLoad = eda.groupby('month', as_index = False)['Drill Running Load'].sum()\n",
    "totalMLoad['Full%'] = avgMFull['Full%']\n",
    "totalMLoad"
   ]
  },
  {
   "cell_type": "code",
   "execution_count": 49,
   "id": "27bb9a0c",
   "metadata": {},
   "outputs": [
    {
     "data": {
      "image/png": "[encoded data removed]",
      "text/plain": [
       "<Figure size 540x252 with 2 Axes>"
      ]
     },
     "metadata": {
      "needs_background": "light"
     },
     "output_type": "display_data"
    }
   ],
   "source": [
    "fig, ax1 = plt.subplots()\n",
    "ax1.plot(totalMLoad['Full%'])\n",
    "ax1t = ax1.twinx()\n",
    "\n",
    "ax1t.bar(np.arange(1,13,1), totalMLoad['Drill Running Load'], alpha = 0.4)\n",
    "\n",
    "ax1.set_ylabel(\"Percent of Available Players\")\n",
    "ax1t.set_ylabel(\"Total Monthly Load\")\n",
    "plt.title(\"Percent of Available Players vs. Total Monthly Load\")\n",
    "plt.show()"
   ]
  },
  {
   "cell_type": "code",
   "execution_count": 56,
   "id": "54c2cd17",
   "metadata": {},
   "outputs": [
    {
     "data": {
      "image/png": "[encoded data removed]",
      "text/plain": [
       "<Figure size 1440x1440 with 2 Axes>"
      ]
     },
     "metadata": {},
     "output_type": "display_data"
    }
   ],
   "source": [
    "# view correlation\n",
    "sns.heatmap(df.corr(), annot = True)\n",
    "sns.set(rc = {\"figure.figsize\":(20,20)})\n",
    "plt.title('Heat Map of Player Data')\n",
    "plt.show()"
   ]
  },
  {
   "cell_type": "code",
   "execution_count": 55,
   "id": "da505bf4",
   "metadata": {},
   "outputs": [],
   "source": [
    "# grand total, away, full, modified, no training will be dropped - Full% represents this data \n",
    "# we will break Drill Running Load, Total Weekly Running Load, Running 7 Day Load and Running 28 Day Load \n",
    "# into 3 separate dataframes and all together to determine which affect Full% more"
   ]
  },
  {
   "cell_type": "markdown",
   "id": "cefdd2bd",
   "metadata": {},
   "source": [
    "### Data Preparation"
   ]
  },
  {
   "cell_type": "code",
   "execution_count": 71,
   "id": "3187ea0e",
   "metadata": {},
   "outputs": [
    {
     "data": {
      "text/plain": [
       "Index(['Date', 'Drill Running Load', 'Total Weekly Running Load',\n",
       "       'Running 7 Day Load', 'Running 28 Day Load', 'Away', 'Full', 'Modified',\n",
       "       'No Training', 'Grand Total', 'Full%', 'Wellness Score', 'month'],\n",
       "      dtype='object')"
      ]
     },
     "execution_count": 71,
     "metadata": {},
     "output_type": "execute_result"
    }
   ],
   "source": [
    "df.columns"
   ]
  },
  {
   "cell_type": "code",
   "execution_count": 72,
   "id": "e84e618b",
   "metadata": {},
   "outputs": [],
   "source": [
    "# create the 5 dataframes\n",
    "dfall = df[['Drill Running Load', 'Total Weekly Running Load', 'Running 7 Day Load', 'Running 28 Day Load', 'Full%', 'Wellness Score', 'month']]\n",
    "dfdrill = dfall.drop(['Total Weekly Running Load', 'Running 7 Day Load', 'Running 28 Day Load'], axis = 1)\n",
    "dfweek = dfall.drop(['Drill Running Load', 'Running 7 Day Load', 'Running 28 Day Load'], axis = 1)\n",
    "df7 = dfall.drop(['Drill Running Load', 'Total Weekly Running Load', 'Running 28 Day Load'], axis = 1)\n",
    "df28 = dfall.drop(['Drill Running Load', 'Total Weekly Running Load', 'Running 7 Day Load'], axis = 1)"
   ]
  },
  {
   "cell_type": "code",
   "execution_count": 87,
   "id": "2bb8a06a",
   "metadata": {},
   "outputs": [
    {
     "data": {
      "image/png": "[encoded data removed]",
      "text/plain": [
       "<Figure size 1440x1440 with 2 Axes>"
      ]
     },
     "metadata": {},
     "output_type": "display_data"
    }
   ],
   "source": [
    "# view correlation of each dataframe for fun\n",
    "sns.heatmap(dfall.corr(), annot = True)\n",
    "sns.set(rc = {\"figure.figsize\":(10,10)})\n",
    "plt.title('Heat Map All')\n",
    "plt.show()"
   ]
  },
  {
   "cell_type": "code",
   "execution_count": 89,
   "id": "c9e27cb5",
   "metadata": {},
   "outputs": [
    {
     "data": {
      "image/png": "[encoded data removed]",
      "text/plain": [
       "<Figure size 720x720 with 2 Axes>"
      ]
     },
     "metadata": {},
     "output_type": "display_data"
    }
   ],
   "source": [
    "# view correlation of each dataframe for fun\n",
    "sns.heatmap(dfdrill.corr(), annot = True)\n",
    "sns.set(rc = {\"figure.figsize\":(10,10)})\n",
    "plt.title('Heat Map Drill')\n",
    "plt.show()"
   ]
  },
  {
   "cell_type": "code",
   "execution_count": 90,
   "id": "f9b97611",
   "metadata": {},
   "outputs": [
    {
     "data": {
      "image/png": "[encoded data removed]",
      "text/plain": [
       "<Figure size 720x720 with 2 Axes>"
      ]
     },
     "metadata": {},
     "output_type": "display_data"
    }
   ],
   "source": [
    "# view correlation of each dataframe for fun\n",
    "sns.heatmap(dfweek.corr(), annot = True)\n",
    "sns.set(rc = {\"figure.figsize\":(10,10)})\n",
    "plt.title('Heat Map Week')\n",
    "plt.show()"
   ]
  },
  {
   "cell_type": "code",
   "execution_count": 91,
   "id": "6f8fece6",
   "metadata": {},
   "outputs": [
    {
     "data": {
      "image/png": "[encoded data removed]",
      "text/plain": [
       "<Figure size 720x720 with 2 Axes>"
      ]
     },
     "metadata": {},
     "output_type": "display_data"
    }
   ],
   "source": [
    "# view correlation of each dataframe for fun\n",
    "sns.heatmap(df7.corr(), annot = True)\n",
    "sns.set(rc = {\"figure.figsize\":(10,10)})\n",
    "plt.title('Heat Map 7')\n",
    "plt.show()"
   ]
  },
  {
   "cell_type": "code",
   "execution_count": 92,
   "id": "e319b8b5",
   "metadata": {},
   "outputs": [
    {
     "data": {
      "image/png": "[encoded data removed]",
      "text/plain": [
       "<Figure size 720x720 with 2 Axes>"
      ]
     },
     "metadata": {},
     "output_type": "display_data"
    }
   ],
   "source": [
    "# view correlation of each dataframe for fun\n",
    "sns.heatmap(df28.corr(), annot = True)\n",
    "sns.set(rc = {\"figure.figsize\":(10,10)})\n",
    "plt.title('Heat Map 28')\n",
    "plt.show()"
   ]
  },
  {
   "cell_type": "code",
   "execution_count": 73,
   "id": "b3afaccb",
   "metadata": {},
   "outputs": [
    {
     "data": {
      "text/plain": [
       "Drill Running Load           float64\n",
       "Total Weekly Running Load    float64\n",
       "Running 7 Day Load           float64\n",
       "Running 28 Day Load          float64\n",
       "Full%                        float64\n",
       "Wellness Score               float64\n",
       "month                          int64\n",
       "dtype: object"
      ]
     },
     "execution_count": 73,
     "metadata": {},
     "output_type": "execute_result"
    }
   ],
   "source": [
    "# check to see if we need onehotencoding\n",
    "dfall.dtypes"
   ]
  },
  {
   "cell_type": "code",
   "execution_count": 74,
   "id": "d55d8a23",
   "metadata": {},
   "outputs": [
    {
     "data": {
      "text/plain": [
       "Index(['Drill Running Load', 'Total Weekly Running Load', 'Running 7 Day Load',\n",
       "       'Running 28 Day Load', 'Full%', 'Wellness Score', 'month'],\n",
       "      dtype='object')"
      ]
     },
     "execution_count": 74,
     "metadata": {},
     "output_type": "execute_result"
    }
   ],
   "source": [
    "dfall.columns"
   ]
  },
  {
   "cell_type": "code",
   "execution_count": 81,
   "id": "6e99794c",
   "metadata": {},
   "outputs": [],
   "source": [
    "# data splitting\n",
    "X = dfall.drop(['Full%'], axis = 1)\n",
    "y = dfall['Full%']\n",
    "X_trainall, X_testall, y_trainall, y_testall= train_test_split(X, y, test_size = 0.2, random_state = 30)"
   ]
  },
  {
   "cell_type": "code",
   "execution_count": 82,
   "id": "697cabae",
   "metadata": {},
   "outputs": [],
   "source": [
    "X = dfdrill.drop(['Full%'], axis = 1)\n",
    "y = dfdrill['Full%']\n",
    "X_traindrill, X_testdrill, y_traindrill, y_testdrill= train_test_split(X, y, test_size = 0.2, random_state = 30)"
   ]
  },
  {
   "cell_type": "code",
   "execution_count": 85,
   "id": "1d8e76ac",
   "metadata": {},
   "outputs": [],
   "source": [
    "X = dfweek.drop(['Full%'], axis = 1)\n",
    "y = dfweek['Full%']\n",
    "X_trainweek, X_testweek, y_trainweek, y_testweek= train_test_split(X, y, test_size = 0.2, random_state = 30)"
   ]
  },
  {
   "cell_type": "code",
   "execution_count": 83,
   "id": "2ead5ef2",
   "metadata": {},
   "outputs": [],
   "source": [
    "X = df7.drop(['Full%'], axis = 1)\n",
    "y = df7['Full%']\n",
    "X_train7, X_test7, y_train7, y_test7 = train_test_split(X, y, test_size = 0.2, random_state = 30)"
   ]
  },
  {
   "cell_type": "code",
   "execution_count": 84,
   "id": "163faab3",
   "metadata": {},
   "outputs": [],
   "source": [
    "X = df28.drop(['Full%'], axis = 1)\n",
    "y = df28['Full%']\n",
    "X_train28, X_test28, y_train28, y_test28 = train_test_split(X, y, test_size = 0.2, random_state = 30)"
   ]
  },
  {
   "cell_type": "markdown",
   "id": "42673f45",
   "metadata": {},
   "source": [
    "### Modeling"
   ]
  },
  {
   "cell_type": "code",
   "execution_count": null,
   "id": "60d6a5b1",
   "metadata": {},
   "outputs": [],
   "source": []
  }
 ],
 "metadata": {
  "kernelspec": {
   "display_name": "Python 3",
   "language": "python",
   "name": "python3"
  },
  "language_info": {
   "codemirror_mode": {
    "name": "ipython",
    "version": 3
   },
   "file_extension": ".py",
   "mimetype": "text/x-python",
   "name": "python",
   "nbconvert_exporter": "python",
   "pygments_lexer": "ipython3",
   "version": "3.8.8"
  }
 },
 "nbformat": 4,
 "nbformat_minor": 5
}
