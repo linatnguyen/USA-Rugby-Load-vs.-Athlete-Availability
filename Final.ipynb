{
 "cells": [
  {
   "cell_type": "markdown",
   "id": "1ce09549",
   "metadata": {},
   "source": [
    "## USA Rugby EDA\n",
    "### on player availability, daily wellness, sonra"
   ]
  },
  {
   "cell_type": "code",
   "execution_count": 1,
   "id": "c8a2f7a5",
   "metadata": {},
   "outputs": [],
   "source": [
    "# EDA, manipuation, and cleaning packages\n",
    "import pandas as pd\n",
    "import numpy as np\n",
    "import matplotlib.pyplot as plt\n",
    "import seaborn as sns\n",
    "import matplotlib.ticker as mtick\n",
    "import missingno as msno\n",
    "from sklearn.experimental import enable_iterative_imputer\n",
    "from sklearn.impute import IterativeImputer\n",
    "\n",
    "# modeling\n",
    "from sklearn.model_selection import train_test_split\n",
    "from sklearn.ensemble import RandomForestRegressor\n",
    "from sklearn.neural_network import MLPRegressor\n",
    "from sklearn.ensemble import GradientBoostingRegressor\n",
    "from sklearn.tree import DecisionTreeRegressor\n",
    "from sklearn.linear_model import LinearRegression\n",
    "from sklearn.svm import SVR\n",
    "from sklearn import linear_model\n",
    "\n",
    "# model evaluation\n",
    "from sklearn.metrics import r2_score\n",
    "from sklearn.metrics import mean_squared_error, mean_absolute_error\n",
    "\n",
    "# model optimization\n",
    "from sklearn.model_selection import RandomizedSearchCV, GridSearchCV\n",
    "from scipy.stats import uniform as sp_randFloat\n",
    "from scipy.stats import randint as sp_randInt\n"
   ]
  },
  {
   "cell_type": "markdown",
   "id": "8579b0f3",
   "metadata": {},
   "source": [
    "### Import Data"
   ]
  },
  {
   "cell_type": "code",
   "execution_count": 2,
   "id": "d5be0208",
   "metadata": {},
   "outputs": [],
   "source": [
    "avail = pd.read_csv('/Users/linanguyen/Desktop/Capstone/daily availability pivot.csv', error_bad_lines = False, header = 1)"
   ]
  },
  {
   "cell_type": "code",
   "execution_count": 3,
   "id": "94862f06",
   "metadata": {},
   "outputs": [
    {
     "data": {
      "text/html": [
       "<div>\n",
       "<style scoped>\n",
       "    .dataframe tbody tr th:only-of-type {\n",
       "        vertical-align: middle;\n",
       "    }\n",
       "\n",
       "    .dataframe tbody tr th {\n",
       "        vertical-align: top;\n",
       "    }\n",
       "\n",
       "    .dataframe thead th {\n",
       "        text-align: right;\n",
       "    }\n",
       "</style>\n",
       "<table border=\"1\" class=\"dataframe\">\n",
       "  <thead>\n",
       "    <tr style=\"text-align: right;\">\n",
       "      <th></th>\n",
       "      <th>Date</th>\n",
       "      <th>Full</th>\n",
       "      <th>Modified</th>\n",
       "      <th>No Training</th>\n",
       "      <th>Grand Total</th>\n",
       "    </tr>\n",
       "  </thead>\n",
       "  <tbody>\n",
       "    <tr>\n",
       "      <th>0</th>\n",
       "      <td>11/1/21</td>\n",
       "      <td>18</td>\n",
       "      <td>NaN</td>\n",
       "      <td>NaN</td>\n",
       "      <td>18</td>\n",
       "    </tr>\n",
       "    <tr>\n",
       "      <th>1</th>\n",
       "      <td>11/2/21</td>\n",
       "      <td>22</td>\n",
       "      <td>NaN</td>\n",
       "      <td>NaN</td>\n",
       "      <td>22</td>\n",
       "    </tr>\n",
       "    <tr>\n",
       "      <th>2</th>\n",
       "      <td>11/3/21</td>\n",
       "      <td>18</td>\n",
       "      <td>NaN</td>\n",
       "      <td>NaN</td>\n",
       "      <td>18</td>\n",
       "    </tr>\n",
       "    <tr>\n",
       "      <th>3</th>\n",
       "      <td>11/4/21</td>\n",
       "      <td>22</td>\n",
       "      <td>NaN</td>\n",
       "      <td>NaN</td>\n",
       "      <td>22</td>\n",
       "    </tr>\n",
       "    <tr>\n",
       "      <th>4</th>\n",
       "      <td>11/5/21</td>\n",
       "      <td>22</td>\n",
       "      <td>NaN</td>\n",
       "      <td>NaN</td>\n",
       "      <td>22</td>\n",
       "    </tr>\n",
       "    <tr>\n",
       "      <th>...</th>\n",
       "      <td>...</td>\n",
       "      <td>...</td>\n",
       "      <td>...</td>\n",
       "      <td>...</td>\n",
       "      <td>...</td>\n",
       "    </tr>\n",
       "    <tr>\n",
       "      <th>96</th>\n",
       "      <td>30/10/2021</td>\n",
       "      <td>4</td>\n",
       "      <td>NaN</td>\n",
       "      <td>NaN</td>\n",
       "      <td>4</td>\n",
       "    </tr>\n",
       "    <tr>\n",
       "      <th>97</th>\n",
       "      <td>30/11/2021</td>\n",
       "      <td>17</td>\n",
       "      <td>NaN</td>\n",
       "      <td>1.0</td>\n",
       "      <td>18</td>\n",
       "    </tr>\n",
       "    <tr>\n",
       "      <th>98</th>\n",
       "      <td>30/12/2021</td>\n",
       "      <td>17</td>\n",
       "      <td>1.0</td>\n",
       "      <td>1.0</td>\n",
       "      <td>19</td>\n",
       "    </tr>\n",
       "    <tr>\n",
       "      <th>99</th>\n",
       "      <td>31/03/2022</td>\n",
       "      <td>18</td>\n",
       "      <td>NaN</td>\n",
       "      <td>1.0</td>\n",
       "      <td>19</td>\n",
       "    </tr>\n",
       "    <tr>\n",
       "      <th>100</th>\n",
       "      <td>31/12/2021</td>\n",
       "      <td>17</td>\n",
       "      <td>1.0</td>\n",
       "      <td>1.0</td>\n",
       "      <td>19</td>\n",
       "    </tr>\n",
       "  </tbody>\n",
       "</table>\n",
       "<p>101 rows × 5 columns</p>\n",
       "</div>"
      ],
      "text/plain": [
       "           Date  Full  Modified  No Training  Grand Total\n",
       "0       11/1/21    18       NaN          NaN           18\n",
       "1       11/2/21    22       NaN          NaN           22\n",
       "2       11/3/21    18       NaN          NaN           18\n",
       "3       11/4/21    22       NaN          NaN           22\n",
       "4       11/5/21    22       NaN          NaN           22\n",
       "..          ...   ...       ...          ...          ...\n",
       "96   30/10/2021     4       NaN          NaN            4\n",
       "97   30/11/2021    17       NaN          1.0           18\n",
       "98   30/12/2021    17       1.0          1.0           19\n",
       "99   31/03/2022    18       NaN          1.0           19\n",
       "100  31/12/2021    17       1.0          1.0           19\n",
       "\n",
       "[101 rows x 5 columns]"
      ]
     },
     "execution_count": 3,
     "metadata": {},
     "output_type": "execute_result"
    }
   ],
   "source": [
    "avail"
   ]
  },
  {
   "cell_type": "code",
   "execution_count": 4,
   "id": "16f97bac",
   "metadata": {},
   "outputs": [],
   "source": [
    "well = pd.read_csv('/Users/linanguyen/Desktop/Capstone/Daily wellness pivot.csv')"
   ]
  },
  {
   "cell_type": "code",
   "execution_count": 5,
   "id": "765d451a",
   "metadata": {},
   "outputs": [
    {
     "data": {
      "text/plain": [
       "Index(['Date', 'AVERAGE of Wellness Score'], dtype='object')"
      ]
     },
     "execution_count": 5,
     "metadata": {},
     "output_type": "execute_result"
    }
   ],
   "source": [
    "well.columns"
   ]
  },
  {
   "cell_type": "code",
   "execution_count": 6,
   "id": "6f83fdc9",
   "metadata": {},
   "outputs": [
    {
     "name": "stderr",
     "output_type": "stream",
     "text": [
      "/Users/linanguyen/opt/anaconda3/lib/python3.8/site-packages/IPython/core/interactiveshell.py:3165: DtypeWarning: Columns (16) have mixed types.Specify dtype option on import or set low_memory=False.\n",
      "  has_raised = await self.run_ast_nodes(code_ast.body, cell_name,\n"
     ]
    }
   ],
   "source": [
    "stat = pd.read_csv('/Users/linanguyen/Desktop/Capstone/statsports sonra excel report - statsports sonra excel report.csv')"
   ]
  },
  {
   "cell_type": "code",
   "execution_count": 7,
   "id": "ece683f8",
   "metadata": {},
   "outputs": [
    {
     "data": {
      "text/plain": [
       "Index(['Date', 'About', 'Player', 'DOB', 'Age', 'Position', 'Month',\n",
       "       'Year Text', 'Year Number', 'Season',\n",
       "       ...\n",
       "       'HSR Monthly Load', 'HSR AC', 'Running Distance AC',\n",
       "       'Z6 Distance 7 Day Load', 'Z6 Distance 28 Day Load',\n",
       "       'Sprint Distance Monthly', 'Z6 Distance AC', 'HI A+D 7 Day Load',\n",
       "       'HI A+D 28 Day Load', 'HI A+D AC'],\n",
       "      dtype='object', length=318)"
      ]
     },
     "execution_count": 7,
     "metadata": {},
     "output_type": "execute_result"
    }
   ],
   "source": [
    "stat.columns"
   ]
  },
  {
   "cell_type": "markdown",
   "id": "d6f2d88b",
   "metadata": {},
   "source": [
    "### Cleaning Data"
   ]
  },
  {
   "cell_type": "code",
   "execution_count": 8,
   "id": "69aa04ab",
   "metadata": {},
   "outputs": [],
   "source": [
    "# wellness data\n",
    "# we will only keep columns Date, and Wellness Score, and find team average of wellness score by date\n",
    "# for reference, wellness score tells us the phyisical and emotional state of an athelte that day, out of 42\n",
    "# wellsmall = well[['Date', 'Wellness Score']]"
   ]
  },
  {
   "cell_type": "code",
   "execution_count": 9,
   "id": "462eb54a",
   "metadata": {},
   "outputs": [],
   "source": [
    "# convert Date to datetime format\n",
    "well['Date'] = pd.to_datetime(well['Date'])\n",
    "well = well.rename(columns = {\"AVERAGE of Wellness Score\": \"AvgWellScore\"})"
   ]
  },
  {
   "cell_type": "code",
   "execution_count": 10,
   "id": "e382c332",
   "metadata": {},
   "outputs": [
    {
     "name": "stdout",
     "output_type": "stream",
     "text": [
      "<class 'pandas.core.frame.DataFrame'>\n",
      "RangeIndex: 228 entries, 0 to 227\n",
      "Data columns (total 2 columns):\n",
      " #   Column        Non-Null Count  Dtype         \n",
      "---  ------        --------------  -----         \n",
      " 0   Date          228 non-null    datetime64[ns]\n",
      " 1   AvgWellScore  228 non-null    float64       \n",
      "dtypes: datetime64[ns](1), float64(1)\n",
      "memory usage: 3.7 KB\n"
     ]
    }
   ],
   "source": [
    "well.info()"
   ]
  },
  {
   "cell_type": "code",
   "execution_count": 11,
   "id": "f39aab3f",
   "metadata": {},
   "outputs": [],
   "source": [
    "# grouping data by date column\n",
    "# wellsmall = wellsmall.groupby('Date', as_index = False)['Wellness Score'].mean()\n",
    "# wellsmall"
   ]
  },
  {
   "cell_type": "code",
   "execution_count": 12,
   "id": "4335fc00",
   "metadata": {},
   "outputs": [
    {
     "data": {
      "text/html": [
       "<div>\n",
       "<style scoped>\n",
       "    .dataframe tbody tr th:only-of-type {\n",
       "        vertical-align: middle;\n",
       "    }\n",
       "\n",
       "    .dataframe tbody tr th {\n",
       "        vertical-align: top;\n",
       "    }\n",
       "\n",
       "    .dataframe thead th {\n",
       "        text-align: right;\n",
       "    }\n",
       "</style>\n",
       "<table border=\"1\" class=\"dataframe\">\n",
       "  <thead>\n",
       "    <tr style=\"text-align: right;\">\n",
       "      <th></th>\n",
       "      <th>AvgWellScore</th>\n",
       "    </tr>\n",
       "  </thead>\n",
       "  <tbody>\n",
       "    <tr>\n",
       "      <th>count</th>\n",
       "      <td>228.000000</td>\n",
       "    </tr>\n",
       "    <tr>\n",
       "      <th>mean</th>\n",
       "      <td>26.442217</td>\n",
       "    </tr>\n",
       "    <tr>\n",
       "      <th>std</th>\n",
       "      <td>2.441921</td>\n",
       "    </tr>\n",
       "    <tr>\n",
       "      <th>min</th>\n",
       "      <td>16.500000</td>\n",
       "    </tr>\n",
       "    <tr>\n",
       "      <th>25%</th>\n",
       "      <td>25.280952</td>\n",
       "    </tr>\n",
       "    <tr>\n",
       "      <th>50%</th>\n",
       "      <td>26.639610</td>\n",
       "    </tr>\n",
       "    <tr>\n",
       "      <th>75%</th>\n",
       "      <td>28.076299</td>\n",
       "    </tr>\n",
       "    <tr>\n",
       "      <th>max</th>\n",
       "      <td>32.666667</td>\n",
       "    </tr>\n",
       "  </tbody>\n",
       "</table>\n",
       "</div>"
      ],
      "text/plain": [
       "       AvgWellScore\n",
       "count    228.000000\n",
       "mean      26.442217\n",
       "std        2.441921\n",
       "min       16.500000\n",
       "25%       25.280952\n",
       "50%       26.639610\n",
       "75%       28.076299\n",
       "max       32.666667"
      ]
     },
     "execution_count": 12,
     "metadata": {},
     "output_type": "execute_result"
    }
   ],
   "source": [
    "# look at distribution. Wellness score is out of 42\n",
    "well.describe()"
   ]
  },
  {
   "cell_type": "code",
   "execution_count": 13,
   "id": "a9e60d03",
   "metadata": {},
   "outputs": [
    {
     "data": {
      "text/plain": [
       "0"
      ]
     },
     "execution_count": 13,
     "metadata": {},
     "output_type": "execute_result"
    }
   ],
   "source": [
    "# check for null values\n",
    "well['AvgWellScore'].isna().sum()"
   ]
  },
  {
   "cell_type": "code",
   "execution_count": 14,
   "id": "2ccb1265",
   "metadata": {},
   "outputs": [
    {
     "data": {
      "text/html": [
       "<div>\n",
       "<style scoped>\n",
       "    .dataframe tbody tr th:only-of-type {\n",
       "        vertical-align: middle;\n",
       "    }\n",
       "\n",
       "    .dataframe tbody tr th {\n",
       "        vertical-align: top;\n",
       "    }\n",
       "\n",
       "    .dataframe thead th {\n",
       "        text-align: right;\n",
       "    }\n",
       "</style>\n",
       "<table border=\"1\" class=\"dataframe\">\n",
       "  <thead>\n",
       "    <tr style=\"text-align: right;\">\n",
       "      <th></th>\n",
       "      <th>Date</th>\n",
       "      <th>Full</th>\n",
       "      <th>Modified</th>\n",
       "      <th>No Training</th>\n",
       "      <th>Grand Total</th>\n",
       "    </tr>\n",
       "  </thead>\n",
       "  <tbody>\n",
       "    <tr>\n",
       "      <th>0</th>\n",
       "      <td>11/1/21</td>\n",
       "      <td>18</td>\n",
       "      <td>NaN</td>\n",
       "      <td>NaN</td>\n",
       "      <td>18</td>\n",
       "    </tr>\n",
       "    <tr>\n",
       "      <th>1</th>\n",
       "      <td>11/2/21</td>\n",
       "      <td>22</td>\n",
       "      <td>NaN</td>\n",
       "      <td>NaN</td>\n",
       "      <td>22</td>\n",
       "    </tr>\n",
       "    <tr>\n",
       "      <th>2</th>\n",
       "      <td>11/3/21</td>\n",
       "      <td>18</td>\n",
       "      <td>NaN</td>\n",
       "      <td>NaN</td>\n",
       "      <td>18</td>\n",
       "    </tr>\n",
       "    <tr>\n",
       "      <th>3</th>\n",
       "      <td>11/4/21</td>\n",
       "      <td>22</td>\n",
       "      <td>NaN</td>\n",
       "      <td>NaN</td>\n",
       "      <td>22</td>\n",
       "    </tr>\n",
       "    <tr>\n",
       "      <th>4</th>\n",
       "      <td>11/5/21</td>\n",
       "      <td>22</td>\n",
       "      <td>NaN</td>\n",
       "      <td>NaN</td>\n",
       "      <td>22</td>\n",
       "    </tr>\n",
       "    <tr>\n",
       "      <th>...</th>\n",
       "      <td>...</td>\n",
       "      <td>...</td>\n",
       "      <td>...</td>\n",
       "      <td>...</td>\n",
       "      <td>...</td>\n",
       "    </tr>\n",
       "    <tr>\n",
       "      <th>96</th>\n",
       "      <td>30/10/2021</td>\n",
       "      <td>4</td>\n",
       "      <td>NaN</td>\n",
       "      <td>NaN</td>\n",
       "      <td>4</td>\n",
       "    </tr>\n",
       "    <tr>\n",
       "      <th>97</th>\n",
       "      <td>30/11/2021</td>\n",
       "      <td>17</td>\n",
       "      <td>NaN</td>\n",
       "      <td>1.0</td>\n",
       "      <td>18</td>\n",
       "    </tr>\n",
       "    <tr>\n",
       "      <th>98</th>\n",
       "      <td>30/12/2021</td>\n",
       "      <td>17</td>\n",
       "      <td>1.0</td>\n",
       "      <td>1.0</td>\n",
       "      <td>19</td>\n",
       "    </tr>\n",
       "    <tr>\n",
       "      <th>99</th>\n",
       "      <td>31/03/2022</td>\n",
       "      <td>18</td>\n",
       "      <td>NaN</td>\n",
       "      <td>1.0</td>\n",
       "      <td>19</td>\n",
       "    </tr>\n",
       "    <tr>\n",
       "      <th>100</th>\n",
       "      <td>31/12/2021</td>\n",
       "      <td>17</td>\n",
       "      <td>1.0</td>\n",
       "      <td>1.0</td>\n",
       "      <td>19</td>\n",
       "    </tr>\n",
       "  </tbody>\n",
       "</table>\n",
       "<p>101 rows × 5 columns</p>\n",
       "</div>"
      ],
      "text/plain": [
       "           Date  Full  Modified  No Training  Grand Total\n",
       "0       11/1/21    18       NaN          NaN           18\n",
       "1       11/2/21    22       NaN          NaN           22\n",
       "2       11/3/21    18       NaN          NaN           18\n",
       "3       11/4/21    22       NaN          NaN           22\n",
       "4       11/5/21    22       NaN          NaN           22\n",
       "..          ...   ...       ...          ...          ...\n",
       "96   30/10/2021     4       NaN          NaN            4\n",
       "97   30/11/2021    17       NaN          1.0           18\n",
       "98   30/12/2021    17       1.0          1.0           19\n",
       "99   31/03/2022    18       NaN          1.0           19\n",
       "100  31/12/2021    17       1.0          1.0           19\n",
       "\n",
       "[101 rows x 5 columns]"
      ]
     },
     "execution_count": 14,
     "metadata": {},
     "output_type": "execute_result"
    }
   ],
   "source": [
    "avail"
   ]
  },
  {
   "cell_type": "code",
   "execution_count": 15,
   "id": "fe869e41",
   "metadata": {},
   "outputs": [],
   "source": [
    "# Daily Availability\n",
    "# Daily Avaialbility determined by Field Status Player Cards\n",
    "# Full = 2, Modified = 1, No Training = 0\n",
    "# make dataframe of Date, count of full, count of modified, count of no training, % of full availability\n",
    "# replace NaN with 0\n",
    "avail = avail.fillna(0)"
   ]
  },
  {
   "cell_type": "code",
   "execution_count": 16,
   "id": "b1814aa4",
   "metadata": {},
   "outputs": [],
   "source": [
    "# create a column of full availability percentage\n",
    "avail['Full%'] = avail['Full']/avail['Grand Total'] "
   ]
  },
  {
   "cell_type": "code",
   "execution_count": 17,
   "id": "17f5b44f",
   "metadata": {},
   "outputs": [
    {
     "name": "stdout",
     "output_type": "stream",
     "text": [
      "<class 'pandas.core.frame.DataFrame'>\n",
      "RangeIndex: 101 entries, 0 to 100\n",
      "Data columns (total 6 columns):\n",
      " #   Column       Non-Null Count  Dtype         \n",
      "---  ------       --------------  -----         \n",
      " 0   Date         101 non-null    datetime64[ns]\n",
      " 1   Full         101 non-null    int64         \n",
      " 2   Modified     101 non-null    float64       \n",
      " 3   No Training  101 non-null    float64       \n",
      " 4   Grand Total  101 non-null    int64         \n",
      " 5   Full%        101 non-null    float64       \n",
      "dtypes: datetime64[ns](1), float64(3), int64(2)\n",
      "memory usage: 4.9 KB\n"
     ]
    }
   ],
   "source": [
    "# convert Date to datetime format\n",
    "avail['Date'] = pd.to_datetime(avail['Date'])\n",
    "avail.info()"
   ]
  },
  {
   "cell_type": "code",
   "execution_count": 18,
   "id": "b6e53637",
   "metadata": {},
   "outputs": [
    {
     "data": {
      "text/html": [
       "<div>\n",
       "<style scoped>\n",
       "    .dataframe tbody tr th:only-of-type {\n",
       "        vertical-align: middle;\n",
       "    }\n",
       "\n",
       "    .dataframe tbody tr th {\n",
       "        vertical-align: top;\n",
       "    }\n",
       "\n",
       "    .dataframe thead th {\n",
       "        text-align: right;\n",
       "    }\n",
       "</style>\n",
       "<table border=\"1\" class=\"dataframe\">\n",
       "  <thead>\n",
       "    <tr style=\"text-align: right;\">\n",
       "      <th></th>\n",
       "      <th>Full</th>\n",
       "      <th>Modified</th>\n",
       "      <th>No Training</th>\n",
       "      <th>Grand Total</th>\n",
       "      <th>Full%</th>\n",
       "    </tr>\n",
       "  </thead>\n",
       "  <tbody>\n",
       "    <tr>\n",
       "      <th>count</th>\n",
       "      <td>101.000000</td>\n",
       "      <td>101.000000</td>\n",
       "      <td>101.000000</td>\n",
       "      <td>101.000000</td>\n",
       "      <td>101.000000</td>\n",
       "    </tr>\n",
       "    <tr>\n",
       "      <th>mean</th>\n",
       "      <td>17.564356</td>\n",
       "      <td>0.217822</td>\n",
       "      <td>0.683168</td>\n",
       "      <td>18.465347</td>\n",
       "      <td>0.953008</td>\n",
       "    </tr>\n",
       "    <tr>\n",
       "      <th>std</th>\n",
       "      <td>3.980994</td>\n",
       "      <td>0.460521</td>\n",
       "      <td>0.564459</td>\n",
       "      <td>4.097717</td>\n",
       "      <td>0.044556</td>\n",
       "    </tr>\n",
       "    <tr>\n",
       "      <th>min</th>\n",
       "      <td>3.000000</td>\n",
       "      <td>0.000000</td>\n",
       "      <td>0.000000</td>\n",
       "      <td>3.000000</td>\n",
       "      <td>0.842105</td>\n",
       "    </tr>\n",
       "    <tr>\n",
       "      <th>25%</th>\n",
       "      <td>17.000000</td>\n",
       "      <td>0.000000</td>\n",
       "      <td>0.000000</td>\n",
       "      <td>18.000000</td>\n",
       "      <td>0.944444</td>\n",
       "    </tr>\n",
       "    <tr>\n",
       "      <th>50%</th>\n",
       "      <td>18.000000</td>\n",
       "      <td>0.000000</td>\n",
       "      <td>1.000000</td>\n",
       "      <td>19.000000</td>\n",
       "      <td>0.947368</td>\n",
       "    </tr>\n",
       "    <tr>\n",
       "      <th>75%</th>\n",
       "      <td>18.000000</td>\n",
       "      <td>0.000000</td>\n",
       "      <td>1.000000</td>\n",
       "      <td>19.000000</td>\n",
       "      <td>1.000000</td>\n",
       "    </tr>\n",
       "    <tr>\n",
       "      <th>max</th>\n",
       "      <td>36.000000</td>\n",
       "      <td>2.000000</td>\n",
       "      <td>2.000000</td>\n",
       "      <td>38.000000</td>\n",
       "      <td>1.000000</td>\n",
       "    </tr>\n",
       "  </tbody>\n",
       "</table>\n",
       "</div>"
      ],
      "text/plain": [
       "             Full    Modified  No Training  Grand Total       Full%\n",
       "count  101.000000  101.000000   101.000000   101.000000  101.000000\n",
       "mean    17.564356    0.217822     0.683168    18.465347    0.953008\n",
       "std      3.980994    0.460521     0.564459     4.097717    0.044556\n",
       "min      3.000000    0.000000     0.000000     3.000000    0.842105\n",
       "25%     17.000000    0.000000     0.000000    18.000000    0.944444\n",
       "50%     18.000000    0.000000     1.000000    19.000000    0.947368\n",
       "75%     18.000000    0.000000     1.000000    19.000000    1.000000\n",
       "max     36.000000    2.000000     2.000000    38.000000    1.000000"
      ]
     },
     "execution_count": 18,
     "metadata": {},
     "output_type": "execute_result"
    }
   ],
   "source": [
    "avail.describe()"
   ]
  },
  {
   "cell_type": "code",
   "execution_count": 19,
   "id": "220ae4e1",
   "metadata": {},
   "outputs": [],
   "source": [
    "# SONRA Stat\n",
    "# Running load will only be examined because that's what is mainly looked at for team field sports\n",
    "statsmall = stat[['Date', 'Drill Running Load', 'Total Weekly Running Load', 'Running 7 Day Load', 'Running 28 Day Load']]"
   ]
  },
  {
   "cell_type": "code",
   "execution_count": 20,
   "id": "67ca4cad",
   "metadata": {},
   "outputs": [],
   "source": [
    "# drop rows with NaN because every practice, every player produces 6 rows of data, with 5 rows empty in load columns\n",
    "# finding team averages by date\n",
    "statsmall = statsmall.dropna()\n",
    "statsmall = statsmall.groupby('Date', as_index = False)[['Drill Running Load', 'Total Weekly Running Load', 'Running 7 Day Load', 'Running 28 Day Load']].mean()"
   ]
  },
  {
   "cell_type": "code",
   "execution_count": 21,
   "id": "eae7ce19",
   "metadata": {},
   "outputs": [],
   "source": [
    "# convert Date to datetime format\n",
    "statsmall['Date'] = pd.to_datetime(statsmall['Date'])"
   ]
  },
  {
   "cell_type": "code",
   "execution_count": 22,
   "id": "7ec4f7e1",
   "metadata": {},
   "outputs": [
    {
     "name": "stdout",
     "output_type": "stream",
     "text": [
      "<class 'pandas.core.frame.DataFrame'>\n",
      "Int64Index: 125 entries, 0 to 124\n",
      "Data columns (total 5 columns):\n",
      " #   Column                     Non-Null Count  Dtype         \n",
      "---  ------                     --------------  -----         \n",
      " 0   Date                       125 non-null    datetime64[ns]\n",
      " 1   Drill Running Load         125 non-null    float64       \n",
      " 2   Total Weekly Running Load  125 non-null    float64       \n",
      " 3   Running 7 Day Load         125 non-null    float64       \n",
      " 4   Running 28 Day Load        125 non-null    float64       \n",
      "dtypes: datetime64[ns](1), float64(4)\n",
      "memory usage: 5.9 KB\n"
     ]
    }
   ],
   "source": [
    "statsmall.info()"
   ]
  },
  {
   "cell_type": "code",
   "execution_count": 23,
   "id": "0a5e931e",
   "metadata": {},
   "outputs": [
    {
     "data": {
      "text/html": [
       "<div>\n",
       "<style scoped>\n",
       "    .dataframe tbody tr th:only-of-type {\n",
       "        vertical-align: middle;\n",
       "    }\n",
       "\n",
       "    .dataframe tbody tr th {\n",
       "        vertical-align: top;\n",
       "    }\n",
       "\n",
       "    .dataframe thead th {\n",
       "        text-align: right;\n",
       "    }\n",
       "</style>\n",
       "<table border=\"1\" class=\"dataframe\">\n",
       "  <thead>\n",
       "    <tr style=\"text-align: right;\">\n",
       "      <th></th>\n",
       "      <th>Drill Running Load</th>\n",
       "      <th>Total Weekly Running Load</th>\n",
       "      <th>Running 7 Day Load</th>\n",
       "      <th>Running 28 Day Load</th>\n",
       "    </tr>\n",
       "  </thead>\n",
       "  <tbody>\n",
       "    <tr>\n",
       "      <th>count</th>\n",
       "      <td>125.000000</td>\n",
       "      <td>125.000000</td>\n",
       "      <td>125.000000</td>\n",
       "      <td>125.000000</td>\n",
       "    </tr>\n",
       "    <tr>\n",
       "      <th>mean</th>\n",
       "      <td>42.457868</td>\n",
       "      <td>154.876862</td>\n",
       "      <td>1138.412635</td>\n",
       "      <td>1147.131374</td>\n",
       "    </tr>\n",
       "    <tr>\n",
       "      <th>std</th>\n",
       "      <td>16.908657</td>\n",
       "      <td>92.662664</td>\n",
       "      <td>303.019947</td>\n",
       "      <td>189.872993</td>\n",
       "    </tr>\n",
       "    <tr>\n",
       "      <th>min</th>\n",
       "      <td>12.400000</td>\n",
       "      <td>12.400000</td>\n",
       "      <td>529.764706</td>\n",
       "      <td>729.615385</td>\n",
       "    </tr>\n",
       "    <tr>\n",
       "      <th>25%</th>\n",
       "      <td>30.346154</td>\n",
       "      <td>79.230769</td>\n",
       "      <td>950.900000</td>\n",
       "      <td>1026.363636</td>\n",
       "    </tr>\n",
       "    <tr>\n",
       "      <th>50%</th>\n",
       "      <td>38.551724</td>\n",
       "      <td>133.941176</td>\n",
       "      <td>1141.217391</td>\n",
       "      <td>1151.648649</td>\n",
       "    </tr>\n",
       "    <tr>\n",
       "      <th>75%</th>\n",
       "      <td>51.366667</td>\n",
       "      <td>213.942308</td>\n",
       "      <td>1311.625000</td>\n",
       "      <td>1231.857143</td>\n",
       "    </tr>\n",
       "    <tr>\n",
       "      <th>max</th>\n",
       "      <td>95.384615</td>\n",
       "      <td>433.047619</td>\n",
       "      <td>2091.454545</td>\n",
       "      <td>1548.909091</td>\n",
       "    </tr>\n",
       "  </tbody>\n",
       "</table>\n",
       "</div>"
      ],
      "text/plain": [
       "       Drill Running Load  Total Weekly Running Load  Running 7 Day Load  \\\n",
       "count          125.000000                 125.000000          125.000000   \n",
       "mean            42.457868                 154.876862         1138.412635   \n",
       "std             16.908657                  92.662664          303.019947   \n",
       "min             12.400000                  12.400000          529.764706   \n",
       "25%             30.346154                  79.230769          950.900000   \n",
       "50%             38.551724                 133.941176         1141.217391   \n",
       "75%             51.366667                 213.942308         1311.625000   \n",
       "max             95.384615                 433.047619         2091.454545   \n",
       "\n",
       "       Running 28 Day Load  \n",
       "count           125.000000  \n",
       "mean           1147.131374  \n",
       "std             189.872993  \n",
       "min             729.615385  \n",
       "25%            1026.363636  \n",
       "50%            1151.648649  \n",
       "75%            1231.857143  \n",
       "max            1548.909091  "
      ]
     },
     "execution_count": 23,
     "metadata": {},
     "output_type": "execute_result"
    }
   ],
   "source": [
    "statsmall.describe()"
   ]
  },
  {
   "cell_type": "code",
   "execution_count": 24,
   "id": "d327f953",
   "metadata": {},
   "outputs": [
    {
     "data": {
      "text/html": [
       "<div>\n",
       "<style scoped>\n",
       "    .dataframe tbody tr th:only-of-type {\n",
       "        vertical-align: middle;\n",
       "    }\n",
       "\n",
       "    .dataframe tbody tr th {\n",
       "        vertical-align: top;\n",
       "    }\n",
       "\n",
       "    .dataframe thead th {\n",
       "        text-align: right;\n",
       "    }\n",
       "</style>\n",
       "<table border=\"1\" class=\"dataframe\">\n",
       "  <thead>\n",
       "    <tr style=\"text-align: right;\">\n",
       "      <th></th>\n",
       "      <th>Date</th>\n",
       "      <th>Drill Running Load</th>\n",
       "      <th>Total Weekly Running Load</th>\n",
       "      <th>Running 7 Day Load</th>\n",
       "      <th>Running 28 Day Load</th>\n",
       "    </tr>\n",
       "  </thead>\n",
       "  <tbody>\n",
       "    <tr>\n",
       "      <th>0</th>\n",
       "      <td>2022-01-10</td>\n",
       "      <td>51.366667</td>\n",
       "      <td>78.366667</td>\n",
       "      <td>1093.466667</td>\n",
       "      <td>1191.200000</td>\n",
       "    </tr>\n",
       "    <tr>\n",
       "      <th>1</th>\n",
       "      <td>2022-01-11</td>\n",
       "      <td>21.214286</td>\n",
       "      <td>131.071429</td>\n",
       "      <td>1092.035714</td>\n",
       "      <td>1144.785714</td>\n",
       "    </tr>\n",
       "    <tr>\n",
       "      <th>2</th>\n",
       "      <td>2022-01-03</td>\n",
       "      <td>37.120000</td>\n",
       "      <td>50.040000</td>\n",
       "      <td>1391.440000</td>\n",
       "      <td>1334.280000</td>\n",
       "    </tr>\n",
       "    <tr>\n",
       "      <th>3</th>\n",
       "      <td>2022-01-04</td>\n",
       "      <td>30.346154</td>\n",
       "      <td>109.653846</td>\n",
       "      <td>1201.884615</td>\n",
       "      <td>1233.153846</td>\n",
       "    </tr>\n",
       "    <tr>\n",
       "      <th>4</th>\n",
       "      <td>2022-01-06</td>\n",
       "      <td>44.458333</td>\n",
       "      <td>189.208333</td>\n",
       "      <td>1124.666667</td>\n",
       "      <td>1235.916667</td>\n",
       "    </tr>\n",
       "    <tr>\n",
       "      <th>...</th>\n",
       "      <td>...</td>\n",
       "      <td>...</td>\n",
       "      <td>...</td>\n",
       "      <td>...</td>\n",
       "      <td>...</td>\n",
       "    </tr>\n",
       "    <tr>\n",
       "      <th>120</th>\n",
       "      <td>2022-05-10</td>\n",
       "      <td>50.823529</td>\n",
       "      <td>147.000000</td>\n",
       "      <td>1721.176471</td>\n",
       "      <td>1103.058824</td>\n",
       "    </tr>\n",
       "    <tr>\n",
       "      <th>121</th>\n",
       "      <td>2022-05-12</td>\n",
       "      <td>48.055556</td>\n",
       "      <td>186.888889</td>\n",
       "      <td>1641.944444</td>\n",
       "      <td>1111.666667</td>\n",
       "    </tr>\n",
       "    <tr>\n",
       "      <th>122</th>\n",
       "      <td>2022-05-05</td>\n",
       "      <td>48.500000</td>\n",
       "      <td>48.500000</td>\n",
       "      <td>886.000000</td>\n",
       "      <td>1059.444444</td>\n",
       "    </tr>\n",
       "    <tr>\n",
       "      <th>123</th>\n",
       "      <td>2022-05-06</td>\n",
       "      <td>52.111111</td>\n",
       "      <td>100.611111</td>\n",
       "      <td>1064.944444</td>\n",
       "      <td>1114.166667</td>\n",
       "    </tr>\n",
       "    <tr>\n",
       "      <th>124</th>\n",
       "      <td>2022-05-09</td>\n",
       "      <td>49.545455</td>\n",
       "      <td>70.696970</td>\n",
       "      <td>1725.818182</td>\n",
       "      <td>1054.939394</td>\n",
       "    </tr>\n",
       "  </tbody>\n",
       "</table>\n",
       "<p>125 rows × 5 columns</p>\n",
       "</div>"
      ],
      "text/plain": [
       "          Date  Drill Running Load  Total Weekly Running Load  \\\n",
       "0   2022-01-10           51.366667                  78.366667   \n",
       "1   2022-01-11           21.214286                 131.071429   \n",
       "2   2022-01-03           37.120000                  50.040000   \n",
       "3   2022-01-04           30.346154                 109.653846   \n",
       "4   2022-01-06           44.458333                 189.208333   \n",
       "..         ...                 ...                        ...   \n",
       "120 2022-05-10           50.823529                 147.000000   \n",
       "121 2022-05-12           48.055556                 186.888889   \n",
       "122 2022-05-05           48.500000                  48.500000   \n",
       "123 2022-05-06           52.111111                 100.611111   \n",
       "124 2022-05-09           49.545455                  70.696970   \n",
       "\n",
       "     Running 7 Day Load  Running 28 Day Load  \n",
       "0           1093.466667          1191.200000  \n",
       "1           1092.035714          1144.785714  \n",
       "2           1391.440000          1334.280000  \n",
       "3           1201.884615          1233.153846  \n",
       "4           1124.666667          1235.916667  \n",
       "..                  ...                  ...  \n",
       "120         1721.176471          1103.058824  \n",
       "121         1641.944444          1111.666667  \n",
       "122          886.000000          1059.444444  \n",
       "123         1064.944444          1114.166667  \n",
       "124         1725.818182          1054.939394  \n",
       "\n",
       "[125 rows x 5 columns]"
      ]
     },
     "execution_count": 24,
     "metadata": {},
     "output_type": "execute_result"
    }
   ],
   "source": [
    "statsmall"
   ]
  },
  {
   "cell_type": "code",
   "execution_count": 25,
   "id": "c46a56ae",
   "metadata": {},
   "outputs": [
    {
     "data": {
      "text/html": [
       "<div>\n",
       "<style scoped>\n",
       "    .dataframe tbody tr th:only-of-type {\n",
       "        vertical-align: middle;\n",
       "    }\n",
       "\n",
       "    .dataframe tbody tr th {\n",
       "        vertical-align: top;\n",
       "    }\n",
       "\n",
       "    .dataframe thead th {\n",
       "        text-align: right;\n",
       "    }\n",
       "</style>\n",
       "<table border=\"1\" class=\"dataframe\">\n",
       "  <thead>\n",
       "    <tr style=\"text-align: right;\">\n",
       "      <th></th>\n",
       "      <th>Date</th>\n",
       "      <th>Full</th>\n",
       "      <th>Modified</th>\n",
       "      <th>No Training</th>\n",
       "      <th>Grand Total</th>\n",
       "      <th>Full%</th>\n",
       "    </tr>\n",
       "  </thead>\n",
       "  <tbody>\n",
       "    <tr>\n",
       "      <th>0</th>\n",
       "      <td>2021-11-01</td>\n",
       "      <td>18</td>\n",
       "      <td>0.0</td>\n",
       "      <td>0.0</td>\n",
       "      <td>18</td>\n",
       "      <td>1.000000</td>\n",
       "    </tr>\n",
       "    <tr>\n",
       "      <th>1</th>\n",
       "      <td>2021-11-02</td>\n",
       "      <td>22</td>\n",
       "      <td>0.0</td>\n",
       "      <td>0.0</td>\n",
       "      <td>22</td>\n",
       "      <td>1.000000</td>\n",
       "    </tr>\n",
       "    <tr>\n",
       "      <th>2</th>\n",
       "      <td>2021-11-03</td>\n",
       "      <td>18</td>\n",
       "      <td>0.0</td>\n",
       "      <td>0.0</td>\n",
       "      <td>18</td>\n",
       "      <td>1.000000</td>\n",
       "    </tr>\n",
       "    <tr>\n",
       "      <th>3</th>\n",
       "      <td>2021-11-04</td>\n",
       "      <td>22</td>\n",
       "      <td>0.0</td>\n",
       "      <td>0.0</td>\n",
       "      <td>22</td>\n",
       "      <td>1.000000</td>\n",
       "    </tr>\n",
       "    <tr>\n",
       "      <th>4</th>\n",
       "      <td>2021-11-05</td>\n",
       "      <td>22</td>\n",
       "      <td>0.0</td>\n",
       "      <td>0.0</td>\n",
       "      <td>22</td>\n",
       "      <td>1.000000</td>\n",
       "    </tr>\n",
       "    <tr>\n",
       "      <th>...</th>\n",
       "      <td>...</td>\n",
       "      <td>...</td>\n",
       "      <td>...</td>\n",
       "      <td>...</td>\n",
       "      <td>...</td>\n",
       "      <td>...</td>\n",
       "    </tr>\n",
       "    <tr>\n",
       "      <th>96</th>\n",
       "      <td>2021-10-30</td>\n",
       "      <td>4</td>\n",
       "      <td>0.0</td>\n",
       "      <td>0.0</td>\n",
       "      <td>4</td>\n",
       "      <td>1.000000</td>\n",
       "    </tr>\n",
       "    <tr>\n",
       "      <th>97</th>\n",
       "      <td>2021-11-30</td>\n",
       "      <td>17</td>\n",
       "      <td>0.0</td>\n",
       "      <td>1.0</td>\n",
       "      <td>18</td>\n",
       "      <td>0.944444</td>\n",
       "    </tr>\n",
       "    <tr>\n",
       "      <th>98</th>\n",
       "      <td>2021-12-30</td>\n",
       "      <td>17</td>\n",
       "      <td>1.0</td>\n",
       "      <td>1.0</td>\n",
       "      <td>19</td>\n",
       "      <td>0.894737</td>\n",
       "    </tr>\n",
       "    <tr>\n",
       "      <th>99</th>\n",
       "      <td>2022-03-31</td>\n",
       "      <td>18</td>\n",
       "      <td>0.0</td>\n",
       "      <td>1.0</td>\n",
       "      <td>19</td>\n",
       "      <td>0.947368</td>\n",
       "    </tr>\n",
       "    <tr>\n",
       "      <th>100</th>\n",
       "      <td>2021-12-31</td>\n",
       "      <td>17</td>\n",
       "      <td>1.0</td>\n",
       "      <td>1.0</td>\n",
       "      <td>19</td>\n",
       "      <td>0.894737</td>\n",
       "    </tr>\n",
       "  </tbody>\n",
       "</table>\n",
       "<p>101 rows × 6 columns</p>\n",
       "</div>"
      ],
      "text/plain": [
       "          Date  Full  Modified  No Training  Grand Total     Full%\n",
       "0   2021-11-01    18       0.0          0.0           18  1.000000\n",
       "1   2021-11-02    22       0.0          0.0           22  1.000000\n",
       "2   2021-11-03    18       0.0          0.0           18  1.000000\n",
       "3   2021-11-04    22       0.0          0.0           22  1.000000\n",
       "4   2021-11-05    22       0.0          0.0           22  1.000000\n",
       "..         ...   ...       ...          ...          ...       ...\n",
       "96  2021-10-30     4       0.0          0.0            4  1.000000\n",
       "97  2021-11-30    17       0.0          1.0           18  0.944444\n",
       "98  2021-12-30    17       1.0          1.0           19  0.894737\n",
       "99  2022-03-31    18       0.0          1.0           19  0.947368\n",
       "100 2021-12-31    17       1.0          1.0           19  0.894737\n",
       "\n",
       "[101 rows x 6 columns]"
      ]
     },
     "execution_count": 25,
     "metadata": {},
     "output_type": "execute_result"
    }
   ],
   "source": [
    "avail"
   ]
  },
  {
   "cell_type": "code",
   "execution_count": 26,
   "id": "71c09ed8",
   "metadata": {},
   "outputs": [],
   "source": [
    "# merge data by date\n",
    "df = statsmall.merge(avail, how = 'left', on = 'Date')\n",
    "df = df.merge(well, how = 'left', on = 'Date')"
   ]
  },
  {
   "cell_type": "code",
   "execution_count": 27,
   "id": "ee740bc1",
   "metadata": {},
   "outputs": [
    {
     "data": {
      "text/html": [
       "<div>\n",
       "<style scoped>\n",
       "    .dataframe tbody tr th:only-of-type {\n",
       "        vertical-align: middle;\n",
       "    }\n",
       "\n",
       "    .dataframe tbody tr th {\n",
       "        vertical-align: top;\n",
       "    }\n",
       "\n",
       "    .dataframe thead th {\n",
       "        text-align: right;\n",
       "    }\n",
       "</style>\n",
       "<table border=\"1\" class=\"dataframe\">\n",
       "  <thead>\n",
       "    <tr style=\"text-align: right;\">\n",
       "      <th></th>\n",
       "      <th>Date</th>\n",
       "      <th>Drill Running Load</th>\n",
       "      <th>Total Weekly Running Load</th>\n",
       "      <th>Running 7 Day Load</th>\n",
       "      <th>Running 28 Day Load</th>\n",
       "      <th>Full</th>\n",
       "      <th>Modified</th>\n",
       "      <th>No Training</th>\n",
       "      <th>Grand Total</th>\n",
       "      <th>Full%</th>\n",
       "      <th>AvgWellScore</th>\n",
       "    </tr>\n",
       "  </thead>\n",
       "  <tbody>\n",
       "    <tr>\n",
       "      <th>0</th>\n",
       "      <td>2022-01-10</td>\n",
       "      <td>51.366667</td>\n",
       "      <td>78.366667</td>\n",
       "      <td>1093.466667</td>\n",
       "      <td>1191.200000</td>\n",
       "      <td>18.0</td>\n",
       "      <td>0.0</td>\n",
       "      <td>1.0</td>\n",
       "      <td>19.0</td>\n",
       "      <td>0.947368</td>\n",
       "      <td>NaN</td>\n",
       "    </tr>\n",
       "    <tr>\n",
       "      <th>1</th>\n",
       "      <td>2022-01-11</td>\n",
       "      <td>21.214286</td>\n",
       "      <td>131.071429</td>\n",
       "      <td>1092.035714</td>\n",
       "      <td>1144.785714</td>\n",
       "      <td>18.0</td>\n",
       "      <td>0.0</td>\n",
       "      <td>1.0</td>\n",
       "      <td>19.0</td>\n",
       "      <td>0.947368</td>\n",
       "      <td>NaN</td>\n",
       "    </tr>\n",
       "    <tr>\n",
       "      <th>2</th>\n",
       "      <td>2022-01-03</td>\n",
       "      <td>37.120000</td>\n",
       "      <td>50.040000</td>\n",
       "      <td>1391.440000</td>\n",
       "      <td>1334.280000</td>\n",
       "      <td>17.0</td>\n",
       "      <td>1.0</td>\n",
       "      <td>1.0</td>\n",
       "      <td>19.0</td>\n",
       "      <td>0.894737</td>\n",
       "      <td>30.692308</td>\n",
       "    </tr>\n",
       "    <tr>\n",
       "      <th>3</th>\n",
       "      <td>2022-01-04</td>\n",
       "      <td>30.346154</td>\n",
       "      <td>109.653846</td>\n",
       "      <td>1201.884615</td>\n",
       "      <td>1233.153846</td>\n",
       "      <td>17.0</td>\n",
       "      <td>1.0</td>\n",
       "      <td>1.0</td>\n",
       "      <td>19.0</td>\n",
       "      <td>0.894737</td>\n",
       "      <td>27.357143</td>\n",
       "    </tr>\n",
       "    <tr>\n",
       "      <th>4</th>\n",
       "      <td>2022-01-06</td>\n",
       "      <td>44.458333</td>\n",
       "      <td>189.208333</td>\n",
       "      <td>1124.666667</td>\n",
       "      <td>1235.916667</td>\n",
       "      <td>17.0</td>\n",
       "      <td>1.0</td>\n",
       "      <td>1.0</td>\n",
       "      <td>19.0</td>\n",
       "      <td>0.894737</td>\n",
       "      <td>29.000000</td>\n",
       "    </tr>\n",
       "    <tr>\n",
       "      <th>...</th>\n",
       "      <td>...</td>\n",
       "      <td>...</td>\n",
       "      <td>...</td>\n",
       "      <td>...</td>\n",
       "      <td>...</td>\n",
       "      <td>...</td>\n",
       "      <td>...</td>\n",
       "      <td>...</td>\n",
       "      <td>...</td>\n",
       "      <td>...</td>\n",
       "      <td>...</td>\n",
       "    </tr>\n",
       "    <tr>\n",
       "      <th>120</th>\n",
       "      <td>2022-05-10</td>\n",
       "      <td>50.823529</td>\n",
       "      <td>147.000000</td>\n",
       "      <td>1721.176471</td>\n",
       "      <td>1103.058824</td>\n",
       "      <td>17.0</td>\n",
       "      <td>1.0</td>\n",
       "      <td>1.0</td>\n",
       "      <td>19.0</td>\n",
       "      <td>0.894737</td>\n",
       "      <td>NaN</td>\n",
       "    </tr>\n",
       "    <tr>\n",
       "      <th>121</th>\n",
       "      <td>2022-05-12</td>\n",
       "      <td>48.055556</td>\n",
       "      <td>186.888889</td>\n",
       "      <td>1641.944444</td>\n",
       "      <td>1111.666667</td>\n",
       "      <td>17.0</td>\n",
       "      <td>1.0</td>\n",
       "      <td>1.0</td>\n",
       "      <td>19.0</td>\n",
       "      <td>0.894737</td>\n",
       "      <td>NaN</td>\n",
       "    </tr>\n",
       "    <tr>\n",
       "      <th>122</th>\n",
       "      <td>2022-05-05</td>\n",
       "      <td>48.500000</td>\n",
       "      <td>48.500000</td>\n",
       "      <td>886.000000</td>\n",
       "      <td>1059.444444</td>\n",
       "      <td>NaN</td>\n",
       "      <td>NaN</td>\n",
       "      <td>NaN</td>\n",
       "      <td>NaN</td>\n",
       "      <td>NaN</td>\n",
       "      <td>26.500000</td>\n",
       "    </tr>\n",
       "    <tr>\n",
       "      <th>123</th>\n",
       "      <td>2022-05-06</td>\n",
       "      <td>52.111111</td>\n",
       "      <td>100.611111</td>\n",
       "      <td>1064.944444</td>\n",
       "      <td>1114.166667</td>\n",
       "      <td>17.0</td>\n",
       "      <td>1.0</td>\n",
       "      <td>1.0</td>\n",
       "      <td>19.0</td>\n",
       "      <td>0.894737</td>\n",
       "      <td>NaN</td>\n",
       "    </tr>\n",
       "    <tr>\n",
       "      <th>124</th>\n",
       "      <td>2022-05-09</td>\n",
       "      <td>49.545455</td>\n",
       "      <td>70.696970</td>\n",
       "      <td>1725.818182</td>\n",
       "      <td>1054.939394</td>\n",
       "      <td>17.0</td>\n",
       "      <td>1.0</td>\n",
       "      <td>1.0</td>\n",
       "      <td>19.0</td>\n",
       "      <td>0.894737</td>\n",
       "      <td>NaN</td>\n",
       "    </tr>\n",
       "  </tbody>\n",
       "</table>\n",
       "<p>125 rows × 11 columns</p>\n",
       "</div>"
      ],
      "text/plain": [
       "          Date  Drill Running Load  Total Weekly Running Load  \\\n",
       "0   2022-01-10           51.366667                  78.366667   \n",
       "1   2022-01-11           21.214286                 131.071429   \n",
       "2   2022-01-03           37.120000                  50.040000   \n",
       "3   2022-01-04           30.346154                 109.653846   \n",
       "4   2022-01-06           44.458333                 189.208333   \n",
       "..         ...                 ...                        ...   \n",
       "120 2022-05-10           50.823529                 147.000000   \n",
       "121 2022-05-12           48.055556                 186.888889   \n",
       "122 2022-05-05           48.500000                  48.500000   \n",
       "123 2022-05-06           52.111111                 100.611111   \n",
       "124 2022-05-09           49.545455                  70.696970   \n",
       "\n",
       "     Running 7 Day Load  Running 28 Day Load  Full  Modified  No Training  \\\n",
       "0           1093.466667          1191.200000  18.0       0.0          1.0   \n",
       "1           1092.035714          1144.785714  18.0       0.0          1.0   \n",
       "2           1391.440000          1334.280000  17.0       1.0          1.0   \n",
       "3           1201.884615          1233.153846  17.0       1.0          1.0   \n",
       "4           1124.666667          1235.916667  17.0       1.0          1.0   \n",
       "..                  ...                  ...   ...       ...          ...   \n",
       "120         1721.176471          1103.058824  17.0       1.0          1.0   \n",
       "121         1641.944444          1111.666667  17.0       1.0          1.0   \n",
       "122          886.000000          1059.444444   NaN       NaN          NaN   \n",
       "123         1064.944444          1114.166667  17.0       1.0          1.0   \n",
       "124         1725.818182          1054.939394  17.0       1.0          1.0   \n",
       "\n",
       "     Grand Total     Full%  AvgWellScore  \n",
       "0           19.0  0.947368           NaN  \n",
       "1           19.0  0.947368           NaN  \n",
       "2           19.0  0.894737     30.692308  \n",
       "3           19.0  0.894737     27.357143  \n",
       "4           19.0  0.894737     29.000000  \n",
       "..           ...       ...           ...  \n",
       "120         19.0  0.894737           NaN  \n",
       "121         19.0  0.894737           NaN  \n",
       "122          NaN       NaN     26.500000  \n",
       "123         19.0  0.894737           NaN  \n",
       "124         19.0  0.894737           NaN  \n",
       "\n",
       "[125 rows x 11 columns]"
      ]
     },
     "execution_count": 27,
     "metadata": {},
     "output_type": "execute_result"
    }
   ],
   "source": [
    "df"
   ]
  },
  {
   "cell_type": "code",
   "execution_count": 28,
   "id": "8b40c076",
   "metadata": {},
   "outputs": [
    {
     "data": {
      "text/html": [
       "<div>\n",
       "<style scoped>\n",
       "    .dataframe tbody tr th:only-of-type {\n",
       "        vertical-align: middle;\n",
       "    }\n",
       "\n",
       "    .dataframe tbody tr th {\n",
       "        vertical-align: top;\n",
       "    }\n",
       "\n",
       "    .dataframe thead th {\n",
       "        text-align: right;\n",
       "    }\n",
       "</style>\n",
       "<table border=\"1\" class=\"dataframe\">\n",
       "  <thead>\n",
       "    <tr style=\"text-align: right;\">\n",
       "      <th></th>\n",
       "      <th>Drill Running Load</th>\n",
       "      <th>Total Weekly Running Load</th>\n",
       "      <th>Running 7 Day Load</th>\n",
       "      <th>Running 28 Day Load</th>\n",
       "      <th>Full</th>\n",
       "      <th>Modified</th>\n",
       "      <th>No Training</th>\n",
       "      <th>Grand Total</th>\n",
       "      <th>Full%</th>\n",
       "      <th>AvgWellScore</th>\n",
       "    </tr>\n",
       "  </thead>\n",
       "  <tbody>\n",
       "    <tr>\n",
       "      <th>count</th>\n",
       "      <td>125.000000</td>\n",
       "      <td>125.000000</td>\n",
       "      <td>125.000000</td>\n",
       "      <td>125.000000</td>\n",
       "      <td>71.000000</td>\n",
       "      <td>71.000000</td>\n",
       "      <td>71.000000</td>\n",
       "      <td>71.000000</td>\n",
       "      <td>71.000000</td>\n",
       "      <td>90.000000</td>\n",
       "    </tr>\n",
       "    <tr>\n",
       "      <th>mean</th>\n",
       "      <td>42.457868</td>\n",
       "      <td>154.876862</td>\n",
       "      <td>1138.412635</td>\n",
       "      <td>1147.131374</td>\n",
       "      <td>18.323944</td>\n",
       "      <td>0.281690</td>\n",
       "      <td>0.774648</td>\n",
       "      <td>19.380282</td>\n",
       "      <td>0.945095</td>\n",
       "      <td>27.057544</td>\n",
       "    </tr>\n",
       "    <tr>\n",
       "      <th>std</th>\n",
       "      <td>16.908657</td>\n",
       "      <td>92.662664</td>\n",
       "      <td>303.019947</td>\n",
       "      <td>189.872993</td>\n",
       "      <td>2.649931</td>\n",
       "      <td>0.512225</td>\n",
       "      <td>0.565614</td>\n",
       "      <td>2.543149</td>\n",
       "      <td>0.046520</td>\n",
       "      <td>2.038818</td>\n",
       "    </tr>\n",
       "    <tr>\n",
       "      <th>min</th>\n",
       "      <td>12.400000</td>\n",
       "      <td>12.400000</td>\n",
       "      <td>529.764706</td>\n",
       "      <td>729.615385</td>\n",
       "      <td>15.000000</td>\n",
       "      <td>0.000000</td>\n",
       "      <td>0.000000</td>\n",
       "      <td>15.000000</td>\n",
       "      <td>0.842105</td>\n",
       "      <td>19.636364</td>\n",
       "    </tr>\n",
       "    <tr>\n",
       "      <th>25%</th>\n",
       "      <td>30.346154</td>\n",
       "      <td>79.230769</td>\n",
       "      <td>950.900000</td>\n",
       "      <td>1026.363636</td>\n",
       "      <td>17.000000</td>\n",
       "      <td>0.000000</td>\n",
       "      <td>0.000000</td>\n",
       "      <td>19.000000</td>\n",
       "      <td>0.897368</td>\n",
       "      <td>25.911765</td>\n",
       "    </tr>\n",
       "    <tr>\n",
       "      <th>50%</th>\n",
       "      <td>38.551724</td>\n",
       "      <td>133.941176</td>\n",
       "      <td>1141.217391</td>\n",
       "      <td>1151.648649</td>\n",
       "      <td>18.000000</td>\n",
       "      <td>0.000000</td>\n",
       "      <td>1.000000</td>\n",
       "      <td>19.000000</td>\n",
       "      <td>0.947368</td>\n",
       "      <td>27.000000</td>\n",
       "    </tr>\n",
       "    <tr>\n",
       "      <th>75%</th>\n",
       "      <td>51.366667</td>\n",
       "      <td>213.942308</td>\n",
       "      <td>1311.625000</td>\n",
       "      <td>1231.857143</td>\n",
       "      <td>18.000000</td>\n",
       "      <td>0.500000</td>\n",
       "      <td>1.000000</td>\n",
       "      <td>19.000000</td>\n",
       "      <td>1.000000</td>\n",
       "      <td>28.288462</td>\n",
       "    </tr>\n",
       "    <tr>\n",
       "      <th>max</th>\n",
       "      <td>95.384615</td>\n",
       "      <td>433.047619</td>\n",
       "      <td>2091.454545</td>\n",
       "      <td>1548.909091</td>\n",
       "      <td>36.000000</td>\n",
       "      <td>2.000000</td>\n",
       "      <td>2.000000</td>\n",
       "      <td>38.000000</td>\n",
       "      <td>1.000000</td>\n",
       "      <td>31.000000</td>\n",
       "    </tr>\n",
       "  </tbody>\n",
       "</table>\n",
       "</div>"
      ],
      "text/plain": [
       "       Drill Running Load  Total Weekly Running Load  Running 7 Day Load  \\\n",
       "count          125.000000                 125.000000          125.000000   \n",
       "mean            42.457868                 154.876862         1138.412635   \n",
       "std             16.908657                  92.662664          303.019947   \n",
       "min             12.400000                  12.400000          529.764706   \n",
       "25%             30.346154                  79.230769          950.900000   \n",
       "50%             38.551724                 133.941176         1141.217391   \n",
       "75%             51.366667                 213.942308         1311.625000   \n",
       "max             95.384615                 433.047619         2091.454545   \n",
       "\n",
       "       Running 28 Day Load       Full   Modified  No Training  Grand Total  \\\n",
       "count           125.000000  71.000000  71.000000    71.000000    71.000000   \n",
       "mean           1147.131374  18.323944   0.281690     0.774648    19.380282   \n",
       "std             189.872993   2.649931   0.512225     0.565614     2.543149   \n",
       "min             729.615385  15.000000   0.000000     0.000000    15.000000   \n",
       "25%            1026.363636  17.000000   0.000000     0.000000    19.000000   \n",
       "50%            1151.648649  18.000000   0.000000     1.000000    19.000000   \n",
       "75%            1231.857143  18.000000   0.500000     1.000000    19.000000   \n",
       "max            1548.909091  36.000000   2.000000     2.000000    38.000000   \n",
       "\n",
       "           Full%  AvgWellScore  \n",
       "count  71.000000     90.000000  \n",
       "mean    0.945095     27.057544  \n",
       "std     0.046520      2.038818  \n",
       "min     0.842105     19.636364  \n",
       "25%     0.897368     25.911765  \n",
       "50%     0.947368     27.000000  \n",
       "75%     1.000000     28.288462  \n",
       "max     1.000000     31.000000  "
      ]
     },
     "execution_count": 28,
     "metadata": {},
     "output_type": "execute_result"
    }
   ],
   "source": [
    "df.describe()"
   ]
  },
  {
   "cell_type": "code",
   "execution_count": 29,
   "id": "2acacbc5",
   "metadata": {},
   "outputs": [
    {
     "data": {
      "text/plain": [
       "Date                          0\n",
       "Drill Running Load            0\n",
       "Total Weekly Running Load     0\n",
       "Running 7 Day Load            0\n",
       "Running 28 Day Load           0\n",
       "Full                         54\n",
       "Modified                     54\n",
       "No Training                  54\n",
       "Grand Total                  54\n",
       "Full%                        54\n",
       "AvgWellScore                 35\n",
       "dtype: int64"
      ]
     },
     "execution_count": 29,
     "metadata": {},
     "output_type": "execute_result"
    }
   ],
   "source": [
    "# check for null values\n",
    "df.isna().sum()"
   ]
  },
  {
   "cell_type": "code",
   "execution_count": 30,
   "id": "46bfa103",
   "metadata": {},
   "outputs": [
    {
     "data": {
      "text/plain": [
       "<AxesSubplot:>"
      ]
     },
     "execution_count": 30,
     "metadata": {},
     "output_type": "execute_result"
    },
    {
     "data": {
      "image/png": "[encoded data removed]",
      "text/plain": [
       "<Figure size 1800x720 with 2 Axes>"
      ]
     },
     "metadata": {
      "needs_background": "light"
     },
     "output_type": "display_data"
    }
   ],
   "source": [
    "# visualize missing values\n",
    "msno.matrix(df, fontsize = 40)"
   ]
  },
  {
   "cell_type": "code",
   "execution_count": 31,
   "id": "ea00f396",
   "metadata": {},
   "outputs": [
    {
     "data": {
      "text/plain": [
       "<AxesSubplot:>"
      ]
     },
     "execution_count": 31,
     "metadata": {},
     "output_type": "execute_result"
    },
    {
     "data": {
      "image/png": "[encoded data removed]",
      "text/plain": [
       "<Figure size 1800x720 with 3 Axes>"
      ]
     },
     "metadata": {
      "needs_background": "light"
     },
     "output_type": "display_data"
    }
   ],
   "source": [
    "# barchart of missing data\n",
    "msno.bar(df)"
   ]
  },
  {
   "cell_type": "code",
   "execution_count": 32,
   "id": "f1d5ab9c",
   "metadata": {},
   "outputs": [
    {
     "data": {
      "text/plain": [
       "<AxesSubplot:>"
      ]
     },
     "execution_count": 32,
     "metadata": {},
     "output_type": "execute_result"
    },
    {
     "data": {
      "image/png": "[encoded data removed]",
      "text/plain": [
       "<Figure size 1440x864 with 2 Axes>"
      ]
     },
     "metadata": {
      "needs_background": "light"
     },
     "output_type": "display_data"
    }
   ],
   "source": [
    "# visualize heatmape of how missing values are related\n",
    "msno.heatmap(df)"
   ]
  },
  {
   "cell_type": "code",
   "execution_count": 33,
   "id": "6d5b6599",
   "metadata": {},
   "outputs": [
    {
     "data": {
      "text/plain": [
       "<AxesSubplot:>"
      ]
     },
     "execution_count": 33,
     "metadata": {},
     "output_type": "execute_result"
    },
    {
     "data": {
      "image/png": "[encoded data removed]",
      "text/plain": [
       "<Figure size 1800x720 with 1 Axes>"
      ]
     },
     "metadata": {
      "needs_background": "light"
     },
     "output_type": "display_data"
    }
   ],
   "source": [
    "msno.dendrogram(df, fontsize = 40)"
   ]
  },
  {
   "cell_type": "code",
   "execution_count": 34,
   "id": "57b2f74a",
   "metadata": {},
   "outputs": [],
   "source": [
    "df1 = df.drop(['Date'], axis = 1)"
   ]
  },
  {
   "cell_type": "code",
   "execution_count": 35,
   "id": "99899777",
   "metadata": {},
   "outputs": [],
   "source": [
    "# use iterativeImputer for availability because athletes that are injured will most likely still be injured the following practice\n",
    "impute_it = IterativeImputer()\n",
    "df1 = impute_it.fit_transform(df1)"
   ]
  },
  {
   "cell_type": "code",
   "execution_count": 36,
   "id": "9678abf8",
   "metadata": {},
   "outputs": [],
   "source": [
    "df1 = pd.DataFrame(df1)"
   ]
  },
  {
   "cell_type": "code",
   "execution_count": 37,
   "id": "b436ba78",
   "metadata": {},
   "outputs": [],
   "source": [
    "df1['Date'] = df['Date']"
   ]
  },
  {
   "cell_type": "code",
   "execution_count": 38,
   "id": "007bfef1",
   "metadata": {},
   "outputs": [
    {
     "data": {
      "text/plain": [
       "Index([0, 1, 2, 3, 4, 5, 6, 7, 8, 9, 'Date'], dtype='object')"
      ]
     },
     "execution_count": 38,
     "metadata": {},
     "output_type": "execute_result"
    }
   ],
   "source": [
    "df1.columns"
   ]
  },
  {
   "cell_type": "code",
   "execution_count": 39,
   "id": "96ba9d34",
   "metadata": {},
   "outputs": [
    {
     "data": {
      "text/plain": [
       "Index(['Date', 'Drill Running Load', 'Total Weekly Running Load',\n",
       "       'Running 7 Day Load', 'Running 28 Day Load', 'Full', 'Modified',\n",
       "       'No Training', 'Grand Total', 'Full%', 'AvgWellScore'],\n",
       "      dtype='object')"
      ]
     },
     "execution_count": 39,
     "metadata": {},
     "output_type": "execute_result"
    }
   ],
   "source": [
    "df.columns"
   ]
  },
  {
   "cell_type": "code",
   "execution_count": 40,
   "id": "cdabe599",
   "metadata": {},
   "outputs": [],
   "source": [
    "df1.columns = ['Drill Running Load', 'Total Weekly Running Load',\n",
    "       'Running 7 Day Load', 'Running 28 Day Load', 'Full', 'Modified',\n",
    "       'No Training', 'Grand Total', 'Full%', 'AvgWellScore', 'Date']"
   ]
  },
  {
   "cell_type": "code",
   "execution_count": 41,
   "id": "5a81f9b2",
   "metadata": {},
   "outputs": [
    {
     "data": {
      "text/html": [
       "<div>\n",
       "<style scoped>\n",
       "    .dataframe tbody tr th:only-of-type {\n",
       "        vertical-align: middle;\n",
       "    }\n",
       "\n",
       "    .dataframe tbody tr th {\n",
       "        vertical-align: top;\n",
       "    }\n",
       "\n",
       "    .dataframe thead th {\n",
       "        text-align: right;\n",
       "    }\n",
       "</style>\n",
       "<table border=\"1\" class=\"dataframe\">\n",
       "  <thead>\n",
       "    <tr style=\"text-align: right;\">\n",
       "      <th></th>\n",
       "      <th>Drill Running Load</th>\n",
       "      <th>Total Weekly Running Load</th>\n",
       "      <th>Running 7 Day Load</th>\n",
       "      <th>Running 28 Day Load</th>\n",
       "      <th>Full</th>\n",
       "      <th>Modified</th>\n",
       "      <th>No Training</th>\n",
       "      <th>Grand Total</th>\n",
       "      <th>Full%</th>\n",
       "      <th>AvgWellScore</th>\n",
       "      <th>Date</th>\n",
       "    </tr>\n",
       "  </thead>\n",
       "  <tbody>\n",
       "    <tr>\n",
       "      <th>0</th>\n",
       "      <td>51.366667</td>\n",
       "      <td>78.366667</td>\n",
       "      <td>1093.466667</td>\n",
       "      <td>1191.200000</td>\n",
       "      <td>18.000000</td>\n",
       "      <td>0.00000</td>\n",
       "      <td>1.000000</td>\n",
       "      <td>19.000000</td>\n",
       "      <td>0.947368</td>\n",
       "      <td>27.258871</td>\n",
       "      <td>2022-01-10</td>\n",
       "    </tr>\n",
       "    <tr>\n",
       "      <th>1</th>\n",
       "      <td>21.214286</td>\n",
       "      <td>131.071429</td>\n",
       "      <td>1092.035714</td>\n",
       "      <td>1144.785714</td>\n",
       "      <td>18.000000</td>\n",
       "      <td>0.00000</td>\n",
       "      <td>1.000000</td>\n",
       "      <td>19.000000</td>\n",
       "      <td>0.947368</td>\n",
       "      <td>27.063021</td>\n",
       "      <td>2022-01-11</td>\n",
       "    </tr>\n",
       "    <tr>\n",
       "      <th>2</th>\n",
       "      <td>37.120000</td>\n",
       "      <td>50.040000</td>\n",
       "      <td>1391.440000</td>\n",
       "      <td>1334.280000</td>\n",
       "      <td>17.000000</td>\n",
       "      <td>1.00000</td>\n",
       "      <td>1.000000</td>\n",
       "      <td>19.000000</td>\n",
       "      <td>0.894737</td>\n",
       "      <td>30.692308</td>\n",
       "      <td>2022-01-03</td>\n",
       "    </tr>\n",
       "    <tr>\n",
       "      <th>3</th>\n",
       "      <td>30.346154</td>\n",
       "      <td>109.653846</td>\n",
       "      <td>1201.884615</td>\n",
       "      <td>1233.153846</td>\n",
       "      <td>17.000000</td>\n",
       "      <td>1.00000</td>\n",
       "      <td>1.000000</td>\n",
       "      <td>19.000000</td>\n",
       "      <td>0.894737</td>\n",
       "      <td>27.357143</td>\n",
       "      <td>2022-01-04</td>\n",
       "    </tr>\n",
       "    <tr>\n",
       "      <th>4</th>\n",
       "      <td>44.458333</td>\n",
       "      <td>189.208333</td>\n",
       "      <td>1124.666667</td>\n",
       "      <td>1235.916667</td>\n",
       "      <td>17.000000</td>\n",
       "      <td>1.00000</td>\n",
       "      <td>1.000000</td>\n",
       "      <td>19.000000</td>\n",
       "      <td>0.894737</td>\n",
       "      <td>29.000000</td>\n",
       "      <td>2022-01-06</td>\n",
       "    </tr>\n",
       "    <tr>\n",
       "      <th>...</th>\n",
       "      <td>...</td>\n",
       "      <td>...</td>\n",
       "      <td>...</td>\n",
       "      <td>...</td>\n",
       "      <td>...</td>\n",
       "      <td>...</td>\n",
       "      <td>...</td>\n",
       "      <td>...</td>\n",
       "      <td>...</td>\n",
       "      <td>...</td>\n",
       "      <td>...</td>\n",
       "    </tr>\n",
       "    <tr>\n",
       "      <th>120</th>\n",
       "      <td>50.823529</td>\n",
       "      <td>147.000000</td>\n",
       "      <td>1721.176471</td>\n",
       "      <td>1103.058824</td>\n",
       "      <td>17.000000</td>\n",
       "      <td>1.00000</td>\n",
       "      <td>1.000000</td>\n",
       "      <td>19.000000</td>\n",
       "      <td>0.894737</td>\n",
       "      <td>27.547084</td>\n",
       "      <td>2022-05-10</td>\n",
       "    </tr>\n",
       "    <tr>\n",
       "      <th>121</th>\n",
       "      <td>48.055556</td>\n",
       "      <td>186.888889</td>\n",
       "      <td>1641.944444</td>\n",
       "      <td>1111.666667</td>\n",
       "      <td>17.000000</td>\n",
       "      <td>1.00000</td>\n",
       "      <td>1.000000</td>\n",
       "      <td>19.000000</td>\n",
       "      <td>0.894737</td>\n",
       "      <td>27.375687</td>\n",
       "      <td>2022-05-12</td>\n",
       "    </tr>\n",
       "    <tr>\n",
       "      <th>122</th>\n",
       "      <td>48.500000</td>\n",
       "      <td>48.500000</td>\n",
       "      <td>886.000000</td>\n",
       "      <td>1059.444444</td>\n",
       "      <td>18.323944</td>\n",
       "      <td>0.28169</td>\n",
       "      <td>0.774648</td>\n",
       "      <td>19.380282</td>\n",
       "      <td>0.947073</td>\n",
       "      <td>26.500000</td>\n",
       "      <td>2022-05-05</td>\n",
       "    </tr>\n",
       "    <tr>\n",
       "      <th>123</th>\n",
       "      <td>52.111111</td>\n",
       "      <td>100.611111</td>\n",
       "      <td>1064.944444</td>\n",
       "      <td>1114.166667</td>\n",
       "      <td>17.000000</td>\n",
       "      <td>1.00000</td>\n",
       "      <td>1.000000</td>\n",
       "      <td>19.000000</td>\n",
       "      <td>0.894737</td>\n",
       "      <td>27.103787</td>\n",
       "      <td>2022-05-06</td>\n",
       "    </tr>\n",
       "    <tr>\n",
       "      <th>124</th>\n",
       "      <td>49.545455</td>\n",
       "      <td>70.696970</td>\n",
       "      <td>1725.818182</td>\n",
       "      <td>1054.939394</td>\n",
       "      <td>17.000000</td>\n",
       "      <td>1.00000</td>\n",
       "      <td>1.000000</td>\n",
       "      <td>19.000000</td>\n",
       "      <td>0.894737</td>\n",
       "      <td>27.714438</td>\n",
       "      <td>2022-05-09</td>\n",
       "    </tr>\n",
       "  </tbody>\n",
       "</table>\n",
       "<p>125 rows × 11 columns</p>\n",
       "</div>"
      ],
      "text/plain": [
       "     Drill Running Load  Total Weekly Running Load  Running 7 Day Load  \\\n",
       "0             51.366667                  78.366667         1093.466667   \n",
       "1             21.214286                 131.071429         1092.035714   \n",
       "2             37.120000                  50.040000         1391.440000   \n",
       "3             30.346154                 109.653846         1201.884615   \n",
       "4             44.458333                 189.208333         1124.666667   \n",
       "..                  ...                        ...                 ...   \n",
       "120           50.823529                 147.000000         1721.176471   \n",
       "121           48.055556                 186.888889         1641.944444   \n",
       "122           48.500000                  48.500000          886.000000   \n",
       "123           52.111111                 100.611111         1064.944444   \n",
       "124           49.545455                  70.696970         1725.818182   \n",
       "\n",
       "     Running 28 Day Load       Full  Modified  No Training  Grand Total  \\\n",
       "0            1191.200000  18.000000   0.00000     1.000000    19.000000   \n",
       "1            1144.785714  18.000000   0.00000     1.000000    19.000000   \n",
       "2            1334.280000  17.000000   1.00000     1.000000    19.000000   \n",
       "3            1233.153846  17.000000   1.00000     1.000000    19.000000   \n",
       "4            1235.916667  17.000000   1.00000     1.000000    19.000000   \n",
       "..                   ...        ...       ...          ...          ...   \n",
       "120          1103.058824  17.000000   1.00000     1.000000    19.000000   \n",
       "121          1111.666667  17.000000   1.00000     1.000000    19.000000   \n",
       "122          1059.444444  18.323944   0.28169     0.774648    19.380282   \n",
       "123          1114.166667  17.000000   1.00000     1.000000    19.000000   \n",
       "124          1054.939394  17.000000   1.00000     1.000000    19.000000   \n",
       "\n",
       "        Full%  AvgWellScore       Date  \n",
       "0    0.947368     27.258871 2022-01-10  \n",
       "1    0.947368     27.063021 2022-01-11  \n",
       "2    0.894737     30.692308 2022-01-03  \n",
       "3    0.894737     27.357143 2022-01-04  \n",
       "4    0.894737     29.000000 2022-01-06  \n",
       "..        ...           ...        ...  \n",
       "120  0.894737     27.547084 2022-05-10  \n",
       "121  0.894737     27.375687 2022-05-12  \n",
       "122  0.947073     26.500000 2022-05-05  \n",
       "123  0.894737     27.103787 2022-05-06  \n",
       "124  0.894737     27.714438 2022-05-09  \n",
       "\n",
       "[125 rows x 11 columns]"
      ]
     },
     "execution_count": 41,
     "metadata": {},
     "output_type": "execute_result"
    }
   ],
   "source": [
    "df1"
   ]
  },
  {
   "cell_type": "markdown",
   "id": "a2b986ad",
   "metadata": {},
   "source": [
    "### EDA"
   ]
  },
  {
   "cell_type": "code",
   "execution_count": 42,
   "id": "9e4c2e7e",
   "metadata": {},
   "outputs": [],
   "source": [
    "# create new data frame for eda, and add month column\n",
    "eda = df1\n",
    "eda['month'] = pd.DatetimeIndex(df1['Date']).month"
   ]
  },
  {
   "cell_type": "code",
   "execution_count": 43,
   "id": "c6e45b5e",
   "metadata": {},
   "outputs": [
    {
     "data": {
      "text/html": [
       "<div>\n",
       "<style scoped>\n",
       "    .dataframe tbody tr th:only-of-type {\n",
       "        vertical-align: middle;\n",
       "    }\n",
       "\n",
       "    .dataframe tbody tr th {\n",
       "        vertical-align: top;\n",
       "    }\n",
       "\n",
       "    .dataframe thead th {\n",
       "        text-align: right;\n",
       "    }\n",
       "</style>\n",
       "<table border=\"1\" class=\"dataframe\">\n",
       "  <thead>\n",
       "    <tr style=\"text-align: right;\">\n",
       "      <th></th>\n",
       "      <th>month</th>\n",
       "      <th>Full%</th>\n",
       "    </tr>\n",
       "  </thead>\n",
       "  <tbody>\n",
       "    <tr>\n",
       "      <th>0</th>\n",
       "      <td>1</td>\n",
       "      <td>93.536946</td>\n",
       "    </tr>\n",
       "    <tr>\n",
       "      <th>1</th>\n",
       "      <td>2</td>\n",
       "      <td>94.238660</td>\n",
       "    </tr>\n",
       "    <tr>\n",
       "      <th>2</th>\n",
       "      <td>3</td>\n",
       "      <td>94.467441</td>\n",
       "    </tr>\n",
       "    <tr>\n",
       "      <th>3</th>\n",
       "      <td>4</td>\n",
       "      <td>91.293634</td>\n",
       "    </tr>\n",
       "    <tr>\n",
       "      <th>4</th>\n",
       "      <td>5</td>\n",
       "      <td>93.106952</td>\n",
       "    </tr>\n",
       "    <tr>\n",
       "      <th>5</th>\n",
       "      <td>10</td>\n",
       "      <td>97.965437</td>\n",
       "    </tr>\n",
       "    <tr>\n",
       "      <th>6</th>\n",
       "      <td>11</td>\n",
       "      <td>98.076407</td>\n",
       "    </tr>\n",
       "    <tr>\n",
       "      <th>7</th>\n",
       "      <td>12</td>\n",
       "      <td>93.286265</td>\n",
       "    </tr>\n",
       "  </tbody>\n",
       "</table>\n",
       "</div>"
      ],
      "text/plain": [
       "   month      Full%\n",
       "0      1  93.536946\n",
       "1      2  94.238660\n",
       "2      3  94.467441\n",
       "3      4  91.293634\n",
       "4      5  93.106952\n",
       "5     10  97.965437\n",
       "6     11  98.076407\n",
       "7     12  93.286265"
      ]
     },
     "execution_count": 43,
     "metadata": {},
     "output_type": "execute_result"
    }
   ],
   "source": [
    "avgMFull = eda.groupby('month', as_index = False)['Full%'].mean()\n",
    "avgMFull['Full%'] = avgMFull['Full%']*100\n",
    "avgMFull"
   ]
  },
  {
   "cell_type": "code",
   "execution_count": 44,
   "id": "e301a634",
   "metadata": {},
   "outputs": [],
   "source": [
    "# avgMFull = avgMFull.reindex([8,9,10,11,0,1,2,3,4,5,6,7])\n",
    "# avgMFull\n",
    "month = ['Jan', 'Feb', 'Mar', 'Apr', 'May', 'Oct', 'Nov', 'Dec']\n",
    "month = pd.DataFrame(month)\n",
    "avgMFull = pd.concat([avgMFull, month], axis = 1)\n",
    "avgMFull = avgMFull.drop(['month'], axis = 1)"
   ]
  },
  {
   "cell_type": "code",
   "execution_count": 45,
   "id": "4bcabbf2",
   "metadata": {},
   "outputs": [],
   "source": [
    "avgMFull = avgMFull.rename(columns = {'Full%': 'Full%', 0: 'Month'})"
   ]
  },
  {
   "cell_type": "code",
   "execution_count": 46,
   "id": "64f58142",
   "metadata": {},
   "outputs": [
    {
     "data": {
      "text/html": [
       "<div>\n",
       "<style scoped>\n",
       "    .dataframe tbody tr th:only-of-type {\n",
       "        vertical-align: middle;\n",
       "    }\n",
       "\n",
       "    .dataframe tbody tr th {\n",
       "        vertical-align: top;\n",
       "    }\n",
       "\n",
       "    .dataframe thead th {\n",
       "        text-align: right;\n",
       "    }\n",
       "</style>\n",
       "<table border=\"1\" class=\"dataframe\">\n",
       "  <thead>\n",
       "    <tr style=\"text-align: right;\">\n",
       "      <th></th>\n",
       "      <th>Full%</th>\n",
       "      <th>Month</th>\n",
       "    </tr>\n",
       "  </thead>\n",
       "  <tbody>\n",
       "    <tr>\n",
       "      <th>0</th>\n",
       "      <td>93.536946</td>\n",
       "      <td>Jan</td>\n",
       "    </tr>\n",
       "    <tr>\n",
       "      <th>1</th>\n",
       "      <td>94.238660</td>\n",
       "      <td>Feb</td>\n",
       "    </tr>\n",
       "    <tr>\n",
       "      <th>2</th>\n",
       "      <td>94.467441</td>\n",
       "      <td>Mar</td>\n",
       "    </tr>\n",
       "    <tr>\n",
       "      <th>3</th>\n",
       "      <td>91.293634</td>\n",
       "      <td>Apr</td>\n",
       "    </tr>\n",
       "    <tr>\n",
       "      <th>4</th>\n",
       "      <td>93.106952</td>\n",
       "      <td>May</td>\n",
       "    </tr>\n",
       "    <tr>\n",
       "      <th>5</th>\n",
       "      <td>97.965437</td>\n",
       "      <td>Oct</td>\n",
       "    </tr>\n",
       "    <tr>\n",
       "      <th>6</th>\n",
       "      <td>98.076407</td>\n",
       "      <td>Nov</td>\n",
       "    </tr>\n",
       "    <tr>\n",
       "      <th>7</th>\n",
       "      <td>93.286265</td>\n",
       "      <td>Dec</td>\n",
       "    </tr>\n",
       "  </tbody>\n",
       "</table>\n",
       "</div>"
      ],
      "text/plain": [
       "       Full% Month\n",
       "0  93.536946   Jan\n",
       "1  94.238660   Feb\n",
       "2  94.467441   Mar\n",
       "3  91.293634   Apr\n",
       "4  93.106952   May\n",
       "5  97.965437   Oct\n",
       "6  98.076407   Nov\n",
       "7  93.286265   Dec"
      ]
     },
     "execution_count": 46,
     "metadata": {},
     "output_type": "execute_result"
    }
   ],
   "source": [
    "avgMFull"
   ]
  },
  {
   "cell_type": "code",
   "execution_count": null,
   "id": "803067c6",
   "metadata": {},
   "outputs": [],
   "source": []
  },
  {
   "cell_type": "code",
   "execution_count": 47,
   "id": "4a01bf32",
   "metadata": {},
   "outputs": [],
   "source": [
    "# need to fix order of months in the season from Oct 2021-May 2022 for all visuals\n"
   ]
  },
  {
   "cell_type": "code",
   "execution_count": 48,
   "id": "c0993683",
   "metadata": {},
   "outputs": [
    {
     "data": {
      "image/png": "[encoded data removed]",
      "text/plain": [
       "<Figure size 540x252 with 2 Axes>"
      ]
     },
     "metadata": {
      "needs_background": "light"
     },
     "output_type": "display_data"
    }
   ],
   "source": [
    "plt.rcParams[\"figure.figsize\"] = [7.50, 3.50]\n",
    "plt.rcParams[\"figure.autolayout\"] = True\n",
    "\n",
    "ax = sns.countplot(x = 'month', data = eda)\n",
    "ax.yaxis.set_ticks(np.arange(0,21,2))\n",
    "ax1 = ax.twinx()\n",
    "ax2 = ax1.plot(avgMFull['Full%'])\n",
    "\n",
    "ax1.set_ylim([0, 100])\n",
    "ax1.yaxis.set_major_formatter(mtick.PercentFormatter())\n",
    "\n",
    "# plt.legend([ax, ax2], [\"Number of Practices\", \"Percent of Available Players\"])\n",
    "ax.set_ylabel(\"Number of Practices\")\n",
    "ax1.set_ylabel(\"Percent of Available Players\")\n",
    "\n",
    "plt.title(\"Number of Practices in a Month vs. Percent of Available Players\")\n",
    "plt.show()"
   ]
  },
  {
   "cell_type": "code",
   "execution_count": 49,
   "id": "8b6cb0e4",
   "metadata": {},
   "outputs": [
    {
     "data": {
      "text/html": [
       "<div>\n",
       "<style scoped>\n",
       "    .dataframe tbody tr th:only-of-type {\n",
       "        vertical-align: middle;\n",
       "    }\n",
       "\n",
       "    .dataframe tbody tr th {\n",
       "        vertical-align: top;\n",
       "    }\n",
       "\n",
       "    .dataframe thead th {\n",
       "        text-align: right;\n",
       "    }\n",
       "</style>\n",
       "<table border=\"1\" class=\"dataframe\">\n",
       "  <thead>\n",
       "    <tr style=\"text-align: right;\">\n",
       "      <th></th>\n",
       "      <th>month</th>\n",
       "      <th>AvgWellScore</th>\n",
       "    </tr>\n",
       "  </thead>\n",
       "  <tbody>\n",
       "    <tr>\n",
       "      <th>0</th>\n",
       "      <td>1</td>\n",
       "      <td>27.303086</td>\n",
       "    </tr>\n",
       "    <tr>\n",
       "      <th>1</th>\n",
       "      <td>2</td>\n",
       "      <td>27.208019</td>\n",
       "    </tr>\n",
       "    <tr>\n",
       "      <th>2</th>\n",
       "      <td>3</td>\n",
       "      <td>26.905313</td>\n",
       "    </tr>\n",
       "    <tr>\n",
       "      <th>3</th>\n",
       "      <td>4</td>\n",
       "      <td>27.937898</td>\n",
       "    </tr>\n",
       "    <tr>\n",
       "      <th>4</th>\n",
       "      <td>5</td>\n",
       "      <td>26.196381</td>\n",
       "    </tr>\n",
       "    <tr>\n",
       "      <th>5</th>\n",
       "      <td>10</td>\n",
       "      <td>26.481840</td>\n",
       "    </tr>\n",
       "    <tr>\n",
       "      <th>6</th>\n",
       "      <td>11</td>\n",
       "      <td>27.300000</td>\n",
       "    </tr>\n",
       "    <tr>\n",
       "      <th>7</th>\n",
       "      <td>12</td>\n",
       "      <td>26.534033</td>\n",
       "    </tr>\n",
       "  </tbody>\n",
       "</table>\n",
       "</div>"
      ],
      "text/plain": [
       "   month  AvgWellScore\n",
       "0      1     27.303086\n",
       "1      2     27.208019\n",
       "2      3     26.905313\n",
       "3      4     27.937898\n",
       "4      5     26.196381\n",
       "5     10     26.481840\n",
       "6     11     27.300000\n",
       "7     12     26.534033"
      ]
     },
     "execution_count": 49,
     "metadata": {},
     "output_type": "execute_result"
    }
   ],
   "source": [
    "avgMWell = eda.groupby('month', as_index = False)['AvgWellScore'].mean()\n",
    "avgMWell"
   ]
  },
  {
   "cell_type": "code",
   "execution_count": 50,
   "id": "66ec0472",
   "metadata": {},
   "outputs": [
    {
     "data": {
      "image/png": "[encoded data removed]",
      "text/plain": [
       "<Figure size 540x252 with 2 Axes>"
      ]
     },
     "metadata": {
      "needs_background": "light"
     },
     "output_type": "display_data"
    }
   ],
   "source": [
    "plt.rcParams[\"figure.figsize\"] = [7.50, 3.50]\n",
    "plt.rcParams[\"figure.autolayout\"] = True\n",
    "\n",
    "ax = sns.countplot(x = 'month', data = eda)\n",
    "ax1 = ax.twinx()\n",
    "ax2 = ax1.plot(avgMWell['AvgWellScore'])\n",
    "\n",
    "ax1.set_ylim([0, 42])\n",
    "\n",
    "# plt.legend([ax, ax2], [\"Number of Practices\", \"Percent of Available Players\"])\n",
    "ax.set_ylabel(\"Number of Practices\")\n",
    "ax1.set_ylabel(\"Average Wellness Score\")\n",
    "plt.title(\"Number of Practices in a Month vs. Average Wellness Score\")\n",
    "plt.show()"
   ]
  },
  {
   "cell_type": "code",
   "execution_count": 51,
   "id": "fb121222",
   "metadata": {},
   "outputs": [
    {
     "data": {
      "text/html": [
       "<div>\n",
       "<style scoped>\n",
       "    .dataframe tbody tr th:only-of-type {\n",
       "        vertical-align: middle;\n",
       "    }\n",
       "\n",
       "    .dataframe tbody tr th {\n",
       "        vertical-align: top;\n",
       "    }\n",
       "\n",
       "    .dataframe thead th {\n",
       "        text-align: right;\n",
       "    }\n",
       "</style>\n",
       "<table border=\"1\" class=\"dataframe\">\n",
       "  <thead>\n",
       "    <tr style=\"text-align: right;\">\n",
       "      <th></th>\n",
       "      <th>month</th>\n",
       "      <th>Drill Running Load</th>\n",
       "    </tr>\n",
       "  </thead>\n",
       "  <tbody>\n",
       "    <tr>\n",
       "      <th>0</th>\n",
       "      <td>1</td>\n",
       "      <td>33.826852</td>\n",
       "    </tr>\n",
       "    <tr>\n",
       "      <th>1</th>\n",
       "      <td>2</td>\n",
       "      <td>37.567342</td>\n",
       "    </tr>\n",
       "    <tr>\n",
       "      <th>2</th>\n",
       "      <td>3</td>\n",
       "      <td>46.191331</td>\n",
       "    </tr>\n",
       "    <tr>\n",
       "      <th>3</th>\n",
       "      <td>4</td>\n",
       "      <td>43.901601</td>\n",
       "    </tr>\n",
       "    <tr>\n",
       "      <th>4</th>\n",
       "      <td>5</td>\n",
       "      <td>46.670411</td>\n",
       "    </tr>\n",
       "    <tr>\n",
       "      <th>5</th>\n",
       "      <td>10</td>\n",
       "      <td>51.695627</td>\n",
       "    </tr>\n",
       "    <tr>\n",
       "      <th>6</th>\n",
       "      <td>11</td>\n",
       "      <td>40.726619</td>\n",
       "    </tr>\n",
       "    <tr>\n",
       "      <th>7</th>\n",
       "      <td>12</td>\n",
       "      <td>35.361228</td>\n",
       "    </tr>\n",
       "  </tbody>\n",
       "</table>\n",
       "</div>"
      ],
      "text/plain": [
       "   month  Drill Running Load\n",
       "0      1           33.826852\n",
       "1      2           37.567342\n",
       "2      3           46.191331\n",
       "3      4           43.901601\n",
       "4      5           46.670411\n",
       "5     10           51.695627\n",
       "6     11           40.726619\n",
       "7     12           35.361228"
      ]
     },
     "execution_count": 51,
     "metadata": {},
     "output_type": "execute_result"
    }
   ],
   "source": [
    "avgMLoad = eda.groupby('month', as_index = False)['Drill Running Load'].mean()\n",
    "avgMLoad"
   ]
  },
  {
   "cell_type": "code",
   "execution_count": 52,
   "id": "58e87a2c",
   "metadata": {},
   "outputs": [
    {
     "data": {
      "image/png": "[encoded data removed]",
      "text/plain": [
       "<Figure size 540x252 with 2 Axes>"
      ]
     },
     "metadata": {
      "needs_background": "light"
     },
     "output_type": "display_data"
    }
   ],
   "source": [
    "plt.rcParams[\"figure.figsize\"] = [7.50, 3.50]\n",
    "plt.rcParams[\"figure.autolayout\"] = True\n",
    "\n",
    "ax = sns.countplot(x = 'month', data = eda)\n",
    "ax1 = ax.twinx()\n",
    "ax2 = ax1.plot(avgMLoad['Drill Running Load'])\n",
    "\n",
    "ax1.set_ylim([0,70])\n",
    "\n",
    "# plt.legend([ax, ax2], [\"Number of Practices\", \"Percent of Available Players\"])\n",
    "ax.set_ylabel(\"Number of Practices\")\n",
    "ax1.set_ylabel(\"Average Running Load\")\n",
    "plt.title(\"Number of Practices in a Month vs. Average Running Load\")\n",
    "plt.show()"
   ]
  },
  {
   "cell_type": "code",
   "execution_count": 53,
   "id": "c042fa8e",
   "metadata": {},
   "outputs": [
    {
     "data": {
      "text/html": [
       "<div>\n",
       "<style scoped>\n",
       "    .dataframe tbody tr th:only-of-type {\n",
       "        vertical-align: middle;\n",
       "    }\n",
       "\n",
       "    .dataframe tbody tr th {\n",
       "        vertical-align: top;\n",
       "    }\n",
       "\n",
       "    .dataframe thead th {\n",
       "        text-align: right;\n",
       "    }\n",
       "</style>\n",
       "<table border=\"1\" class=\"dataframe\">\n",
       "  <thead>\n",
       "    <tr style=\"text-align: right;\">\n",
       "      <th></th>\n",
       "      <th>month</th>\n",
       "      <th>Drill Running Load</th>\n",
       "      <th>Full%</th>\n",
       "    </tr>\n",
       "  </thead>\n",
       "  <tbody>\n",
       "    <tr>\n",
       "      <th>0</th>\n",
       "      <td>1</td>\n",
       "      <td>642.710181</td>\n",
       "      <td>93.536946</td>\n",
       "    </tr>\n",
       "    <tr>\n",
       "      <th>1</th>\n",
       "      <td>2</td>\n",
       "      <td>450.808104</td>\n",
       "      <td>94.238660</td>\n",
       "    </tr>\n",
       "    <tr>\n",
       "      <th>2</th>\n",
       "      <td>3</td>\n",
       "      <td>923.826617</td>\n",
       "      <td>94.467441</td>\n",
       "    </tr>\n",
       "    <tr>\n",
       "      <th>3</th>\n",
       "      <td>4</td>\n",
       "      <td>834.130412</td>\n",
       "      <td>91.293634</td>\n",
       "    </tr>\n",
       "    <tr>\n",
       "      <th>4</th>\n",
       "      <td>5</td>\n",
       "      <td>653.385755</td>\n",
       "      <td>93.106952</td>\n",
       "    </tr>\n",
       "    <tr>\n",
       "      <th>5</th>\n",
       "      <td>10</td>\n",
       "      <td>827.130039</td>\n",
       "      <td>97.965437</td>\n",
       "    </tr>\n",
       "    <tr>\n",
       "      <th>6</th>\n",
       "      <td>11</td>\n",
       "      <td>692.352517</td>\n",
       "      <td>98.076407</td>\n",
       "    </tr>\n",
       "    <tr>\n",
       "      <th>7</th>\n",
       "      <td>12</td>\n",
       "      <td>282.889824</td>\n",
       "      <td>93.286265</td>\n",
       "    </tr>\n",
       "  </tbody>\n",
       "</table>\n",
       "</div>"
      ],
      "text/plain": [
       "   month  Drill Running Load      Full%\n",
       "0      1          642.710181  93.536946\n",
       "1      2          450.808104  94.238660\n",
       "2      3          923.826617  94.467441\n",
       "3      4          834.130412  91.293634\n",
       "4      5          653.385755  93.106952\n",
       "5     10          827.130039  97.965437\n",
       "6     11          692.352517  98.076407\n",
       "7     12          282.889824  93.286265"
      ]
     },
     "execution_count": 53,
     "metadata": {},
     "output_type": "execute_result"
    }
   ],
   "source": [
    "totalMLoad = eda.groupby('month', as_index = False)['Drill Running Load'].sum()\n",
    "totalMLoad['Full%'] = avgMFull['Full%']\n",
    "totalMLoad"
   ]
  },
  {
   "cell_type": "code",
   "execution_count": 54,
   "id": "27bb9a0c",
   "metadata": {},
   "outputs": [
    {
     "data": {
      "image/png": "[encoded data removed]",
      "text/plain": [
       "<Figure size 540x252 with 2 Axes>"
      ]
     },
     "metadata": {
      "needs_background": "light"
     },
     "output_type": "display_data"
    }
   ],
   "source": [
    "fig, ax1 = plt.subplots()\n",
    "ax1.plot(totalMLoad['Full%'])\n",
    "ax1t = ax1.twinx()\n",
    "\n",
    "ax1t.bar(np.arange(1,9,1), totalMLoad['Drill Running Load'], alpha = 0.4)\n",
    "\n",
    "ax1.set_ylabel(\"Percent of Available Players\")\n",
    "ax1t.set_ylabel(\"Total Monthly Load\")\n",
    "plt.title(\"Percent of Available Players vs. Total Monthly Load\")\n",
    "plt.show()"
   ]
  },
  {
   "cell_type": "code",
   "execution_count": 55,
   "id": "54c2cd17",
   "metadata": {},
   "outputs": [
    {
     "data": {
      "image/png": "[encoded data removed]",
      "text/plain": [
       "<Figure size 540x252 with 2 Axes>"
      ]
     },
     "metadata": {
      "needs_background": "light"
     },
     "output_type": "display_data"
    }
   ],
   "source": [
    "# view correlation\n",
    "sns.heatmap(df1.corr(), annot = True)\n",
    "sns.set(rc = {\"figure.figsize\":(20,20)})\n",
    "plt.title('Heat Map of Player Data')\n",
    "plt.show()"
   ]
  },
  {
   "cell_type": "code",
   "execution_count": 56,
   "id": "da505bf4",
   "metadata": {},
   "outputs": [],
   "source": [
    "# grand total, away, full, modified, no training will be dropped - Full% represents this data "
   ]
  },
  {
   "cell_type": "markdown",
   "id": "cefdd2bd",
   "metadata": {},
   "source": [
    "### Data Preparation"
   ]
  },
  {
   "cell_type": "code",
   "execution_count": 57,
   "id": "3187ea0e",
   "metadata": {},
   "outputs": [
    {
     "data": {
      "text/plain": [
       "Index(['Drill Running Load', 'Total Weekly Running Load', 'Running 7 Day Load',\n",
       "       'Running 28 Day Load', 'Full', 'Modified', 'No Training', 'Grand Total',\n",
       "       'Full%', 'AvgWellScore', 'Date', 'month'],\n",
       "      dtype='object')"
      ]
     },
     "execution_count": 57,
     "metadata": {},
     "output_type": "execute_result"
    }
   ],
   "source": [
    "df1.columns"
   ]
  },
  {
   "cell_type": "code",
   "execution_count": 58,
   "id": "e84e618b",
   "metadata": {},
   "outputs": [],
   "source": [
    "dfall = df1[['Drill Running Load', 'Total Weekly Running Load', 'Running 7 Day Load', 'Running 28 Day Load', 'Full%', 'AvgWellScore', 'month']]"
   ]
  },
  {
   "cell_type": "code",
   "execution_count": 59,
   "id": "2bb8a06a",
   "metadata": {},
   "outputs": [
    {
     "data": {
      "image/png": "[encoded data removed]",
      "text/plain": [
       "<Figure size 1440x1440 with 2 Axes>"
      ]
     },
     "metadata": {},
     "output_type": "display_data"
    }
   ],
   "source": [
    "# view correlation of each dataframe for fun\n",
    "sns.heatmap(dfall.corr(), annot = True)\n",
    "sns.set(rc = {\"figure.figsize\":(10,10)})\n",
    "plt.title('Heat Map All')\n",
    "plt.show()"
   ]
  },
  {
   "cell_type": "code",
   "execution_count": 64,
   "id": "b3afaccb",
   "metadata": {},
   "outputs": [
    {
     "data": {
      "text/plain": [
       "Drill Running Load           float64\n",
       "Total Weekly Running Load    float64\n",
       "Running 7 Day Load           float64\n",
       "Running 28 Day Load          float64\n",
       "Full%                        float64\n",
       "AvgWellScore                 float64\n",
       "month                          int64\n",
       "dtype: object"
      ]
     },
     "execution_count": 64,
     "metadata": {},
     "output_type": "execute_result"
    }
   ],
   "source": [
    "# check to see if we need onehotencoding\n",
    "dfall.dtypes"
   ]
  },
  {
   "cell_type": "code",
   "execution_count": 65,
   "id": "d55d8a23",
   "metadata": {},
   "outputs": [
    {
     "data": {
      "text/plain": [
       "Index(['Drill Running Load', 'Total Weekly Running Load', 'Running 7 Day Load',\n",
       "       'Running 28 Day Load', 'Full%', 'AvgWellScore', 'month'],\n",
       "      dtype='object')"
      ]
     },
     "execution_count": 65,
     "metadata": {},
     "output_type": "execute_result"
    }
   ],
   "source": [
    "dfall.columns"
   ]
  },
  {
   "cell_type": "code",
   "execution_count": 66,
   "id": "6e99794c",
   "metadata": {},
   "outputs": [],
   "source": [
    "# data splitting\n",
    "X = dfall.drop(['Full%'], axis = 1)\n",
    "y = dfall['Full%']\n",
    "X_trainall, X_testall, y_trainall, y_testall= train_test_split(X, y, test_size = 0.15, random_state = 30)"
   ]
  },
  {
   "cell_type": "markdown",
   "id": "42673f45",
   "metadata": {},
   "source": [
    "### Modeling "
   ]
  },
  {
   "cell_type": "markdown",
   "id": "59814f07",
   "metadata": {},
   "source": [
    "####  Random Forest"
   ]
  },
  {
   "cell_type": "code",
   "execution_count": 71,
   "id": "e7fe3407",
   "metadata": {},
   "outputs": [],
   "source": [
    "RF = RandomForestRegressor(max_depth = 2, random_state = 0)"
   ]
  },
  {
   "cell_type": "code",
   "execution_count": 72,
   "id": "97fbb8bd",
   "metadata": {},
   "outputs": [
    {
     "name": "stdout",
     "output_type": "stream",
     "text": [
      "r2 score 0.5790996472538726\n",
      "MSE 0.00042796469286125255\n",
      "MAE 0.017786151780153848\n"
     ]
    }
   ],
   "source": [
    "# dfall\n",
    "RF.fit(X_trainall, y_trainall)\n",
    "y_pred_all = RF.predict(X_testall)\n",
    "print('r2 score', r2_score(y_testall, y_pred_all))\n",
    "print('MSE', mean_squared_error(y_testall, y_pred_all))\n",
    "print(\"MAE\",mean_absolute_error(y_testall,y_pred_all))"
   ]
  },
  {
   "cell_type": "markdown",
   "id": "e0ce254a",
   "metadata": {},
   "source": [
    "#### Gradient Boosting Regressor"
   ]
  },
  {
   "cell_type": "code",
   "execution_count": 83,
   "id": "b8e36e34",
   "metadata": {},
   "outputs": [],
   "source": [
    "GBR = GradientBoostingRegressor()"
   ]
  },
  {
   "cell_type": "code",
   "execution_count": 84,
   "id": "9a7cc685",
   "metadata": {},
   "outputs": [
    {
     "name": "stdout",
     "output_type": "stream",
     "text": [
      "r2 score 0.4797236761746627\n",
      "MSE 0.0005290085781020783\n",
      "MAE 0.018423782758097015\n"
     ]
    }
   ],
   "source": [
    "GBR.fit(X_trainall, y_trainall)\n",
    "y_pred_all = GBR.predict(X_testall)\n",
    "print('r2 score', r2_score(y_testall, y_pred_all))\n",
    "print('MSE', mean_squared_error(y_testall, y_pred_all))\n",
    "print(\"MAE\",mean_absolute_error(y_testall,y_pred_all))"
   ]
  },
  {
   "cell_type": "markdown",
   "id": "9b4657b7",
   "metadata": {},
   "source": [
    "#### Decision Tree Regressor"
   ]
  },
  {
   "cell_type": "code",
   "execution_count": 89,
   "id": "10bc2c71",
   "metadata": {},
   "outputs": [],
   "source": [
    "DTR = DecisionTreeRegressor()"
   ]
  },
  {
   "cell_type": "code",
   "execution_count": 90,
   "id": "e449c4c3",
   "metadata": {},
   "outputs": [
    {
     "name": "stdout",
     "output_type": "stream",
     "text": [
      "r2 score -0.2632048960151665\n",
      "MSE 0.001284406372712253\n",
      "MAE 0.019652866988810507\n"
     ]
    }
   ],
   "source": [
    "# dfall\n",
    "DTR.fit(X_trainall, y_trainall)\n",
    "y_pred_all = DTR.predict(X_testall)\n",
    "print('r2 score', r2_score(y_testall, y_pred_all))\n",
    "print('MSE', mean_squared_error(y_testall, y_pred_all))\n",
    "print(\"MAE\",mean_absolute_error(y_testall,y_pred_all))"
   ]
  },
  {
   "cell_type": "markdown",
   "id": "7827bb8e",
   "metadata": {},
   "source": [
    "#### Linear Regression "
   ]
  },
  {
   "cell_type": "code",
   "execution_count": 95,
   "id": "d480ead6",
   "metadata": {},
   "outputs": [],
   "source": [
    "LR = LinearRegression()"
   ]
  },
  {
   "cell_type": "code",
   "execution_count": 96,
   "id": "d75e262b",
   "metadata": {},
   "outputs": [
    {
     "name": "stdout",
     "output_type": "stream",
     "text": [
      "r2 score 0.3192593671492797\n",
      "MSE 0.0006921661004923302\n",
      "MAE 0.023249290979980818\n"
     ]
    }
   ],
   "source": [
    "LR.fit(X_trainall, y_trainall)\n",
    "y_pred_all = LR.predict(X_testall)\n",
    "print('r2 score', r2_score(y_testall, y_pred_all))\n",
    "print('MSE', mean_squared_error(y_testall, y_pred_all))\n",
    "print(\"MAE\",mean_absolute_error(y_testall,y_pred_all))"
   ]
  },
  {
   "cell_type": "markdown",
   "id": "a5ce00e9",
   "metadata": {},
   "source": [
    "#### Support Vector Regression "
   ]
  },
  {
   "cell_type": "code",
   "execution_count": 101,
   "id": "bfd2af14",
   "metadata": {},
   "outputs": [],
   "source": [
    "svr = SVR()"
   ]
  },
  {
   "cell_type": "code",
   "execution_count": 102,
   "id": "9f7d5dff",
   "metadata": {},
   "outputs": [
    {
     "name": "stdout",
     "output_type": "stream",
     "text": [
      "r2 score -0.8009266207527665\n",
      "MSE 0.0018311531532048653\n",
      "MAE 0.036847405355985165\n"
     ]
    }
   ],
   "source": [
    "svr.fit(X_trainall, y_trainall)\n",
    "y_pred_all = svr.predict(X_testall)\n",
    "print('r2 score', r2_score(y_testall, y_pred_all))\n",
    "print('MSE', mean_squared_error(y_testall, y_pred_all))\n",
    "print(\"MAE\",mean_absolute_error(y_testall,y_pred_all))"
   ]
  },
  {
   "cell_type": "markdown",
   "id": "3a58177f",
   "metadata": {},
   "source": [
    "### Gradient Boosting Model Optimization"
   ]
  },
  {
   "cell_type": "code",
   "execution_count": 110,
   "id": "85d753da",
   "metadata": {},
   "outputs": [],
   "source": [
    "# dfall\n",
    "GBR.fit(X_trainall, y_trainall)\n",
    "y_pred_all = GBR.predict(X_testall)"
   ]
  },
  {
   "cell_type": "markdown",
   "id": "8d3ffd79",
   "metadata": {},
   "source": [
    "#### Randomized Search CV"
   ]
  },
  {
   "cell_type": "code",
   "execution_count": 111,
   "id": "39950368",
   "metadata": {},
   "outputs": [
    {
     "data": {
      "text/plain": [
       "GradientBoostingRegressor(learning_rate=0.36028584114209183, max_depth=5,\n",
       "                          n_estimators=138, subsample=0.793574557475448)"
      ]
     },
     "execution_count": 111,
     "metadata": {},
     "output_type": "execute_result"
    }
   ],
   "source": [
    "parameters = {'learning_rate': sp_randFloat(), 'subsample': sp_randFloat(), 'n_estimators': sp_randInt(100,1000),\n",
    "             'max_depth': sp_randInt(4,10)}\n",
    "\n",
    "random = RandomizedSearchCV(estimator=GBR, param_distributions = parameters, cv = 2, n_iter = 10, n_jobs = -1)\n",
    "random.fit(X_trainall, y_trainall)\n",
    "\n",
    "# best estimators\n",
    "random.best_estimator_\n"
   ]
  },
  {
   "cell_type": "code",
   "execution_count": 112,
   "id": "76f39a48",
   "metadata": {},
   "outputs": [
    {
     "data": {
      "text/plain": [
       "-0.009968785165207772"
      ]
     },
     "execution_count": 112,
     "metadata": {},
     "output_type": "execute_result"
    }
   ],
   "source": [
    "# best score\n",
    "random.best_score_"
   ]
  },
  {
   "cell_type": "code",
   "execution_count": 113,
   "id": "b288d096",
   "metadata": {},
   "outputs": [
    {
     "data": {
      "text/plain": [
       "{'learning_rate': 0.36028584114209183,\n",
       " 'max_depth': 5,\n",
       " 'n_estimators': 138,\n",
       " 'subsample': 0.793574557475448}"
      ]
     },
     "execution_count": 113,
     "metadata": {},
     "output_type": "execute_result"
    }
   ],
   "source": [
    "# best parameters\n",
    "random.best_params_"
   ]
  },
  {
   "cell_type": "markdown",
   "id": "3c978008",
   "metadata": {},
   "source": [
    "#### Grid Search CV"
   ]
  },
  {
   "cell_type": "code",
   "execution_count": 114,
   "id": "20e0cb15",
   "metadata": {},
   "outputs": [
    {
     "data": {
      "text/plain": [
       "GridSearchCV(cv=2, estimator=GradientBoostingRegressor(), n_jobs=-1,\n",
       "             param_grid={'learning_rate': [0.01, 0.02, 0.03, 0.04],\n",
       "                         'max_depth': [4, 6, 8, 10],\n",
       "                         'n_estimators': [100, 500, 1000, 1500],\n",
       "                         'subsample': [0.9, 0.5, 0.2, 0.01]})"
      ]
     },
     "execution_count": 114,
     "metadata": {},
     "output_type": "execute_result"
    }
   ],
   "source": [
    "parameters = {'learning_rate': [0.01, 0.02, 0.03, 0.04], 'subsample': [0.9,0.5,0.2, 0.01], 'n_estimators': [100,500,1000, 1500],\n",
    "             'max_depth': [4,6,8, 10]}\n",
    "\n",
    "grid = GridSearchCV(estimator=GBR, param_grid = parameters, cv = 2, n_jobs = -1)\n",
    "grid.fit(X_trainall, y_trainall)\n"
   ]
  },
  {
   "cell_type": "code",
   "execution_count": 115,
   "id": "a4b7a326",
   "metadata": {},
   "outputs": [
    {
     "data": {
      "text/plain": [
       "GradientBoostingRegressor(learning_rate=0.01, max_depth=10, subsample=0.5)"
      ]
     },
     "execution_count": 115,
     "metadata": {},
     "output_type": "execute_result"
    }
   ],
   "source": [
    "# best estimator\n",
    "grid.best_estimator_"
   ]
  },
  {
   "cell_type": "code",
   "execution_count": 116,
   "id": "6a905bcd",
   "metadata": {},
   "outputs": [
    {
     "data": {
      "text/plain": [
       "0.10722035563622995"
      ]
     },
     "execution_count": 116,
     "metadata": {},
     "output_type": "execute_result"
    }
   ],
   "source": [
    "# best score\n",
    "grid.best_score_"
   ]
  },
  {
   "cell_type": "code",
   "execution_count": 117,
   "id": "94bbbf83",
   "metadata": {},
   "outputs": [
    {
     "data": {
      "text/plain": [
       "{'learning_rate': 0.01, 'max_depth': 10, 'n_estimators': 100, 'subsample': 0.5}"
      ]
     },
     "execution_count": 117,
     "metadata": {},
     "output_type": "execute_result"
    }
   ],
   "source": [
    "# best parameters\n",
    "grid.best_params_"
   ]
  },
  {
   "cell_type": "code",
   "execution_count": 118,
   "id": "1fd0ef26",
   "metadata": {},
   "outputs": [],
   "source": [
    "# optmize model\n",
    "# dfall\n",
    "GBR = GradientBoostingRegressor(learning_rate=0.02, max_depth=8, n_estimators=500,\n",
    "                          subsample=0.2)\n",
    "GBR.fit(X_trainall, y_trainall)\n",
    "y_pred_all = GBR.predict(X_testall)"
   ]
  },
  {
   "cell_type": "code",
   "execution_count": 119,
   "id": "992c6281",
   "metadata": {},
   "outputs": [
    {
     "name": "stdout",
     "output_type": "stream",
     "text": [
      "r2 score 0.4843253356931738\n",
      "MSE 0.000524329684892218\n",
      "MAE 0.017777319195332902\n"
     ]
    }
   ],
   "source": [
    "print('r2 score', r2_score(y_testall, y_pred_all))\n",
    "print('MSE', mean_squared_error(y_testall, y_pred_all))\n",
    "print(\"MAE\",mean_absolute_error(y_testall,y_pred_all))"
   ]
  }
 ],
 "metadata": {
  "kernelspec": {
   "display_name": "Python 3",
   "language": "python",
   "name": "python3"
  },
  "language_info": {
   "codemirror_mode": {
    "name": "ipython",
    "version": 3
   },
   "file_extension": ".py",
   "mimetype": "text/x-python",
   "name": "python",
   "nbconvert_exporter": "python",
   "pygments_lexer": "ipython3",
   "version": "3.8.8"
  }
 },
 "nbformat": 4,
 "nbformat_minor": 5
}
