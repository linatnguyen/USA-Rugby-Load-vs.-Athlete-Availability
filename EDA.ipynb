{
 "cells": [
  {
   "cell_type": "markdown",
   "id": "1ce09549",
   "metadata": {},
   "source": [
    "## USA Rugby EDA\n",
    "### on player availability, daily wellness, sonra"
   ]
  },
  {
   "cell_type": "code",
   "execution_count": 1,
   "id": "c8a2f7a5",
   "metadata": {},
   "outputs": [],
   "source": [
    "import pandas as pd"
   ]
  },
  {
   "cell_type": "code",
   "execution_count": 2,
   "id": "d5be0208",
   "metadata": {},
   "outputs": [],
   "source": [
    "avail = pd.read_csv('/Users/linanguyen/Desktop/Capstone/daily availability excel report.csv')"
   ]
  },
  {
   "cell_type": "code",
   "execution_count": 4,
   "id": "94862f06",
   "metadata": {},
   "outputs": [
    {
     "data": {
      "text/plain": [
       "Index(['Date', 'About', 'Primary Team', 'Primary 15s Position',\n",
       "       'Primary 7s Position', 'Index no.', 'Today's Index', 'Record Count',\n",
       "       'Today's BW', 'Today's Mood', 'Today's Sleep', 'Today's Overall Stress',\n",
       "       'Today's Fatigue', 'Today's Soreness', 'Today's Soreness Areas',\n",
       "       'Field Status Linked', 'Field Status', 'Gym Status Linked',\n",
       "       'Gym Status', 'Status Override', 'Daily Note', 'Daily Note Y or N',\n",
       "       'Field Status Player Cards', 'Status PC Override', 'Date of Return',\n",
       "       'Injury Diagnosis', 'Injury Comments', 'Today's GPS ACWR',\n",
       "       'Today's GPS HSR', 'Index', 'Entries Today',\n",
       "       'Number of Availability Records', 'Number of Full Participant Interim',\n",
       "       'Number of Full Participant', 'Number of Modified Interim',\n",
       "       'Number of Modified', 'Number of No Training Interim',\n",
       "       'Number of No Training', 'Number of Away Interim', 'Number of Away',\n",
       "       'Full Percentage', 'Modified Percentage', 'No Training Percentage',\n",
       "       'Away Percentage'],\n",
       "      dtype='object')"
      ]
     },
     "execution_count": 4,
     "metadata": {},
     "output_type": "execute_result"
    }
   ],
   "source": [
    "avail.columns"
   ]
  },
  {
   "cell_type": "code",
   "execution_count": 5,
   "id": "16f97bac",
   "metadata": {},
   "outputs": [],
   "source": [
    "well = pd.read_csv('/Users/linanguyen/Desktop/Capstone/daily wellness excel report.csv')"
   ]
  },
  {
   "cell_type": "code",
   "execution_count": 7,
   "id": "765d451a",
   "metadata": {},
   "outputs": [
    {
     "data": {
      "text/plain": [
       "Index(['Date', 'About', 'by', '7s Position', 'Sex',\n",
       "       'Have you had any COVID related symptoms?', 'Cough',\n",
       "       'Shortness of breath', 'Sore throat', 'Nasal congestion',\n",
       "       ...\n",
       "       'Mood Mean', 'Mood Stddev', 'Mood Z Score', 'Mood Status', 'Mood STEN',\n",
       "       'Soreness Feedback', 'Sleep Duration Feedback', 'Index',\n",
       "       'Entries in Last 30 Days', '30 Day Compliance'],\n",
       "      dtype='object', length=101)"
      ]
     },
     "execution_count": 7,
     "metadata": {},
     "output_type": "execute_result"
    }
   ],
   "source": [
    "well.columns"
   ]
  },
  {
   "cell_type": "code",
   "execution_count": 8,
   "id": "6f83fdc9",
   "metadata": {},
   "outputs": [
    {
     "name": "stderr",
     "output_type": "stream",
     "text": [
      "/Users/linanguyen/opt/anaconda3/lib/python3.8/site-packages/IPython/core/interactiveshell.py:3165: DtypeWarning: Columns (16) have mixed types.Specify dtype option on import or set low_memory=False.\n",
      "  has_raised = await self.run_ast_nodes(code_ast.body, cell_name,\n"
     ]
    }
   ],
   "source": [
    "stat = pd.read_csv('/Users/linanguyen/Desktop/Capstone/statsports sonra excel report.csv')"
   ]
  },
  {
   "cell_type": "code",
   "execution_count": 10,
   "id": "ece683f8",
   "metadata": {},
   "outputs": [
    {
     "data": {
      "text/plain": [
       "Index(['Date', 'About', 'Player', 'DOB', 'Age', 'Position', 'Month',\n",
       "       'Year Text', 'Year Number', 'Season',\n",
       "       ...\n",
       "       'HSR Monthly Load', 'HSR AC', 'Running Distance AC',\n",
       "       'Z6 Distance 7 Day Load', 'Z6 Distance 28 Day Load',\n",
       "       'Sprint Distance Monthly', 'Z6 Distance AC', 'HI A+D 7 Day Load',\n",
       "       'HI A+D 28 Day Load', 'HI A+D AC'],\n",
       "      dtype='object', length=318)"
      ]
     },
     "execution_count": 10,
     "metadata": {},
     "output_type": "execute_result"
    }
   ],
   "source": [
    "stat.columns"
   ]
  },
  {
   "cell_type": "code",
   "execution_count": null,
   "id": "3750502a",
   "metadata": {},
   "outputs": [],
   "source": []
  }
 ],
 "metadata": {
  "kernelspec": {
   "display_name": "Python 3",
   "language": "python",
   "name": "python3"
  },
  "language_info": {
   "codemirror_mode": {
    "name": "ipython",
    "version": 3
   },
   "file_extension": ".py",
   "mimetype": "text/x-python",
   "name": "python",
   "nbconvert_exporter": "python",
   "pygments_lexer": "ipython3",
   "version": "3.8.8"
  }
 },
 "nbformat": 4,
 "nbformat_minor": 5
}
